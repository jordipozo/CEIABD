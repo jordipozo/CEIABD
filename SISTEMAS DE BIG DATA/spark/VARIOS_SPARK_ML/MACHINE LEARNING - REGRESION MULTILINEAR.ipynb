{
 "cells": [
  {
   "cell_type": "markdown",
   "metadata": {
    "application/vnd.databricks.v1+cell": {
     "cellMetadata": {},
     "inputWidgets": {},
     "nuid": "9306b549-8ec7-496c-ba31-6dadac0f8b13",
     "showTitle": false,
     "title": ""
    }
   },
   "source": [
    "# REGRESIÓN MULTILINEAR"
   ]
  },
  {
   "cell_type": "code",
   "execution_count": 0,
   "metadata": {
    "application/vnd.databricks.v1+cell": {
     "cellMetadata": {
      "byteLimit": 2048000,
      "rowLimit": 10000
     },
     "inputWidgets": {},
     "nuid": "524ad9af-379c-495e-9daa-c165a981db77",
     "showTitle": false,
     "title": ""
    }
   },
   "outputs": [],
   "source": [
    "# Definición de contexto\n",
    "from pyspark.sql import SparkSession\n",
    "spark = SparkSession.builder.getOrCreate()\n",
    "sc = spark.sparkContext"
   ]
  },
  {
   "cell_type": "code",
   "execution_count": 0,
   "metadata": {
    "application/vnd.databricks.v1+cell": {
     "cellMetadata": {
      "byteLimit": 2048000,
      "rowLimit": 10000
     },
     "inputWidgets": {},
     "nuid": "473fdb43-5ca8-4187-8048-2b1c1d534755",
     "showTitle": false,
     "title": ""
    }
   },
   "outputs": [
    {
     "output_type": "display_data",
     "data": {
      "application/vnd.databricks.v1+bamboolib_hint": "{\"pd.DataFrames\": [], \"version\": \"0.0.1\"}",
      "text/plain": []
     },
     "metadata": {},
     "output_type": "display_data"
    }
   ],
   "source": [
    "# Importamos librerías necesarias\n",
    "from pyspark.sql import SparkSession\n",
    "from pyspark.sql import SQLContext\n",
    "from pyspark.ml.feature import VectorAssembler\n",
    "from pyspark.ml.feature import StringIndexer\n",
    "from pyspark.ml.evaluation import RegressionEvaluator\n",
    "from pyspark.ml.feature import VectorIndexer\n",
    "from pyspark.ml.linalg import Vectors\n",
    "from pyspark.ml.regression import LinearRegression\n",
    "import matplotlib.pyplot as plt\n",
    "import pandas as pd\n",
    "import numpy as np"
   ]
  },
  {
   "cell_type": "markdown",
   "metadata": {
    "application/vnd.databricks.v1+cell": {
     "cellMetadata": {},
     "inputWidgets": {},
     "nuid": "2abc2cc1-2ee6-49b1-9a1c-751f008f0ed2",
     "showTitle": false,
     "title": ""
    }
   },
   "source": [
    "## CARGA DEL DATASET"
   ]
  },
  {
   "cell_type": "code",
   "execution_count": 0,
   "metadata": {
    "application/vnd.databricks.v1+cell": {
     "cellMetadata": {
      "byteLimit": 2048000,
      "rowLimit": 10000
     },
     "inputWidgets": {},
     "nuid": "90e39ecf-ef3e-45b9-a240-05a0f311bd14",
     "showTitle": false,
     "title": ""
    }
   },
   "outputs": [
    {
     "output_type": "stream",
     "name": "stdout",
     "output_type": "stream",
     "text": [
      "Out[3]: ['Formatted Date',\n 'Summary',\n 'Precip Type',\n 'Temperature (C)',\n 'Apparent Temperature (C)',\n 'Humidity',\n 'Wind Speed (km/h)',\n 'Wind Bearing (degrees)',\n 'Visibility (km)',\n 'Loud Cover',\n 'Pressure (millibars)',\n 'Daily Summary']"
     ]
    }
   ],
   "source": [
    "#Loading data\n",
    "loaded_data = spark.read.csv('/FileStore/tables/weatherHistory.csv',inferSchema=True, header=True)\n",
    "#To check the columns of dataframe\n",
    "loaded_data.columns"
   ]
  },
  {
   "cell_type": "markdown",
   "metadata": {
    "application/vnd.databricks.v1+cell": {
     "cellMetadata": {},
     "inputWidgets": {},
     "nuid": "76a53ed5-915e-4855-9b55-ae7a2fc854ee",
     "showTitle": false,
     "title": ""
    }
   },
   "source": [
    "## PREPARACIÓN DE LOS DATOS\n",
    "\n",
    "En este apartado, se realiza la adecuación de los datos que acabamos de cargar y se realizan diversos procesos que, seguidamente, se pasan a comentar paso a paso revisando qué hace cada parte del bloque de código:\n",
    "\n",
    "1. **VectorAssembler**:\n",
    "   - `VectorAssembler` es una transformación que combina una lista dada de columnas en una única columna de vectores. Esto es útil para combinar características en un formato que los algoritmos de aprendizaje automático pueden consumir.\n",
    "   - `inputCols`: especifica las columnas del dataframe que se quieren incluir como características.\n",
    "   - `outputCol`: especifica el nombre de la nueva columna que contendrá el vector de características.\n",
    "   - En este caso, `get_assembler` toma las columnas especificadas como temperatura, humedad, velocidad del viento, etc., y las combina en una nueva columna llamada `get_feature`.\n",
    "\n",
    "2. **Transformación y visualización**:\n",
    "   - `get_assembler.transform(loaded_data)` aplica la transformación `VectorAssembler` al dataframe `loaded_data`.\n",
    "   - `op_assembler.show()` muestra las primeras filas del dataframe transformado para verificar que la nueva columna `get_feature` se ha añadido correctamente.\n",
    "\n",
    "3. **StringIndexer**:\n",
    "   - `StringIndexer` convierte una columna de etiquetas de cadena en etiquetas de índice numérico. Esto es necesario porque muchos algoritmos de ML en Spark esperan que las etiquetas sean numéricas.\n",
    "   - `inputCol`: la columna que contiene las etiquetas de cadena.\n",
    "   - `outputCol`: la columna resultante con índices numéricos.\n",
    "   - `get_indexer = StringIndexer(inputCol='Summary', outputCol='summary_index')` crea un `StringIndexer` que transformará la columna `Summary` en una columna de índices numéricos llamada `summary_index`.\n",
    "\n",
    "4. **Aplicación de StringIndexer y selección de columnas**:\n",
    "   - `finalized_data = get_indexer.fit(op_assembler).transform(op_assembler)` ajusta el `StringIndexer` al dataframe `op_assembler` y luego lo transforma, añadiendo la columna `summary_index`.\n",
    "   - `finalized_data = finalized_data.select(\"get_feature\", \"summary_index\")` selecciona solo las columnas de características vectorizadas y las etiquetas indexadas, dejando de lado otras columnas del dataframe original.\n",
    "\n",
    "5. **División de datos**:\n",
    "   - `training_data, testing_data = finalized_data.randomSplit([0.7,0.3])` divide el dataframe en dos subconjuntos: uno para entrenamiento (70% de los datos) y otro para prueba (30% de los datos). Esto se hace comúnmente para poder entrenar modelos en un conjunto de datos y evaluarlos en otro independiente para verificar su desempeño.\n",
    "\n",
    "\n",
    "En resumen, el siguiente bloque de código prepara un conjunto de datos para un proceso de modelado supervisado, organizando y transformando las características y etiquetas de manera adecuada para su uso en modelos de aprendizaje automático en Spark."
   ]
  },
  {
   "cell_type": "code",
   "execution_count": 0,
   "metadata": {
    "application/vnd.databricks.v1+cell": {
     "cellMetadata": {
      "byteLimit": 2048000,
      "rowLimit": 10000
     },
     "inputWidgets": {},
     "nuid": "9e31dcb2-bd06-4ba8-9e27-d44d11c01fbd",
     "showTitle": false,
     "title": ""
    }
   },
   "outputs": [
    {
     "output_type": "stream",
     "name": "stdout",
     "output_type": "stream",
     "text": [
      "+-------------------+-------------+-----------+------------------+------------------------+--------+------------------+----------------------+------------------+----------+--------------------+--------------------+--------------------+\n|     Formatted Date|      Summary|Precip Type|   Temperature (C)|Apparent Temperature (C)|Humidity| Wind Speed (km/h)|Wind Bearing (degrees)|   Visibility (km)|Loud Cover|Pressure (millibars)|       Daily Summary|         get_feature|\n+-------------------+-------------+-----------+------------------+------------------------+--------+------------------+----------------------+------------------+----------+--------------------+--------------------+--------------------+\n|2006-03-31 22:00:00|Partly Cloudy|       rain| 9.472222222222221|      7.3888888888888875|    0.89|           14.1197|                 251.0|15.826300000000002|       0.0|             1015.13|Partly cloudy thr...|[9.47222222222222...|\n|2006-03-31 23:00:00|Partly Cloudy|       rain| 9.355555555555558|       7.227777777777776|    0.86|           14.2646|                 259.0|15.826300000000002|       0.0|             1015.63|Partly cloudy thr...|[9.35555555555555...|\n|2006-04-01 00:00:00|Mostly Cloudy|       rain| 9.377777777777778|       9.377777777777778|    0.89|3.9284000000000003|                 204.0|           14.9569|       0.0|             1015.94|Partly cloudy thr...|[9.37777777777777...|\n|2006-04-01 01:00:00|Partly Cloudy|       rain|  8.28888888888889|       5.944444444444446|    0.83|           14.1036|                 269.0|15.826300000000002|       0.0|             1016.41|Partly cloudy thr...|[8.28888888888889...|\n|2006-04-01 02:00:00|Mostly Cloudy|       rain| 8.755555555555553|       6.977777777777779|    0.83|           11.0446|                 259.0|15.826300000000002|       0.0|             1016.51|Partly cloudy thr...|[8.75555555555555...|\n|2006-04-01 03:00:00|Partly Cloudy|       rain| 9.222222222222221|        7.11111111111111|    0.85|           13.9587|                 258.0|           14.9569|       0.0|             1016.66|Partly cloudy thr...|[9.22222222222222...|\n|2006-04-01 04:00:00|Partly Cloudy|       rain| 7.733333333333334|       5.522222222222221|    0.95|           12.3648|                 259.0| 9.982000000000001|       0.0|             1016.72|Partly cloudy thr...|[7.73333333333333...|\n|2006-04-01 05:00:00|Partly Cloudy|       rain|  8.77222222222222|       6.527777777777778|    0.89|           14.1519|                 260.0| 9.982000000000001|       0.0|             1016.84|Partly cloudy thr...|[8.77222222222222...|\n|2006-04-01 06:00:00|Partly Cloudy|       rain| 10.82222222222222|       10.82222222222222|    0.82|           11.3183|                 259.0| 9.982000000000001|       0.0|             1017.37|Partly cloudy thr...|[10.8222222222222...|\n|2006-04-01 07:00:00|Partly Cloudy|       rain| 13.77222222222222|       13.77222222222222|    0.72|12.525800000000002|                 279.0| 9.982000000000001|       0.0|             1017.22|Partly cloudy thr...|[13.7722222222222...|\n|2006-04-01 08:00:00|Partly Cloudy|       rain|16.016666666666666|      16.016666666666666|    0.67|           17.5651|                 290.0|           11.2056|       0.0|             1017.42|Partly cloudy thr...|[16.0166666666666...|\n|2006-04-01 09:00:00|Partly Cloudy|       rain|17.144444444444446|      17.144444444444446|    0.54|           19.7869|                 316.0|           11.4471|       0.0|             1017.74|Partly cloudy thr...|[17.1444444444444...|\n|2006-04-01 10:00:00|Partly Cloudy|       rain|17.800000000000004|      17.800000000000004|    0.55|21.944300000000002|                 281.0|11.270000000000001|       0.0|             1017.59|Partly cloudy thr...|[17.8000000000000...|\n|2006-04-01 11:00:00|Partly Cloudy|       rain|17.333333333333332|      17.333333333333332|    0.51|           20.6885|                 289.0|11.270000000000001|       0.0|             1017.48|Partly cloudy thr...|[17.3333333333333...|\n|2006-04-01 12:00:00|Partly Cloudy|       rain| 18.87777777777778|       18.87777777777778|    0.47|15.375500000000002|                 262.0|           11.4471|       0.0|             1017.17|Partly cloudy thr...|[18.8777777777777...|\n|2006-04-01 13:00:00|Partly Cloudy|       rain|18.911111111111115|      18.911111111111115|    0.46|           10.4006|                 288.0|11.270000000000001|       0.0|             1016.47|Partly cloudy thr...|[18.9111111111111...|\n|2006-04-01 14:00:00|Partly Cloudy|       rain| 15.38888888888889|       15.38888888888889|     0.6|           14.4095|                 251.0|11.270000000000001|       0.0|             1016.15|Partly cloudy thr...|[15.3888888888888...|\n|2006-04-01 15:00:00|Mostly Cloudy|       rain|15.550000000000002|      15.550000000000002|    0.63|11.157300000000001|                 230.0|           11.4471|       0.0|             1016.17|Partly cloudy thr...|[15.5500000000000...|\n|2006-04-01 16:00:00|Mostly Cloudy|       rain|14.255555555555553|      14.255555555555553|    0.69|            8.5169|                 163.0|           11.2056|       0.0|             1015.82|Partly cloudy thr...|[14.2555555555555...|\n|2006-04-01 17:00:00|Mostly Cloudy|       rain|13.144444444444442|      13.144444444444442|     0.7| 7.631400000000001|                 139.0|           11.2056|       0.0|             1015.83|Partly cloudy thr...|[13.1444444444444...|\n+-------------------+-------------+-----------+------------------+------------------------+--------+------------------+----------------------+------------------+----------+--------------------+--------------------+--------------------+\nonly showing top 20 rows\n\n"
     ]
    }
   ],
   "source": [
    "#Conversión a un vector \n",
    "get_assembler = VectorAssembler(inputCols=['Temperature (C)',\n",
    " 'Apparent Temperature (C)',\n",
    " 'Humidity',\n",
    " 'Wind Speed (km/h)',\n",
    " 'Wind Bearing (degrees)',\n",
    " 'Visibility (km)',\n",
    " 'Loud Cover',\n",
    " 'Pressure (millibars)'],outputCol='get_feature')\n",
    "op_assembler = get_assembler.transform(loaded_data)\n",
    "op_assembler.show()\n",
    "get_indexer = StringIndexer(inputCol='Summary', outputCol='summary_index')\n",
    "finalized_data = get_indexer.fit(op_assembler).transform(op_assembler)\n",
    "finalized_data = finalized_data.select(\"get_feature\", \"summary_index\")\n",
    "training_data, testing_data = finalized_data.randomSplit([0.7,0.3])"
   ]
  },
  {
   "cell_type": "markdown",
   "metadata": {
    "application/vnd.databricks.v1+cell": {
     "cellMetadata": {},
     "inputWidgets": {},
     "nuid": "d3372842-b334-4f7a-8587-7982a0b6e7ac",
     "showTitle": false,
     "title": ""
    }
   },
   "source": [
    "## CREACIÓN, ENTRENAMIENTO Y EVALUACIÓN DEL MODELO DE REGRESIÓN\n",
    "\n",
    "El siguiente bloque de código implementa y evalúa un modelo de regresión lineal. A continuación se comenta cada uno de sus apartados:\n",
    "\n",
    "1. **Creación del Modelo de Regresión Lineal**:\n",
    "   - `LinearRegression(featuresCol=\"get_feature\", labelCol=\"summary_index\")`:  crea una instancia del modelo de regresión lineal. El argumento `featuresCol` especifica el nombre de la columna que contiene las características del modelo (en este caso, la columna de vectores creada por `VectorAssembler`), y `labelCol` especifica la columna que contiene la variable objetivo o etiqueta (los índices numéricos de la columna `Summary` creados por `StringIndexer`).\n",
    "\n",
    "2. **Entrenamiento del Modelo**:\n",
    "   - `lr_model = lr.fit(training_data)`: Esta línea entrena el modelo de regresión lineal utilizando los datos de entrenamiento (`training_data`). El modelo resultante (`lr_model`) incluirá los coeficientes (pesos) y el término de interceptación aprendidos a partir de los datos de entrenamiento.\n",
    "\n",
    "3. **Evaluación del Modelo**:\n",
    "   - `test_results = lr_model.evaluate(testing_data)`: Después de entrenar el modelo, este se evalúa utilizando el conjunto de datos de prueba (`testing_data`). El método `evaluate` aplica el modelo entrenado a los datos de prueba para predecir las etiquetas y calcular métricas de evaluación.\n",
    "   - `test_results.residuals.show()`: Los residuos son las diferencias entre los valores observados de la variable dependiente en el conjunto de datos de prueba y los valores predichos por el modelo. Esta línea muestra los residuos de cada punto en el conjunto de datos de prueba. La visualización de residuos puede ayudar a diagnosticar problemas con el modelo, como si los errores son consistentemente altos en ciertas áreas, lo que puede indicar un ajuste insuficiente o la presencia de valores atípicos.\n",
    "\n",
    "En resumen, este bloque de código entrena un modelo de regresión lineal sobre un conjunto de características y etiquetas, evalúa su desempeño en un conjunto de datos de prueba, y luego muestra los residuos para analizar la precisión de las predicciones del modelo. La visualización de los residuos es una parte crucial del análisis de regresión, ya que proporciona información sobre la adecuación del modelo y la naturaleza de los errores que comete."
   ]
  },
  {
   "cell_type": "markdown",
   "metadata": {
    "application/vnd.databricks.v1+cell": {
     "cellMetadata": {},
     "inputWidgets": {},
     "nuid": "a1321297-ae08-474a-b839-74108121c37e",
     "showTitle": false,
     "title": ""
    }
   },
   "source": [
    "#### NOTA\n",
    "\n",
    "El término de **interceptación** en un modelo de regresión lineal, también conocido como el término independiente o el coeficiente de intercepción, es un componente fundamental del modelo. Aquí te explico qué es y qué indica:\n",
    "\n",
    "1. **Qué es el término de interceptación**:\n",
    "   - En la ecuación de un modelo de regresión lineal, \\( y = b_0 + b_1x_1 + b_2x_2 + \\cdots + b_nx_n \\), donde \\( y \\) es la variable dependiente, \\( x_1, x_2, \\ldots, x_n \\) son las variables independientes, y \\( b_1, b_2, \\ldots, b_n \\) son los coeficientes de esas variables, el término \\( b_0 \\) es el intercepto.\n",
    "   - Este coeficiente \\( b_0 \\) representa el valor esperado de \\( y \\) cuando todas las variables independientes (\\( x \\)) son iguales a cero. \n",
    "\n",
    "2. **Qué indica el término de interceptación**:\n",
    "   - **Punto de partida**: El intercepto muestra dónde la línea de regresión intercepta el eje \\( y \\) en un gráfico de dispersión cuando todas las variables independientes son cero. Es el valor base de la variable dependiente antes de que se considere cualquier influencia de las variables independientes.\n",
    "   - **Valor esperado base**: Si todas las variables predictoras son cero, el intercepto es el valor promedio esperado de la variable respuesta. Por ejemplo, en un contexto de negocio, si el modelo predice ventas basadas en gastos de publicidad y precio del producto, el intercepto representaría las ventas esperadas cuando los gastos de publicidad y el precio son cero (suponiendo que sea un escenario posible).\n",
    "   - **Bias o sesgo del modelo**: Sin el término de interceptación, el modelo forzaría la línea de regresión a pasar por el origen (0,0), lo que puede no ser adecuado o realista para muchos tipos de datos y podría resultar en un modelo sesgado.\n",
    "\n",
    "En resumen, el término de **interceptación** es esencial para ajustar correctamente un modelo de regresión a los datos. Permite que el modelo se alinee adecuadamente con los datos, proporcionando un punto de partida que refleja la influencia de tener todas las variables independientes en cero. Además, ayuda a interpretar el modelo, ofreciendo una línea de base desde la cual se pueden medir los efectos de las variables predictoras."
   ]
  },
  {
   "cell_type": "code",
   "execution_count": 0,
   "metadata": {
    "application/vnd.databricks.v1+cell": {
     "cellMetadata": {
      "byteLimit": 2048000,
      "rowLimit": 10000
     },
     "inputWidgets": {},
     "nuid": "477c8ef4-24b2-4b7d-b344-f815791b330b",
     "showTitle": false,
     "title": ""
    }
   },
   "outputs": [
    {
     "output_type": "stream",
     "name": "stdout",
     "output_type": "stream",
     "text": [
      "+-------------------+\n|          residuals|\n+-------------------+\n| 0.5896005541915543|\n| 0.6991642906989717|\n| 0.9211068106960454|\n| 0.5035256849566645|\n|   1.06807477198541|\n| 1.2558119396123668|\n|0.46118098981015443|\n| 1.2676181533810533|\n|   1.17914390204034|\n| 1.2781356771689318|\n|-1.7493674029641388|\n| 1.1206908258973693|\n|0.23472835642952283|\n|0.44601858852399867|\n| 1.2891959862362974|\n|  1.249596077313527|\n| 0.3504283295639927|\n|-1.2733631644766095|\n| 1.2661017947341178|\n|-1.0689118539883173|\n+-------------------+\nonly showing top 20 rows\n\n"
     ]
    }
   ],
   "source": [
    "#CREACIÓN DEL MODELO\n",
    "lr = LinearRegression(featuresCol=\"get_feature\", labelCol=\"summary_index\",)\n",
    "#ENTRENAMIENTO DEL MODELO\n",
    "lr_model = lr.fit(training_data)\n",
    "#EVALUACIÓN DEL MODELO\n",
    "test_results = lr_model.evaluate(testing_data)\n",
    "test_results.residuals.show()"
   ]
  },
  {
   "cell_type": "markdown",
   "metadata": {
    "application/vnd.databricks.v1+cell": {
     "cellMetadata": {},
     "inputWidgets": {},
     "nuid": "b4e4c487-6166-4df8-bc90-73e9a51e5a66",
     "showTitle": false,
     "title": ""
    }
   },
   "source": [
    "### EVALUACIÓN SOBRE CONJUNTO DE TEST\n",
    "El siguiente bloque de código lleva a cabo varias operaciones relacionadas con la evaluación de un modelo de regresión lineal en Spark y el análisis preliminar de los datos de entrenamiento. A continuación, se detalla cada paso y su función:\n",
    "\n",
    "1. **Evaluación del Modelo con Datos de Prueba**:\n",
    "   - `get_prediction = lr_model.transform(testing_data)`: Esta línea utiliza el modelo de regresión lineal `lr_model` entrenado previamente para predecir la variable dependiente (denominada `summary_index` en este contexto) utilizando el conjunto de datos de prueba (`testing_data`). El método `transform` aplica el modelo a los datos de prueba y añade una columna de predicciones al DataFrame.\n",
    "   - `get_prediction.show()`: Muestra las primeras filas del DataFrame de resultados, incluyendo las predicciones hechas por el modelo. Esto permite ver rápidamente cómo el modelo está realizando predicciones con respecto a los datos reales y cualquier otra columna que esté en el DataFrame.\n",
    "\n",
    "2. **Análisis Descriptivo de los Datos de Entrenamiento**:\n",
    "   - `training_data.describe().show()`: Este comando genera estadísticas descriptivas para todas las columnas numéricas en el DataFrame de datos de entrenamiento (`training_data`). Esto incluye contar, media, desviación estándar, mínimo y máximo. Es útil para obtener una visión general de la distribución de los datos, detectar valores atípicos, y entender las escalas de las variables.\n",
    "\n",
    "3. **Preparación de Datos para Análisis o Visualización en Python**:\n",
    "   - `train = training_data.select(\"get_feature\",\"summary_index\").toPandas()`: Esta línea selecciona solo las columnas \"get_feature\" y \"summary_index\" del DataFrame de Spark y las convierte a un DataFrame de pandas. Esto es comúnmente realizado para facilitar análisis más detallados o visualizaciones utilizando bibliotecas de Python, que a menudo tienen más opciones y flexibilidad que las disponibles directamente en Spark.\n",
    "   - `train_get_feature = train['get_feature']`: Extrae la columna \"get_feature\" del DataFrame de pandas `train` y la guarda en la variable `train_get_feature`. \"get_feature\" contiene vectores de características utilizadas en el modelo.\n",
    "   - `train_get_feature = list(train_get_feature)`: Convierte la serie pandas que contiene los vectores de características a una lista de Python. Esto es útil para iteraciones o transformaciones posteriores.\n",
    "   - `train_get_salary = train['summary_index']`: Extrae la columna \"summary_index\" del DataFrame de pandas y la guarda en la variable `train_get_salary`. Esta columna contiene los valores de la variable dependiente para los datos de entrenamiento.\n",
    "\n",
    "Por tanto, este código evalúa el rendimiento del modelo de regresión lineal en el conjunto de datos de prueba, proporciona estadísticas descriptivas sobre los datos de entrenamiento y prepara los datos para análisis adicionales o visualización."
   ]
  },
  {
   "cell_type": "code",
   "execution_count": 0,
   "metadata": {
    "application/vnd.databricks.v1+cell": {
     "cellMetadata": {
      "byteLimit": 2048000,
      "rowLimit": 10000
     },
     "inputWidgets": {},
     "nuid": "4ac53730-3715-4886-84b1-edb3bac33f52",
     "showTitle": false,
     "title": ""
    }
   },
   "outputs": [
    {
     "output_type": "stream",
     "name": "stdout",
     "output_type": "stream",
     "text": [
      "+--------------------+-------------+------------------+\n|         get_feature|summary_index|        prediction|\n+--------------------+-------------+------------------+\n|(8,[0,1,2,5],[6.1...|          4.0|3.4103994458084457|\n|(8,[0,1,2,5],[8.8...|          3.0|2.3008357093010283|\n|(8,[0,1,2,5],[11....|          3.0|2.0788931893039546|\n|(8,[2,3,4,5],[0.8...|          3.0|2.4964743150433355|\n|[-14.088888888888...|          3.0|  1.93192522801459|\n|[-14.033333333333...|          3.0|1.7441880603876332|\n|[-14.022222222222...|          3.0|2.5388190101898456|\n|[-13.0,-13.0,0.87...|          3.0|1.7323818466189467|\n|[-12.850000000000...|          3.0|  1.82085609795966|\n|[-12.805555555555...|          3.0|1.7218643228310682|\n|[-12.711111111111...|          0.0|1.7493674029641388|\n|[-12.688888888888...|          3.0|1.8793091741026307|\n|[-12.577777777777...|          2.0|1.7652716435704772|\n|[-12.55,-21.75,0....|          2.0|1.5539814114760013|\n|[-12.422222222222...|          3.0|1.7108040137637026|\n|[-11.866666666666...|          3.0| 1.750403922686473|\n|[-11.555555555555...|          2.0|1.6495716704360073|\n|[-10.694444444444...|          1.0|2.2733631644766095|\n|[-10.65,-10.65,0....|          3.0|1.7338982052658822|\n|[-10.627777777777...|          0.0|1.0689118539883173|\n+--------------------+-------------+------------------+\nonly showing top 20 rows\n\n+-------+------------------+\n|summary|     summary_index|\n+-------+------------------+\n|  count|             67502|\n|   mean| 1.431513140351397|\n| stddev|1.6227560091846456|\n|    min|               0.0|\n|    max|              26.0|\n+-------+------------------+\n\n"
     ]
    },
    {
     "output_type": "stream",
     "name": "stderr",
     "output_type": "stream",
     "text": [
      "/databricks/spark/python/pyspark/sql/pandas/conversion.py:122: UserWarning: toPandas attempted Arrow optimization because 'spark.sql.execution.arrow.pyspark.enabled' is set to true; however, failed by the reason below:\n  Unable to convert the field get_feature. If this column is not necessary, you may consider dropping it or converting to primitive type before the conversion.\nDirect cause: Unsupported type in conversion to Arrow: VectorUDT()\nAttempting non-optimization as 'spark.sql.execution.arrow.pyspark.fallback.enabled' is set to true.\n  warn(msg)\n"
     ]
    }
   ],
   "source": [
    "#Testing dataset on lr_model\n",
    "get_prediction = lr_model.transform(testing_data)\n",
    "get_prediction.show()\n",
    "#Get_training_insights\n",
    "training_data.describe().show()\n",
    "train = training_data.select(\"get_feature\",\"summary_index\").toPandas()\n",
    "train_get_feature = train['get_feature']\n",
    "train_get_feature = list(train_get_feature)\n",
    "train_get_salary = train['summary_index']"
   ]
  },
  {
   "cell_type": "markdown",
   "metadata": {
    "application/vnd.databricks.v1+cell": {
     "cellMetadata": {},
     "inputWidgets": {},
     "nuid": "02f215a9-ecbf-4477-b104-a6220320f041",
     "showTitle": false,
     "title": ""
    }
   },
   "source": [
    "### PREDICCIÓN\n",
    "\n",
    "El código siguiente realiza una serie de operaciones para evaluar el desempeño de un modelo de regresión lineal en el conjunto de datos de entrenamiento y preparar las predicciones para análisis o visualización adicional. Estos son los pasos que se llevan a cabo:\n",
    "\n",
    "1. **Evaluación del Modelo en Datos de Entrenamiento**:\n",
    "   - `get_training_prediction = lr_model.transform(training_data)`: Utiliza el modelo de regresión lineal (`lr_model`) entrenado anteriormente para hacer predicciones sobre el mismo conjunto de datos con el que fue entrenado (`training_data`). Esto es útil para verificar cómo el modelo se comporta con los datos que ya conoce.\n",
    "   - El resultado es un DataFrame de Spark que incluye todas las columnas originales de `training_data` más una columna adicional llamada `prediction`, que contiene las predicciones del modelo para cada observación en el conjunto de datos de entrenamiento.\n",
    "\n",
    "2. **Conversión de DataFrame de Spark a DataFrame de Pandas**:\n",
    "   - `train_pred = get_training_prediction.select(\"prediction\").toPandas()`: Selecciona solo la columna `prediction` del DataFrame de Spark y la convierte en un DataFrame de Pandas. Esta operación facilita el manejo y la visualización de los datos en Python al utilizar Pandas para el análisis de datos.\n",
    "\n",
    "3. **Extracción y Conversión de Datos para Análisis o Visualización**:\n",
    "   - `prediction_train = train_pred['prediction']`: Extrae la columna de predicciones del DataFrame de Pandas `train_pred` y la guarda en la variable `prediction_train`.\n",
    "   - `prediction_list = list(prediction_train)`: Convierte la serie de Pandas que contiene las predicciones en una lista de Python. Esto es útil para operaciones que requieren estructuras de datos nativas de Python, como iterar sobre las predicciones, realizar cálculos adicionales o integrar con otras bibliotecas de Python para la visualización de datos.\n",
    "\n",
    "4. **Impresión de la Lista de Predicciones**:\n",
    "   - `print(prediction_list)`: Imprime la lista de predicciones, proporcionando una salida inmediata y directa de las predicciones generadas por el modelo para el conjunto de entrenamiento, que ayuda en la interpretación rápida de cómo el modelo está estimando los valores basados en las características aprendidas.\n",
    "\n",
    "En definitiva, el código es especialmente útil para diagnosticar y entender cómo el modelo de regresión lineal está funcionando con los datos utilizados para su entrenamiento, permitiendo identificar si hay sobreajuste, subajuste, o cualquier patrón peculiar en las predicciones."
   ]
  },
  {
   "cell_type": "code",
   "execution_count": 0,
   "metadata": {
    "application/vnd.databricks.v1+cell": {
     "cellMetadata": {
      "byteLimit": 2048000,
      "rowLimit": 10000
     },
     "inputWidgets": {},
     "nuid": "2e202a8a-1747-4efb-abf4-e8ab9f0c3f19",
     "showTitle": false,
     "title": ""
    }
   },
   "outputs": [
    {
     "output_type": "stream",
     "name": "stdout",
     "output_type": "stream",
     "text": [
      "[3.4121314801439038, 3.268153015266007, 3.182760181903813, 3.1550636910890164, 2.0118806154047943, 2.695862107196835, 2.6920053750277124, 2.593695488345456, 3.828006237397143, 1.9824361280331169, 1.8566668687312657, 1.7906449551073877, 1.7609285711324234, 2.318388517809191, 1.161957273553583, 1.0357780479519392, 1.0702056632478676, 1.731205121385658, 1.6724354360908924, 1.965804597546059, 0.970527599132438, 2.0055242882591426, 1.7208873322909617, 1.9126852491171946, 2.282079220265483, 1.673223726304738, 2.496530636586659, 1.7128491279576736, 1.849385028895292, 1.0305654986019208, 1.6676539399464805, 1.5623678877351677, 1.6621649433010575, 1.2216394255526368, 1.1033099568214229, 1.5555539555401428, 1.127594246852925, 1.8179028322190818, 1.7518593782115466, 1.7483809962528223, 1.6553026024381254, 2.4690364884355116, 1.1075089076546396, 1.6774893467393661, 0.9716802674333787, 1.5939566864711936, 1.5950287985437475, 1.7699577442596688, 2.1413938068340377, 1.632071176778894, 1.5423602262145746, 1.4296067563851693, 1.7901294265565426, 0.9262774275652588, 1.6579364326069708, 1.5198856473726405, 2.203705032074053, 1.7120572160138738, 1.6355768348997184, 1.0336049006122585, 2.849038998046914, 2.88483155886565, 1.7947519493239903, 1.662939940195256, 1.7310064661186555, 1.7305460660072551, 2.15860506914842, 0.9842338603603671, 1.1810216891276082, 1.8222829015363193, 1.9075756801346024, 2.693950762590345, 1.712350968573659, 1.5687550177600764, 2.5430308763217915, 2.1717058874107327, 1.8942198227340488, 1.5703936567760004, 2.557264428131543, 1.621035465543847, 1.7688181661890274, 1.5560200435977922, 1.787247344168378, 1.8357423447276733, 2.1591233581822626, 2.4053456854481237, 1.4036380406421824, 1.6156791666215187, 1.1235857040019053, 1.7680166244754039, 1.789671940290705, 1.5062586911149334, 1.773563237071789, 1.0701495422027663, 2.712168661239454, 1.807156403412252, 2.293528580731204, 1.5336626189548737, 1.6877705573727357, 1.062030938326537, 1.7191542493558665, 2.6601692962366528, 1.6096564527691901, 2.18957287456736, 2.200645618650392, 1.0882298748401915, 1.0467219848642269, 2.4301566847621467, 2.6479577176988984, 2.800766832192962, 0.9124520214960135, 2.089774949068575, 1.289959162482373, 1.7134545281479994, 2.7766985751229187, 2.6015795427481896, 0.9089263654513644, 1.4782876057188488, 2.201906965475727, 1.5212130673503301, 2.664528781527708, 2.2355735192883808, 2.5397454155382704, 2.511334654838675, 2.7750752105261127, 1.8482862637201956, 2.689674269571933, 2.4763190703253137, 1.7172354131943908, 1.108210267292781, 1.6287390453890258, 2.054632327587044, 2.1776369305428305, 1.6447921288140182, 2.684356573687779, 2.776124794045666, 2.591168836603706, 2.635523127757083, 2.482465536799972, 1.3094763413974304, 1.3835253276150261, 1.0810684908207264, 2.767526696746582, 2.676285302930547, 2.807278960435183, 2.7096071988893056, 2.4549237301381863, 2.699456579766008, 2.0632333022526237, 2.6174014136254016, 1.792847839938783, 2.584719317041752, 1.77835027287341, 1.350783949681369, 2.760097781883471, 1.855166397340649, 1.997017880179233, 1.8390427039452317, 2.6388535378870572, 2.3616898108908457, 2.651870478650847, 1.7384542171818962, 2.634315689298973, 1.1697905710984249, 1.532519770195277, 1.89894610541031, 1.3279231587000606, 2.713812403819289, 1.189942358554728, 2.521528779816065, 2.255589509139011, 2.4405494858558705, 2.4053794801703257, 2.73550546149056, 1.581768289762244, 1.802708229570651, 1.3064169337085947, 2.6836642504712693, 2.116305879425231, 2.294616787769386, 2.563571190367444, 1.5043813109412645, 1.9798004833375646, 1.5719135748062074, 1.6411434696076541, 2.674638084882694, 2.7213572146109497, 1.941342434232875, 2.4777179971193086, 2.4677856348238176, 2.0141361022116566, 1.8588894994989391, 2.768967901416613, 2.6339468659019647, 2.318034209601485, 2.1875370506740928, 2.011848596301957, 1.903582786291997, 2.6556319700698, 2.581915618842539, 2.645779774387446, 2.3036348489433576, 2.282589224094423, 2.452801604167477, 2.0431426183701387, 2.483526398823492, 2.7842419408473473, 2.6022836193363843, 2.4621236932303017, 2.6850760757210836, 1.729957427138856, 2.7124364475466387, 2.2858783817120516, 2.00098348810569, 1.9926186203253597, 2.1636225132280114, 2.5685785215346626, 2.6764488798645054, 1.971392654076416, 1.6816712642223228, 2.38457376058833, 2.674552290272853, 1.5622268622074182, 2.3406295526646486, 2.0606193287569177, 2.5292322547346524, 1.6271625836795414, 2.282886592605733, 2.54031000032866, 2.2999674350067156, 1.6305180643774686, 2.7574289727963643, 1.7176717185964423, 2.6432835277430344, 2.1053081791917627, 2.6313043147999498, 2.4904689231891193, 2.4718264541978137, 2.3504983680689517, 2.6199250610709472, 2.250480349070541, 2.469859758161209, 2.6191150318441236, 2.44022964584233, 1.387899293523636, 1.3001717922162728, 2.153172253122283, 2.2262175824545922, 2.421952664434004, 2.657070362478599, 2.0959738050590557, 2.349787910640349, 2.537856869820278, 2.6719382570491033, 2.3696495379639524, 1.4089245293505797, 2.0186557577207647, 0.967765296478398, 2.712097359071413, 1.8904111074480692, 1.921654240476377, 2.782607310758255, 1.7949496900373987, 1.7367471210762995, 2.4916164875714193, 2.7941380520447927, 1.6757307680326925, 2.0950356328572064, 2.8251500941179257, 1.2872873781881646, 2.7609663127379336, 2.618398804782882, 2.6496160370253836, 1.8379751824977377, 2.8381326632840373, 2.487917834904423, 2.501287993324741, 2.3612245202844258, 2.3582395959574867, 2.34743136477187, 2.339785605090805, 2.396680363724398, 1.2109224982186997, 2.737057518340338, 1.355627093997665, 1.490468465798594, 2.157775355340576, 1.9850075694555103, 2.3683741603779347, 0.7752065724687984, 2.228664255048909, 0.9107022410270469, 1.3621623164062755, 1.3962402729074563, 2.163656004693559, 1.6204387259234259, 1.2253764362127542, 0.8343952428037125, 2.662120550058997, 1.315308619361207, 1.3445817001394675, 2.357621698610553, 0.8221145724519334, 2.835893996001708, 2.420969473232337, 2.5190613936643413, 1.9777852997884025, 1.7897500228950673, 2.666431028664116, 2.535566396936341, 2.087283976252354, 2.5487749609510546, 2.4167857349355413, 1.7767606872447579, 1.4972283425970598, 1.8372254828609789, 2.0884549576872296, 1.847688972672342, 2.3204128458033146, 2.6184434387237525, 2.064493990001037, 2.040078803723672, 2.5480736816428355, 1.912815850124547, 1.6815296788514567, 2.530822132096235, 1.8848337013820329, 2.5239894490237216, 2.4880336746082925, 2.43738028715694, 2.0520857589965953, 1.4761304542117246, 1.9603604240591106, 2.703460584876849, 2.163002568384096, 2.293457825776559, 2.1898738713935204, 2.3269560310608317, 2.4397657191057114, 2.533086949995137, 2.5227269669026042, 2.6463485222865435, 1.9234406657167096, 1.9649182851397575, 2.413835332591291, 1.8829457274739678, 2.380275489124355, 2.0888982428983245, 2.548880169342518, 2.4827767855500347, 2.4435182209864594, 1.769093576343557, 1.7953128300902264, 1.934310440950581, 1.9341290599822314, 1.8717310722207665, 2.412683759687324, 1.993623532360738, 1.600631925655062, 1.861145619998069, 2.3697231462449833, 2.330801383980355, 2.657646693665069, 2.4031421766330636, 2.416717560587625, 2.6152757017124064, 2.2251026646357936, 2.297336002079845, 2.029117575042914, 2.3667609214286225, 2.3264656952682796, 2.444130783831531, 2.3139868907998515, 2.4180403551295813, 2.466235814901429, 2.4596069828901377, 2.449669330032759, 2.51731152776518, 2.6305688318537177, 2.0442393292845873, 1.9018294518470964, 1.8655153697674787, 1.9885812046817204, 1.9924000212101125, 1.9885020104318727, 2.413470827563393, 2.604736750340189, 2.536731473902181, 2.1273931931915318, 1.2003832447237244, 2.5020409977126548, 1.8684581243627585, 2.2445912703502064, 2.51732414438001, 2.4153612506954634, 2.8157167938124057, 1.6945569017174789, 2.587495016793334, 2.436816877837647, 2.486936651663071, 2.5805443054846497, 2.6139258265451537, 2.0091281550448516, 1.996361874348744, 2.0077369399458993, 1.6245589454690186, 2.5592519883692493, 2.4173920639133417, 2.2357609802633815, 2.2847721491520465, 2.449313975806205, 2.3005218465817667, 1.4779083167488676, 2.57230984441399, 1.150804408679544, 2.0088778971593606, 1.9890637035865992, 2.4845901195137015, 2.305434018676563, 2.0697008356132756, 2.2514983557807415, 2.0264706025735677, 2.3544508218920144, 2.1256834344956874, 1.3525644227628244, 2.6675534792002438, 1.6794576319518137, 2.1661470923395694, 2.319839228551319, 1.8859124223816868, 0.8023456176834136, 2.326382065108802, 1.955776208513079, 2.5478902963740975, 1.5286187548678472, 2.3425470988265467, 2.547675346763887, 2.5930826280102344, 2.5601715238340845, 2.5308070694056277, 1.999288914989566, 1.573300146086364, 1.9465847740493647, 1.9630402006818057, 2.667892448170534, 2.3805307106134235, 2.3186221595302605, 2.2516423962662984, 2.271527382765951, 2.425728107620273, 2.75328201309077, 2.457963509593515, 2.376191137595028, 2.180759582553068, 2.3228338309400076, 2.8291922619295353, 2.6213061585287605, 2.362817762162538, 2.357662402126401, 2.8520065955041307, 2.2773165708944383, 1.5924231961878985, 2.1466515430405178, 2.350014784554944, 2.4682355946795096, 1.9917380428593787, 2.6160482640599785, 2.2799617826807634, 2.677592329471089, 1.7135069127635003, 2.549808298409472, 2.672394061697057, 2.705834938331248, 2.5245056887041506, 2.502505354159849, 2.1457008080576787, 2.3316033678972534, 2.0593081840137057, 2.576276099259289, 2.4529577304900445, 1.5682741915891916, 1.7755149383126692, 2.0829573781765607, 1.755406086738285, 2.27075596791666, 1.709309839874304, 2.099593355904018, 2.1004685682191546, 0.9340211861948884, 1.0824739964663506, 2.0505464164395626, 0.8525797767275445, 1.8317836239665097, 2.4940567651511865, 1.2966271824535862, 2.2532546349346476, 1.4331933330567612, 1.8594438003583296, 2.2636711439646806, 0.8600275979932694, 2.432841053388237, 2.063694696122807, 2.2773563816283966, 2.4266332328596745, 1.0114491790387068, 2.345573185882517, 2.332707448280645, 2.2274778453966553, 2.3160803673485937, 2.1275535751751304, 2.2884550303658906, 2.319086298905419, 2.2306257765682007, 2.1349678671715, 2.3057815969986644, 1.0570468559140025, 2.1373311926889818, 2.5022342874821706, 2.4165675565242797, 2.2189611127820013, 1.9797761799398352, 2.226978360190082, 2.010918683731034, 1.9901026785704654, 2.178235275876867, 2.228177594126957, 2.227845823649941, 2.2634096407096647, 2.3453380121801413, 2.7461956665638487, 1.6771768143265233, 1.6654812267763286, 2.3100364385943184, 2.306663757936584, 2.7622752110670334, 1.5210887119746619, 0.8411231459052433, 2.415983250030548, 1.848040217517334, 1.834873208454109, 2.051126889672707, 1.2654168208649685, 2.5995507579107793, 2.7594685633990275, 2.79713418959031, 2.645984208680677, 0.964570652403621, 2.5942397932722114, 2.8320262843920725, 1.6601609430279844, 1.5627775644837762, 2.5655114933103955, 2.2025740014338955, 2.4741950098717154, 1.822706653912654, 0.9180045013655471, 2.0251884655099985, 1.425391509852453, 1.605478370608961, 1.5349965865901036, 1.8599124082320775, 2.265495097068825, 2.383099443332544, 2.1503518200435905, 1.0168772910787451, 1.9450083334654475, 1.7073794161536142, 2.096349972952411, 1.8836234041147852, 2.1134902122298493, 1.5477870251923638, 3.136237979845016, 2.8526946731307605, 2.4180872831053923, 1.5918822908446315, 2.3985833675638952, 2.093425338943568, 1.4334151834845197, 1.98172303304125, 2.7166611881561518, 2.8575333092801163, 2.2799259517387616, 2.5391336616001974, 2.272437369669947, 2.4368365759266215, 2.2790978597611846, 2.5494576513183085, 1.9303824116230694, 2.071317476445724, 1.4553273599193304, 1.4841625037906054, 2.367232967721297, 2.2419213885871527, 1.5530183724551374, 2.0708915758331994, 2.497543820971862, 2.3454657861423636, 2.7660975636360563, 1.555706089624193, 1.595436352374067, 1.598452618844148, 2.0908034905356314, 1.8839197487256114, 2.474700576665189, 2.2702432865990954, 2.1244252359245177, 1.921904749307091, 1.9300495227127143, 2.256079775033018, 2.333376270099401, 2.395338641792984, 2.3642470847585564, 1.926730661497598, 2.2762637640558867, 1.4369873562138844, 1.300669767966829, 2.6731394629574035, 2.2505728997627004, 1.3697589553555987, 1.9704814249061975, 2.0180938070814234, 2.0548147550093256, 2.1795371086493143, 2.285707543141764, 2.1669963642265557, 2.3701444581085545, 1.9179178961959016, 1.9639622089610267, 2.197494873975724, 2.267207206191145, 2.2571897454598204, 2.4051803048375273, 2.319494309927891, 2.208734599925748, 2.392672384380613, 2.2795037819922888, 1.8047380564201376, 2.2834853170426372, 2.0522848034614616, 2.1554261870174827, 1.9807055870854766, 2.4303780229891974, 2.475789657756362, 2.107068614667961, 1.9711304625723196, 1.747138007832745, 2.732518268477441, 1.9638391487317421, 1.9766237700954212, 1.9070214147502509, 2.1155408253203305, 1.860660011379871, 2.007706950870317, 2.3428947736420653, 2.39108885540017, 1.651146500374815, 2.2144835767104656, 1.8237846974080998, 2.47208053931892, 2.215999624795004, 2.5231924622910857, 1.4493354696588825, 2.0149082065904307, 2.053270282100071, 2.059964288998306, 2.1095226823508497, 2.217671708033106, 2.5210159235095344, 2.2977173209036272, 1.1212625456630647, 1.4108996911485079, 2.4646694499407547, 0.8203947377315013, 2.0006313901360246, 2.0234266178935956, 2.2113550985769397, 1.9603015984621384, 2.405990990602661, 2.0208264296479164, 2.110749517113581, 2.1643441583573546, 2.171008481097495, 2.17981912152083, 2.1314349333326867, 2.196877936260779, 2.4487937973070695, 2.5004522480768365, 2.4758628555287534, 1.1449143071427863, 2.094763083598788, 2.6125725792562866, 2.2003075636339275, 2.0910325762698276, 2.1820706296406183, 0.9236758825978275, 1.2347733963371819, 2.238687875976795, 2.1097513960948437, 2.713795491835916, 2.182591522304175, 1.4356208773992887, 2.1864295396740454, 2.3593336735973467, 2.446790605403373, 2.521832599785261, 2.4209078950729066, 2.435956084795615, 2.3881797632174218, 2.8928235317004507, 2.9535885125977037, 2.3236577760057386, 2.6127395389378076, 2.2283881525193427, 2.1802275861712097, 2.122799042449602, 2.6701462891873415, 2.761509167415281, 2.030954120780078, 1.79839519067747, 2.4334115300221923, 2.153650044961547, 1.7087740811156173, 2.0859146200220757, 2.591453006082092, 2.775228751583843, 2.1217821316332857, 2.379966844285295, 1.8679893552265716, 1.3802116710917898, 1.7012203845749267, 1.7363950166935802, 1.412279822238149, 1.8659265980922792, 1.841314087256403, 2.241618386030649, 2.2351031441654516, 2.307442692245462, 2.6560198396726107, 1.8601497660443425, 2.536725250057239, 0.7757661753365057, 1.1880868425678863, 2.1893027239865086, 1.3847376048991007, 1.3722062560077326, 2.363508878505988, 1.8294636221472966, 1.1311860202291024, 2.3673463889886275, 2.06942683868537, 1.6949864162326365, 2.075877483500099, 2.435243692574552, 2.2827241002797707, 2.5459668704719536, 1.4158922202741713, 1.2962949578095038, 2.2393801666396285, 2.066862819768593, 2.030228828495699, 1.4019869124296398, 2.584216224499545, 1.6047560725178909, 1.9321910154113058, 1.6366918240933026, 1.7521481411715685, 2.4910411512026243, 1.7921019132071088, 2.3697288368125755, 2.196093712949199, 1.7581357569808758, 2.7019998707112385, 1.2181350427050326, 2.3561523484754825, 1.7490809155181464, 1.512856424388221, 1.9449090961068123, 2.077592272047654, 0.9086815844835949, 2.2168177168391106, 2.175866094037667, 2.0305166298578055, 1.5694944942868203, 1.5808718266691488, 2.6981471160785677, 2.980557793903639, 0.907751652994162, 3.463224446924416, 0.9124223444568189, 2.2408812709660864, 1.9219192534498308, 2.5906601036446495, 2.04697132223103, 2.0145153956960007, 1.1369332047791487, 1.904130807628408, 2.419982941429894, 2.239402317047357, 2.2609519758501184, 1.9310304182446676, 2.2074558675474796, 2.0605035509513265, 1.962010676240245, 1.147320295591181, 1.1373074093656181, 1.939689494104512, 0.991488139508343, 1.3621866502596545, 1.759844097514112, 1.1406265407454588, 1.1315852435036915, 1.8918646779098218, 1.3130724859713054, 1.8800236060835114, 1.9335419126154112, 1.9552921719467646, 2.749035290908238, 1.1694337601969456, 1.1000353656919921, 1.7696975679188038, 0.9527519339471475, 1.6084208532838806, 1.6251385814747628, 1.6044689460495438, 1.5735272604233599, 2.1346462585854007, 1.2429558727327792, 1.9665573167021204, 1.779904391169644, 2.0545858790962743, 0.9911738860915635, 1.920949518344265, 1.6835314020096441, 0.8485918155690346, 2.2947325283993165, 2.419677776614904, 2.463372068823179, 1.9302991104099374, 1.6217486458266088, 2.1420576838627947, 1.0659701129586914, 1.892894028132193, 1.227602076415468, 2.597333838743057, 1.924954461113295, 1.2776530798747812, 1.018722789044825, 1.9043064533000162, 2.417571570047566, 1.5325775319898067, 1.1751091703872967, 2.696337438129614, 1.4424503307410088, 2.1393617507731966, 2.0110484281698318, 2.8256618697627416, 2.2515418728838013, 1.6213351899722612, 2.1323401801292627, 2.4664517040977327, 1.467123718667402, 2.693948854600606, 0.85906617845338, 2.671313434890118, 1.8334491209833637, 1.0673507201975991, 2.71046966550955, 2.17083861861156, 1.7825444875435301, 1.984839577285876, 2.1962741662508143, 2.2957083941857537, 0.8611200197629181, 2.025633128758848, 2.33902772626244, 2.349114723707127, 2.020542870763264, 2.680552606298881, 2.3019009601369036, 2.300405206147544, 2.203289337800525, 2.5462635899403296, 1.392919087648948, 2.057720528110627, 1.9601646709264862, 1.8044318556446266, 2.6363890516938335, 2.814434759933922, 1.5347899793280761, 2.248408711399064, 1.721484526319439, 2.410366118545793, 2.1649539901343635, 2.02837918443776, 0.9595236401289837, 2.1573085745258758, 2.6198387015481805, 1.1454291075614966, 2.48290149182973, 1.79146150843086, 2.216659724415561, 1.3761983243534348, 1.4323252742780648, 1.9454209091492691, 2.7622890121990817, 2.044394755271573, 2.4517937082907943, 2.0842079576051624, 0.9720429878608379, 1.6426919861414144, 2.5912207648524768, 2.000610836944408, 1.9536615102812325, 1.2920210072022513, 2.4671508529615824, 1.8001343771177503, 1.840504712740639, 2.595207486321042, 2.1831588176838848, 2.0226773398342957, 2.5918788551260725, 2.2230062030648683, 2.391100905269168, 1.8524696489419876, 1.7555263613929213, 1.8234793553188, 1.3965321717649828, 2.5762890134445553, 1.7314099913792007, 2.3449831913696046, 2.2576486801406546, 1.5657101848359853, 2.8170577393204943, 2.3397326244757757, 1.2635104917479159, 1.5409324774525084, 2.947868575162099, 2.163560385878579, 2.0208433340781093, 2.559178527305816, 1.584196299888215, 2.1575445875761274, 2.7489641295745915, 2.035483449174105, 1.9022258137814319, 1.5239873692627288, 1.1378584549104631, 2.2088571321975112, 1.6729364110115883, 2.8006798753598394, 2.8034557228159285, 2.4027108721670176, 1.8798137017083894, 2.4515259442199415, 2.371054162416387, 2.808901135124743, 2.4663096276976253, 2.0643585262595128, 1.5297229731667872, 1.1787331455473669, 2.7624172532993096, 2.1753939573478274, 2.2348206563736817, 1.0462492670967665, 0.932049091588556, 1.7573440094269408, 0.990121621283905, 1.1387762551556944, 1.1321285986915284, 1.2939238893365728, 1.8208909622958895, 1.3422834128741554, 2.291646643684984, 2.2570801943907894, 2.153342758604618, 1.9765659062643657, 1.6865926637731041, 2.24016769906703, 1.5602438481756433, 1.9638194541790113, 2.5300785862326256, 2.7689334867728923, 2.9373839781140703, 2.2615520415983865, 1.3630604301625713, 2.0236879465721724, 1.8182869988277335, 2.455714151218961, 1.6205204832412259, 2.6080201261109006, 2.67870805824837, 2.283386362145176, 2.7675416798987937, 2.106738766445616, 2.829837792708454, 1.7724469504183418, 1.6380837825966064, 1.7926914171655537, 2.859690505104344, 2.074634779615841, 1.5320188921085975, 1.9749178898512452, 1.5749566994956137, 2.25192286706554, 1.927945083240595, 1.7584001069761865, 1.6801071089026545, 1.5171491984489087, 2.706070548603962, 2.674242959040196, 1.5959127647656737, 2.6982503338839816, 2.6945954277204063, 2.3261983443235055, 1.8792265954431902, 1.6322790107927272, 2.3289137101047133, 2.109210605475356, 2.194641055821234, 1.875469657316172, 1.542515743347792, 2.909694426378716, 2.598952343082241, 2.2028182711003033, 1.9698033471918905, 2.130872414492589, 1.3511786782832307, 2.2446436547815765, 2.063723388836712, 2.832627120920932, 1.875912404913091, 2.7079177739317846, 2.2062717354534644, 1.8277143601085695, 2.4144789675392935, 2.416597158174802, 1.0405291786246016, 1.0818005938680382, 2.9436872225962523, 2.308940075079166, 2.895871629484538, 2.8604757369268263, 1.5765572311043372, 2.8855434365370547, 2.841917184522356, 2.6501565953263486, 2.783422639976673, 0.828035745157023, 0.8828844295159826, 1.596170127235672, 2.853137127952883, 2.7985023334487034, 1.9898494181995483, 1.9991767780255625, 1.862770456151754, 2.165603489341091, 0.9837283806421475, 2.0619929213868176, 2.2713117223585124, 2.2725041071759926, 2.743966423260285, 2.762415926590025, 1.7871083424335525, 1.964666673798352, 1.8665966551162394, 2.2653845421988654, 2.3363975684128397, 1.7537148595659033, 1.6341051733946483, 2.5108813054852037, 1.5981167440780597, 1.201440239716201, 2.0611789598191623, 1.0597805637058535, 1.711559631133111, 1.2110614229043721, 1.023912444333486, 3.0878860308664864, 2.746781219011112, 2.1343200279809675, 1.8118920492328994, 2.0064363525036413, 1.6811680532579645, 1.7012782225836753, 2.706950667107015, 2.8934785410392165, 2.028372820892497, 2.1486101420144568, 2.0493484971175753, 1.7539735856402978, 1.0478232791307003, 1.6993873612015722, 2.398161744008995, 2.041624021595901, 1.92636873642983, 2.010056119474079, 1.906978623169887, 1.8648350359221384, 0.8865378564032831, 1.0223119197486383, 0.8436777614184607, 1.1930279357569193, 1.5618109697780993, 1.6111729487659363, 0.9217279147132762, 1.845369528927665, 2.6795997426992253, 2.0586473984483584, 2.0544442413659176, 1.9623107339649666, 2.1994955062090544, 1.8065569162894395, 2.6493580252196027, 2.331694804981862, 1.004223075368337, 1.5771443080798733, 0.8666661650730005, 1.607535603824322, 1.4057642575923421, 2.511400827685596, 0.9682100890240672, 0.9693964014143428, 2.7811079579901703, 2.1520129855763743, 1.6043014511999614, 1.9508516062039587, 2.785796756372448, 1.625474664494455, 4.07839939683422, 2.8467941526408618, 1.688631757748443, 2.994778969367731, 1.9203377787995892, 2.3491183727050906, 1.5733469560573596, 2.1921957492973485, 2.445804269059533, 1.4726343979446748, 1.202167038718278, 2.598907194534319, 2.779752656422005, 2.8092684451998418, 2.815271322820483, 1.7811739881799813, 1.9859156039039425, 2.137731151617439, 4.0896267184650785, 0.8582860257028995, 1.5143151231132275, 2.206378291075507, 2.513676840953564, 2.413877072996897, 2.672001129073953, 3.940451016577725, 1.5904232599824275, 2.677380578158635, 1.473675865652551, 1.5605423403215317, 1.3985340808532047, 0.9217766818985305, 0.6394409992537566, 1.0987299268722275, 2.700385305339908, 1.7348503005408609, 1.865859995022496, 1.922535759974599, 2.928122847509877, 1.6063101321175317, 2.6314976290376157, 1.5007316170036455, 2.0284314021815293, 2.35171346509917, 1.9144138687640957, 1.4657616203032284, 2.2786406967029493, 2.0874964567089442, 1.8639178793213032, 2.3562114733144934, 1.4216565270228163, 2.8320216269482303, 2.7924500856504917, 2.9357935612772526, 2.480233518051663, 2.2736018709153303, 1.9904865010008916, 2.759545826994753, 1.6374155131489818, 2.5557633879973225, 1.8488242811415923, 1.575958925411735, 1.0247418967943491, 1.6026719920432446, 2.689875691607999, 1.3786282590289756, 1.9740636373598577, 2.084784899202994, 2.6634990608341056, 1.9323109096239117, 2.872238411385111, 1.2113579095901092, 1.9209562355323868, 2.304271045843966, 2.3681725873948913, 1.788267910085609, 3.971895981018928, 1.8454626240581276, 1.59087161106062, 1.5182677298675973, 2.6776590983321946, 2.379395395448861, 2.241307513369054, 2.8638412772186213, 1.9399066945554475, 2.358379303871393, 1.9204070213237343, 2.4029257125426104, 1.8233921321214388, 2.992929197486266, 1.7089590364348535, 2.4125167097670097, 2.6400403189161232, 1.4370165615848445, 1.9566729482149192, 1.8600077112332172, 2.7578086269643247, 1.664536752795172, 2.617281697116324, 1.4071699296129614, 3.0492310949926535, 2.095681303309857, 1.6492411389423576, 2.127176814036237, 1.6216933283583785, 2.419748213283599, 2.8139694692465573, 1.6819615669966694, 1.6250733308304983, 2.091654409461602, 1.8279039147440483, 2.2659128608381094, 2.6493152939148006, 2.2349860353187534, 1.9939097242823962, 1.4104642294280245, 1.6643968072096826, 2.290966420546785, 1.888563751155889, 2.0024456046450996, 1.5458351642850614, 1.9220696698283457, 1.4100693314318162, 2.3415275187650852, 1.9296984165744517, 2.7824648249829713, 3.6907540591759673, 2.9653055192673006, 1.6371383401472444, 2.0061074751972763, 1.0558841125192708, 1.7419361031721032, 2.5509341804715024, 2.825167259999736, 2.189457836699273, 1.9305256331961185, 1.8444676945127307, 2.756901608492515, 1.8828934358969232, 1.0839478186381857, 2.5939419327080033, 1.1181984599877912, 2.742414141273253, 2.8696474750775787, 1.3151137231783014, 1.604056706468288, 2.3176137743881227\n\n*** WARNING: max output size exceeded, skipping output. ***\n\n86, 0.6528663230941749, 1.2298737088889187, 1.3002980591917508, 0.6207833643048293, 0.43740980038085553, 0.9564036022288387, 0.5794159436501982, -0.19261387330564883, 0.8131869641257132, 0.3751237165708843, 0.6780826563549043, -0.2989948897226027, 0.642876288453115, -0.2927125226637659, 0.23896244060517002, 0.44875910186044443, 0.1736851435448501, -0.017455368984407027, 0.3435876748750921, 0.5873086532298915, 0.7850786455280399, 1.2078454159400704, 0.756543032473693, 0.4433928716887485, 0.0863979440016629, 0.7742780869138477, 1.0647982705841166, 0.9230262444200936, 1.1960426431320506, 0.14538463372840704, -0.23811777004136747, 0.05112933866301095, 0.1395509362942975, 0.01706321312178405, 0.23386054030167447, -0.17755539875348436, 0.5464133646709768, 0.749758309648705, 1.0726707948294532, 0.3592790867132898, 1.16039350236896, 0.7810407615251729, 0.3119573228348882, 0.46690897380327856, 0.6719104116258179, 0.5569106455206039, 0.43069399946002873, -0.05544157668497807, 0.5058307411899534, 0.6918552507892997, 0.47590841723243393, 0.605530061915416, 0.47668740744535576, 0.5210232314120216, 1.5459190640795182, 0.0037271022159117706, 0.4811651821419032, 0.9437148320020503, 0.2959946905238833, 0.3446515226792508, 0.5209517216528523, 0.4925368899676186, 0.6231858345724104, 0.33559753166475037, 0.9545551742383702, 0.44331510368436833, 0.2737312125766027, 0.3117441226330677, 0.3297433402685712, 0.5215604249761843, 0.817063986106632, 0.8529383933705048, 1.1165293643165781, 0.14504161911224234, -0.3637061455429329, 0.7615626446619432, 0.04000560710737133, 0.34817481605921197, 0.44983251457335527, 0.8630131291563916, 1.002592629981879, 0.7226850467081891, 0.04865915227013362, 0.46706856740752567, 0.7979746180106069, 0.1017587098294519, 0.3697637377484222, 0.38257607610263333, 0.20168623183019463, -0.006409177650757325, 0.13386585501749648, -0.05900972260753745, 2.7155163728918317, -0.06751530994511423, 0.4567462571634522, 0.14434809494593148, -0.010429711013840492, 0.4848576860750886, 1.0958761241886312, 1.2552549626292273, 1.0289900714158629, 0.8024785856486034, 0.28028956506377867, 0.35631522725230935, 1.6554276848698737, 0.9624123543279663, 0.25341731022093983, 0.148731304222518, 0.3358322769938962, 1.0497117737111525, -0.20492524621270825, 0.8498182555160643, 1.2060684006295972, 0.8514586825214432, 1.141173942509268, 0.2932403479611647, 0.49395506950091495, 0.8580088669662413, -0.04088224459416079, 0.41204425225063535, 0.43335610332942576, 0.25384467273601397, -0.35457244844023394, 0.15454943845174274, 0.9646404701462625, 0.6434058581567912, -0.3639543053510663, 0.6949259220144797, -0.03824439086033582, 0.27900986582548803, 0.15302191727508996, 0.5216119338695739, 0.43231062978607726, 0.38457344210398725, 1.0609228746437747, 0.8179385913055293, 0.01871666008876227, 0.04030045526039583, 0.41092729754846236, 0.8473217793481354, 0.6036952679325873, -0.2734530196888372, 0.7317337043826626, 1.0236004024619914, 0.30020755909554486, 0.6219604013313904, -0.2324148603680194, 0.47791727412837437, 0.44629209440776574, 0.23144707828243583, -0.004036401013066904, 0.3062397037989162, 0.06649382811180082, 0.034520515665645846, -0.310400136774164, -0.19740918904444982, 0.670948809428437, 0.4580994793051656, 1.0441133650593626, 0.7483429328130595, 0.2786846757877499, 1.0861127355570392, 0.29225977875081943, 1.1882539606930003, -0.20758161546038245, 0.5795547041590217, 0.7850850802696843, 0.6401494742491667, 0.48419518434755826, 0.09484017858008098, 0.5051475789054938, 0.6839184246013752, 0.2921015943952243, 0.24394024113333845, 0.09763564354831011, 0.2752094018087399, 0.08261923449102859, 1.0259042812376846, 1.6311065603282948, 0.24418445662258215, 0.25042126079388494, 1.5609813096512664, 0.4909592948565269, 1.2581090548905538, 0.8455143310864601, 0.5810579235255653, -0.12076739037946771, 0.17319312750580806, 0.267458533038222, 1.1640416841907917, 0.047002079800653185, 0.28698434725701505, 0.7910701498484953, 0.08047468251541012, 0.5007236472409571, -0.13807574195896155, 0.5049114412752136, 1.4448685489562083, 0.17048391460236711, 0.6844457777269666, -0.027325776659208323, 0.8211505872969087, 0.09104961309803983, -0.19612635961077896, 0.05866659722084222, 0.12618276914729387, 0.5219717157145387, 0.5594116822492998, 0.3920662351143456, 0.6237595373599447, 0.8394609972635578, 0.9291211194418183, 1.2565406095317901, -0.0014841305561001938, 1.2570106658184004, 0.08796528084007171, 0.47276605668829985, 0.8390039269713327, 0.37844041508358117, 0.7012836631930655, 0.5176212009340819, -0.11198630963613843, 0.17069889482917677, -0.33586870805473534, -0.1315548196463281, -0.1855393519611348, 0.12424663015557647, -0.043099170861179203, 0.21097078611912323, 0.4977823798449794, 0.09902233140664318, 0.6325761562314034, -0.3226824905039214, 0.17846562928181475, 0.10041873038956695, 1.109418765257406, 3.9325173187782214, 1.042199625924275, 0.7222852888473739, 0.5733650734334588, 1.29712706750006, 0.3619385570255873, 0.7205637028138352, 0.4189110783439913, 0.5480841223793449, 0.7117731851405553, -0.4276621332295356, -0.09935801625585894, 0.45418438693502816, -0.3832430675069314, 0.15347994465434667, -0.02142786092481863, 0.0016645998437354592, 0.7057814375319951, 0.17392790268619773, -0.22754155872749315, 0.8015075432484575, 0.9782089747603218, -0.13235113143124977, 0.5811927440045896, -0.16670036222035955, 0.3456900731521939, 0.4373416786644668, 0.33899594313256864, 0.503618422742643, -0.00672704662106316, 0.2742576405685826, 0.19505295798407296, 0.9078797667874405, 0.057217536658547896, -0.24972970547819617, -0.03000885092021477, 0.6856341423349961, 0.10165190301362736, 0.17511388772130632, -0.18092871880576888, 0.918014593029826, 0.25462934802235937, 0.21099739177876264, 0.741359527110456, 0.7833112546919208, 0.22819562105819902, 0.11187517976630224, -0.4075670305867738, -0.17276076593952583, 0.12113047050608472, -0.11194421852958047, 0.05912157969223131, 0.31547092658072806, 0.0886132744742727, -0.4130891266081296, -0.04127918200109093, -0.06021519225814753, -0.24482609721816972, 1.2427546191739163, 0.37616087480500626, 1.2778757248708041, 0.8275614559738687, 1.2088226328344658, 0.09733445646776673, 0.7169997878434939, 0.169354957269646, -0.27879771414299226, 0.04516760447833823, 0.09835286945435096, -0.15144434037626464, 0.001974014384143352, 0.22255815273134782, -0.007819632720297509, 0.10423307555441985, 1.246960132537625, -0.35422063297702033, 0.18422965412628667, 0.3229754400655849, 0.6748619287610351, 0.7006860839070339, 1.4169818059879897, 1.0497221601308002, 0.5486770899039879, 0.6985181389767692, 0.09730516567663683, 1.653335014488888, 0.3167061248766534, 0.4476962392276107, 0.38762012682062963, 0.31524317825870085, 0.7168195929403165, 0.9870865917999789, 0.2196644049267915, 0.6039086746858962, 0.7750414681767321, 1.2138949398400278, 0.3630244231929014, 0.47699739029795074, 1.0098029723894093, 0.17268806159316563, 1.0782042276445738, 0.8131664443875781, 0.26752692564024194, 0.1172060259437484, 0.14793016902864498, 0.625441212640587, 0.3043065863770824, 0.38057444056931145, 0.4074830803212244, 1.8646002259041505, 0.2660856080682845, 0.47324336053409377, 0.11375894190634783, 0.004209579053214618, 0.1544435817319192, 0.14058440686106843, 1.6264715212640666, 0.9824850055791408, 0.22629406067940838, 0.050110507916738545, 0.43337043227221317, 0.6995899500215863, 0.3076397324181568, 0.0010383014979993277, 0.6989422012240905, 2.772707314164358, 1.24300426764764, 0.6707279087898705, 0.8767396858101026, -0.009965554400052756, 0.12791586215075057, 0.8553778850364302, -0.12429182348913814, 1.1305344185092596, 0.11036039696101696, 0.4203623008373696, 0.26140924408997535, 0.9555298869607218, 0.8762661842785717, 0.4032233707790822, 0.19666774606960402, 0.5503428948377804, 0.21201372737287194, -0.20904556771226224, 1.122544784773122, 0.08643722604821491, 0.6883996495458453, -0.09104447854995312, -0.30606485401902006, 0.9815003576144914, 0.5497813958613536, -0.24168069917655188, 0.17102952776191582, 0.5640482217959111, 0.4890039839013882, -0.0966486265493911, 0.994264370648374, -0.23338549853405466, 0.24686914104979962, 0.4697516323942308, 0.20980862164852, 1.0445776340066835, -0.09812481393106509, -0.04988801681382338, 0.21502374367108779, 0.6471623137795168, 0.393441143312534, -0.1815814990746607, 0.7508657082853092, 1.2726837151420791, -0.07622485234461074, -0.24935068698752172, 0.052524675092473494, 1.200582889001895, 0.5994166875237408, -0.05301790597556799, 0.1324597252940114, 0.008894402491162356, 0.569056627779045, 1.4757868041456472, 0.3159603087190117, 3.646536037232711, -0.2943894756414869, 0.3282939252285839, 0.47057411733364907, 0.9994050963384677, -0.08897436796764602, -0.13545467180322213, -0.028316632717626078, 0.10519242455410849, -0.17012593894101702, 0.3134108173954444, -0.19414287747156278, 0.5138335584640279, 0.7524580500921503, 0.15986458294339334, 0.17793463423247546, 0.9344866648028174, 0.626123924787644, 0.5891690417383824, 0.36358863832754906, 0.2685298845222768, 0.6470122790967565, -0.17738537556882328, -0.022430050922260136, 0.5115275831310309, 0.7210127978684482, 0.9086268455913189, 0.2262769517411325, -0.32674747573950835, -0.3643333154779609, 0.10062504116653814, -0.3689976367025114, -0.12194116677638611, -0.21699907847847433, -0.3183100394536078, -0.36292513260775205, -0.06503817276574386, 0.23976907732821218, 0.5201850017541418, 0.4588327067394644, 0.7134173473062084, 3.563440447734834, 0.45194238603770787, -0.3149466778066392, 0.0827624326807066, 0.4804298529704747, 0.39741074863124615, 0.4659538580803422, -0.36294951491186955, -0.10278160760152844, -0.26736640480933094, 0.28985969520533006, -0.10717824074757942, 0.9179494264668335, -0.3756204168224557, -0.07951945233590596, 0.10130490897948485, 1.9100708544136995, 0.15227007832072958, 0.39944928222863174, 0.3073123591012843, 0.06928182497539437, 1.2774369919381408, 0.5789575099275386, 0.17184113823774627, 0.10712637982416284, 0.27057994129551766, -0.28112981724077857, 0.09027904175238888, 0.5886229102925715, 0.3422253503873649, -0.1693904811297795, -0.19658051082093886, -0.14415749479214046, 1.0042584291133507, 1.479279847120633, 0.29736721277741296, 0.8202742793580806, 0.29238026846707355, -0.12714326612577853, 0.14946507534376963, 0.5214149735790241, 0.8000964957523624, 0.48976821693090766, 0.14925574838143563, 0.7103301390722607, 0.7645365456456277, 0.9498860926021842, 0.1801616721727548, 0.9970684716156879, 0.6628840930846209, 1.2515284295088163, 0.4653265633699748, 0.7325231425952805, 0.7584920192696099, 0.9801828763953044, 0.9761825875606811, 0.5413343173737937, 1.0759555161050054, -0.023909928616995035, 0.6870286126478411, 0.15988020032258277, 0.19103961715913975, 0.34413922772462735, 0.5068793876288777, 0.41122224874964264, 0.1538658602461629, 0.16245857691011434, 0.19339816561269618, 0.5617371211897435, -0.12058771401971491, 0.3772573802519714, 0.7141502747906836, 0.15206879202950585, 0.6947331548956202, 1.4514193038301686, 0.6645458305712171, 0.22645932330863872, 0.6245088339976257, 0.3943394179027422, 0.2791957935264606, 1.0579706351087912, 0.0653581427508394, 1.6557315476859302, 0.44608981491065514, 0.3054680969853356, 0.47338651365489426, 0.1276971187598659, 0.6914298817824003, -0.2168595657548411, 1.1126589912848746, 0.17967875772497433, -0.3848687700424729, -0.6124325812791245, 0.1833325076259702, 0.05092671988510755, 0.35421761949259034, 0.08552156157843083, 1.0676818572568778, 0.030919315000186742, 0.6898852544348095, 0.6125220282992461, 0.5591877622990045, 0.48178161553551435, 0.28506828210075286, 0.7815955183576235, 0.4345676382935659, 1.067223961491051, 0.19884239778798118, -0.4256797569026243, 0.4226390948856511, 0.5952346989815878, -0.33277062521573564, 0.3320971426755652, 0.8420429795466868, -0.3218601459452821, -0.3165346738991319, 0.3350885629894229, 0.08791077100856004, 0.22727569455886476, 0.5739867370104292, 1.0723338123609265, -0.4086835183577615, 0.25476915704281033, 0.608413117743372, -0.13418982662041223, -0.43708767983220964, -0.1887824544972574, 0.029021131190717586, -0.07395136367030153, 0.02312683115641745, -0.21533498328695666, 0.6427429709218813, 0.0786533312994635, 0.0774956752326399, -0.06160614718788704, 0.8653454787892603, 0.07211373867218906, 0.4593198392508131, -0.08498411831371211, 0.6580404793648582, -0.15548607849165386, -0.22049117440308663, -0.28658081565215143, 0.06202875175083644, 0.03347026069456671, -0.19015343339833102, -0.1552008747080631, 0.048550833574972696, 0.18726990604171334, 0.9010804706356876, 0.5145382818078295, -0.25903032142619864, 0.09941725451863626, -0.09681868916952396, 0.11776199647786356, -0.32276120515282747, -0.05256305442232634, -0.20606603858909844, 0.6310247228488985, 2.5772310480390184, -0.29418439608782787, -0.0654666829820636, 0.5720106472920716, 0.39819597867853984, 1.4987122172554952, -0.04067109478139663, -0.16287567650053525, 0.07978555107654861, 1.460818041395052, 0.2503723226488095, 0.8783379628378025, -0.09379796927220818, 0.3073326595921735, 0.5584740554999759, -0.15596487670764736, -0.015853821572731075, -0.2756893840983383, 0.30089667843038725, 1.1642659400455182, 0.9263873675208276, -0.18604636870287727, -0.09151826846647193, -0.1863754340972532, 0.025838473817124896, 0.4629621231199903, -0.22014718901097874, 0.9390266099562385, 0.6227934441527676, 0.26542363866850494, 1.2843380320923088, 1.5850365413459602, 0.06668441009691506, 0.39444699018129725, -0.10723657553664889, -0.5267379708370887, -0.2522811675050849, 1.2627014591619914, 0.10819892975644274, 0.5296460101957692, 0.08039940947200108, 0.21017004451985954, 1.3881911230508523, 0.49364885738814124, 0.0030263516243054234, -0.16114566779249717, 0.7992382296617437, 1.0864877540173181, -0.0052615397495627825, 0.36978078557332816, -0.2116679651984703, 0.49047750969792014, 0.3756692723828112, 0.4685148722174346, 0.17626831652472097, 0.28307266607454107, -0.15749735798372821, 0.5363386379438362, 1.1204219607357397, 1.2034365084770715, 0.7738387211596232, 0.8131035982250499, 0.5082524651635025, 0.10554582601593321, 1.3607324985704352, 0.3614788263966324, 0.2728846635898141, 0.41542867427898766, -0.16866864623857136, 0.9083196430814962, 0.3723314422617774, 0.6359157947211207, 0.051509260074586116, 0.06065322417380292, 0.12872862151914832, -0.0969402113904283, 0.8801391007467236, 0.11258956149540467, -0.07009810758457657, -0.006090143213889121, 0.51486130803224, 0.4286798380863104, 0.7124227080779546, 0.3811014379235189, 0.6301885383347114, 0.05711255346287203, -0.11202844416613589, -0.12327183120607854, 0.6967945999990988, 0.9887456026465438, 0.10765479930566668, 0.4133260286589273, 0.003510245888213692, 0.1661309090103278, 0.6369695739034162, 0.19313970229964506, 0.7147793538350369, 0.28028852905575485, 0.48830527502353505, 0.18433278133954722, 0.45991285131040227, 0.4031465907701586, -0.2334573836985534, 0.8495869792210744, 0.4251305539671324, 0.13446536978918022, -0.454698415219676, 0.6563299784872514, 0.22476212836663878, -0.33682943084285855, -0.4141695004930934, 1.1011373527660486, 1.2423251253202428, 0.5048951234288732, 0.3104966535906297, -0.23612461349120029, -0.33410243907592907, -0.039470500815100173, 0.11846731786328091, 0.2778964286798562, 0.788804056338348, -0.09924570246677034, -0.4715731214161485, 0.14915135435943494, 0.07340516225474758, 0.07635857523422018, 0.6039523544112546, 0.14239830850599589, 0.3245638932492101, -0.14249093479712727, -0.18124991534161827, -0.2653420656232628, -0.053625954175883894, 0.2729691360495128, 0.33019902329620265, -0.3700527519534358, -0.07193407191556478, 0.7840493037992946, 0.6889947758838468, 0.5129887281258547, 0.44869392989007695, -0.0757182032579502, -0.14653205771510258, 0.9719464638019055, -0.29099469113339893, -0.18528578506214455, 0.28385018433584985, -0.47959441220677324, 0.3461864916162831, -0.32848250147189395, 0.08293226518006591, -0.04673939417849393, 0.5354748784445613, 0.6224566922866763, 0.18190413835168462, 0.266546240126055, 0.4443751374978562, 0.6524526417762626, -0.3573349555483629, -0.214262428203305, -0.04970372818267155, -0.13322389631199538, -0.014115473185546179, -0.27975992349582324, -0.30965372773146216, 0.40206941101724514, -0.23927265042042833, 0.30921293349607737, -0.013885842466463405, 0.36634709497191054, -0.05050839990780043, -0.18568063831657344, -0.1863142757212377, 0.1441587626820735, 0.7396592275460019, 0.2520801607509675, 0.38721357923064303, 0.7864605295943394, -0.10351621418233936, 0.3947910563616115, -0.1691783878207751, -0.18970096448844131, -0.038902413095167176, 0.5805685580668483, -0.49542777769288193, 0.7213759702835638, 0.05953781971418204, -0.42794048107955973, -0.044420641022366425, 0.2931212111236179, 0.010106106768406953, -0.34304079709904967, 0.7742198826443558, 0.1846724990695967, 0.30110030969272694, 0.0016081006254795582, -0.30706572988989755, -0.2982466246184572, 0.2527904672748642, 0.41088911472720735, 0.4727364182530205, 0.2847379406102144, 0.09256337531981584, 0.5576536685397464, -0.09121929064880163, -0.15022590598551488, 0.05320792266241714, 0.40928669930691, 0.12461272598022077, 0.39487880354286586, -0.0447859466802325, 0.45864507858481574, -0.4502745215742374, 0.05864506312702078, -0.2114660517388578, 0.6244101502479982, -0.2935227087983181, 0.13074211424113802, 0.6097554684455311, 1.3438201772444196, 0.39863424596121133, -0.21749748579405281, 0.6818571341425368, 0.36413615058254356, 0.7510078435216623, -0.29109949292821735, -0.08140750313427336, 1.1834193111690638, 0.006797571013118731, 0.32379810512120644, 0.31484351605814265, 0.09861600454853559, 0.65974266471168, -0.11747346986742357, 0.041556302136348755, 0.1410626162210229, -0.15856967464329852, 0.12382935940078532, 0.47490324339645884, 0.27851925059072924, 0.06577277999054809, 0.17696015729444436, 0.23340167664682188, 0.7645883132489457, 1.4900755913956334, -0.5322896095577381, -0.5950458717397971, 0.5384317764229958, 0.045094770452095645, 0.5552270018283476, -0.04564981806452195, 0.6319562600460626, -0.2671634882071743, -0.4767960876300239, 0.3157517179500924, 0.5865411056902694, -0.18494798988826133, -0.5046099960123351, -0.4566368207978222, 0.22720311027574436, -0.15970656852917475, -0.01859426010973131, -0.3074734946998796, 0.21282676672999168, 0.3612225831872622, 0.06272631369133164, 0.05361621816719975, -0.21052142175053934, 0.411105980880202, -0.4934065482533301, -0.2550487064159155, 0.18068607318145125, 0.7425511403679002, -0.5173602513656594, 0.10023155294787767, 0.4316968767419147, -0.3076609187360111, 0.7490415386470741, -0.18531944057113003, 1.17197215562416, 0.07349117922512427, 0.3817373059105176, 0.3637816745317175, 0.06740310711888275, 0.1500344443488646, 0.1121653851385025, 0.7409771158870306, -0.2694739574995122, -0.4311709965025665, -0.1304347157540775, 0.09923549842999302, 0.02064067195150132, -0.327970088060372, -0.13290460938089188, 1.3612224568108329, -0.14752498287586668, 0.7078746782656418, 0.3641205209607512, 0.5673400147336733, -0.31127723393349793, -0.03331128232131686, 0.08144531554037426, 0.15674640484602342, -0.3836535223290749, 0.5158384929863382, -0.23717547562392172, 0.5015606044929535, 0.3446577543795173, 0.6066086751890389, -0.3992406641407902, 0.25350531681569555, 0.2583585262337875, -0.07513668979324706, 0.7021857680278203, 1.034717308850443, -0.06252501963772428, 0.5919802230162996, -0.18900974791807457, -0.2858363153336887, 0.6369626816494474, 0.7400552131463942, 1.0640622067285386, -0.07795119306217169, -0.07952324087721596, 0.44608716403788407, -0.06640724489987093, -0.2544100065031363, 0.32889889315916543, 0.23437367166580803, 0.18474198251390472, 0.10872127850397106, 0.11881679635032594, -0.41509861067654885, 0.41223400680419076, 0.14414434050136027, -0.08381771767159307, 0.10441214493438178, -0.04303600114613504, 0.7752261164365772, -0.09626590346927566, 0.44130971004888275, -0.0910304415136558, 0.01444737296343046, 0.1199350704373825, 0.11368176022640597, 0.4229602253401037, -0.03714243116000704, -0.08355615792792204, 0.3773918012483861, -0.3161827783733191, 0.4167775916989638, 0.012406321150392863, 0.6310756103824176, 0.32158653337729604, -0.11436424327452777, -0.15283821157338728, 0.13206606187889536, -0.022069034599939474, 0.08379118528124918, -0.3136677615914305, 0.3485795607428752, -0.1964935703445745, 0.33055355660140684, -0.11278636640728124, 0.2927682852641178, -0.02411058379845521, -0.32305200052703587, 0.3041514464809829, 0.1381996531048073, 0.35475787138259385, -0.03547059414390308, -0.2964379844877767, 0.3585948059137696, 0.20221744894562654, -0.017553421522913837, 0.5872586694267574, -0.5717242442156394, -0.23500387735411987, 0.14925865727113496, -0.07165570903003937, 0.6695611516898066, -0.3915607165677093, -0.03777844674008035, 0.35564369509704097, 0.21171697247819488, -0.4313465123240525, -0.3164424421237171, 0.536706919497453, -0.045133208420381266, -0.08751927587360964, -0.17460863128761828, 0.0641195683292759, 0.5287618915807795, -0.17163747016800102, -0.040202766510263555, -0.13980276357098553, -0.4836787318846283, -0.13328910945990868, 0.1803564992222313, 0.49074104845764444, 0.23969081960899086, 0.23198002174640386, -0.2584198232642274, 0.6857631923148886, 0.5323443218481279, 0.5702182838065342, 0.7114962688968334, 0.27741004888530085, 0.08780944076893249, 0.22717936047855591, -0.09749282318325392, -0.0378209878933764, -0.14344841026588773, 0.13310689690755417, -0.2844017118185409, -0.4309062313823526, 0.028549328919190486, 0.5082226213309826, -0.09172542057550936, -0.053553015520659386, -0.08257435482949615, 1.110229630824111, 0.03827813055885354, 0.20111814193318356, -0.5105380767275443, -0.3554068762642757, 0.11820639352079354, 0.07141584338064266, 0.585320149603876, -0.4201450811884748, 0.2907612090456517, -0.3380461222058404, -0.3887575448314031, 0.3780403834316761, -0.4959042818151955, 0.06861819946028946, -0.2877180607545373, -0.3565052519674259, -0.18896283368995181, -0.37276497398635033, 0.3721241851015069, 0.20249656745336697, 0.47056673170156893, -0.14273698514572164, -0.0013926630289562425, -0.11899461729151639, 0.21392164734291752, -0.5034684514707268, -0.09420880980811797, -0.06756339869372407, -0.2536095723295664, 0.6502839326893186, -0.36661144943757495, 0.19693392184547331, 0.15274521253385887, 0.5853607028933796, 0.3711859286379866, 0.3485334229920749, -0.028906158469773402, 0.4348077220081805, -0.47220722873271015, -0.09225724672351543, 0.3261346793229736, -0.038189653445689586, -0.016007289564431648, -0.04589440949049983, 0.4712358923826483, -0.10256017364449921, -0.4592032064316012, 0.5621598308966007, 0.6794926964834613, 0.593989659623948, 0.5156764091813413, 0.5083510846889601, -0.4116484546518482, -0.18531432490834598, 0.008235236471878515, -0.7416253989107595, -0.5117304371081968, -0.18171124054782917, 0.16622936992592763, 0.003580569897710717, -0.3891989224412935, -0.26251694936656866, 0.618169872229867, 0.4689843931258775, -0.39681749759398244, -0.4297920625877616, -0.19802707958217347, -0.13264698363174432, -0.3808047799562959, 0.3926969032360561, -0.09554671580689922, -0.02222400508746425, 0.9015213104309479, -0.32167730705515796, -0.24428937212578106, -0.2956754278029976, -0.1659962537811266, 0.6900000732557952, -0.022947098358008233, -0.3289017456800849, -0.3130019817214871, -0.28590251301895453, 0.2813460080009911, -0.4772814220935797, -0.44726724012673946, -0.5357841972421107, -0.6023338727067524, -0.08418694009372452, -0.29701708285984463, -0.0647989076047133, 0.4478221843915402, -0.054607518800871446, -0.43846361314558546, 0.20533380149653313, -0.09140345763404056, -0.7184419967722651, -0.24197877694983383, 0.21087355385176387, -0.10146095075063544, 0.039149440563024385, -0.10452037489609012, -0.007419319339151187, -0.054672623484019134, 0.20051942987897364, -0.29212298223198774, -0.1992997530533973, -0.28373852219239115, 0.19808192950538928, -0.4086334184873541, -0.05355668220873255, 0.1131333168903601, 0.1454507234316358, -0.187560691093827, -0.3073773417901853, -0.14954130626518491, -0.3197703273066086, -0.05986436226749081, -0.26554514529681406, 0.2528447525284805, 0.0005269206082276767, -0.03951955143911645, -0.08400170324288192, -0.16386624538765515, -0.12562534040146867, -0.31058618600558896, 0.6301437045924425, -0.17662993741827737, -0.3027119898524453, -0.4855795120502684, 0.31515221724645714, -0.31260866363976136, -0.04692926979354173, -0.29348281895141204, 0.07256496218252728, -0.08782401202040147, -0.2521168863435861, -0.4354580505686285, -0.16581572540566647, -0.2816097975718179, 0.13434046213628026, -0.5305686079652294, -0.11615794669696644, 0.1205509109501337, -0.1186785218577695, -0.0033082972392035614, -0.03730747582144733, 0.037795591481135205, -0.37012688435397845, -0.3665595834712936, 0.2899872430374404, -0.6396520610435639, -0.3790126771148117, -0.3413702243063246, 0.1796351424036855, 0.13988969766452275, -0.011905590254880138, -0.38745527081862097, -0.0121128889897828, 0.2926573915055348, -0.36915648123297906, -0.8141122130271077, 0.07561263419425712]\n"
     ]
    }
   ],
   "source": [
    "#Predicción\n",
    "get_training_prediction = lr_model.transform(training_data)\n",
    "#Conversión a dataframe de Panda para visualizar datos\n",
    "train_pred = get_training_prediction.select(\"prediction\").toPandas()\n",
    "prediction_train = train_pred['prediction']\n",
    "prediction_list = list(prediction_train)\n",
    "print(prediction_list)"
   ]
  },
  {
   "cell_type": "markdown",
   "metadata": {
    "application/vnd.databricks.v1+cell": {
     "cellMetadata": {},
     "inputWidgets": {},
     "nuid": "3abd03e1-750c-4d7b-8f20-304e59afea15",
     "showTitle": false,
     "title": ""
    }
   },
   "source": [
    "### TEST\n",
    "\n",
    "El siguiente código prepara los datos para una evaluación detallada del modelo, facilitando la visualización de las características y etiquetas reales del conjunto de prueba. Esto es útil para hacer comparaciones directas entre los valores predichos y los reales, analizar cómo el modelo está interpretando las características, y validar la efectividad del modelo en datos que no fueron utilizados durante el entrenamiento. Estas tareas son esenciales para entender y mejorar el rendimiento del modelo de regresión lineal.\n",
    "\n",
    "1. **Selección y Conversión de Datos**:\n",
    "   - `x = testing_data.select(\"get_feature\", \"summary_index\").toPandas()`: Esta línea selecciona dos columnas específicas, `get_feature` y `summary_index`, del DataFrame de Spark `testing_data`, que contiene el conjunto de prueba. Luego, convierte este subconjunto de datos a un DataFrame de Pandas. Esta operación facilita la manipulación y visualización de los datos ya que Pandas ofrece herramientas de análisis más flexibles y detalladas que Spark.\n",
    "\n",
    "2. **Extracción de Características y Etiquetas**:\n",
    "   - `x_get = x['get_feature']`: Extrae la columna `get_feature` del DataFrame de Pandas `x` y la guarda en la variable `x_get`. Esta columna contiene los vectores de características utilizados por el modelo para hacer predicciones. Cada elemento de `get_feature` es un vector que representa características numéricas.\n",
    "   - `y_get = x['summary_index']`: Extrae la columna `summary_index` del DataFrame de Pandas `x` y la guarda en la variable `y_get`. `summary_index` contiene las etiquetas o valores reales que el modelo intenta predecir, los cuales han sido transformados previamente a índices numéricos mediante `StringIndexer`.\n",
    "\n"
   ]
  },
  {
   "cell_type": "code",
   "execution_count": 0,
   "metadata": {
    "application/vnd.databricks.v1+cell": {
     "cellMetadata": {
      "byteLimit": 2048000,
      "rowLimit": 10000
     },
     "inputWidgets": {},
     "nuid": "fbe54afb-1850-4cd5-8d0d-7e656789ac3a",
     "showTitle": false,
     "title": ""
    }
   },
   "outputs": [
    {
     "output_type": "stream",
     "name": "stderr",
     "output_type": "stream",
     "text": [
      "/databricks/spark/python/pyspark/sql/pandas/conversion.py:122: UserWarning: toPandas attempted Arrow optimization because 'spark.sql.execution.arrow.pyspark.enabled' is set to true; however, failed by the reason below:\n  Unable to convert the field get_feature. If this column is not necessary, you may consider dropping it or converting to primitive type before the conversion.\nDirect cause: Unsupported type in conversion to Arrow: VectorUDT()\nAttempting non-optimization as 'spark.sql.execution.arrow.pyspark.fallback.enabled' is set to true.\n  warn(msg)\n"
     ]
    }
   ],
   "source": [
    "#TEST\n",
    "x = testing_data.select(\"get_feature\",\"summary_index\").toPandas()\n",
    "x_get = x['get_feature']\n",
    "y_get = x['summary_index']"
   ]
  },
  {
   "cell_type": "code",
   "execution_count": 0,
   "metadata": {
    "application/vnd.databricks.v1+cell": {
     "cellMetadata": {
      "byteLimit": 2048000,
      "rowLimit": 10000
     },
     "inputWidgets": {},
     "nuid": "3f693541-7a70-41f9-9dd0-0e37c63e5199",
     "showTitle": false,
     "title": ""
    }
   },
   "outputs": [
    {
     "output_type": "stream",
     "name": "stdout",
     "output_type": "stream",
     "text": [
      "Summary of model is here:\nOut[9]: <pyspark.ml.regression.LinearRegressionTrainingSummary at 0x7fe290906160>"
     ]
    }
   ],
   "source": [
    "#Obtención del resumen del modelo\n",
    "print(\"Summary of model is here:\")\n",
    "lr_model.summary"
   ]
  },
  {
   "cell_type": "markdown",
   "metadata": {
    "application/vnd.databricks.v1+cell": {
     "cellMetadata": {},
     "inputWidgets": {},
     "nuid": "ad6daa9d-f200-4696-84f6-ab1a148bd351",
     "showTitle": false,
     "title": ""
    }
   },
   "source": [
    "### COEFICIENTES E INTERCEPTO\n",
    "\n",
    "Estos dos elementos de información permiten entender cómo el modelo de regresión lineal está haciendo sus predicciones. Por una parte, los **coeficientes** indican la influencia relativa de cada característica en la predicción, y el **intercepto** proporciona un punto de referencia básico para esas predicciones.   \n",
    "En conjunto, coeficientes e intercepto forman la ecuación completa del modelo de regresión lineal que puede ser usada para hacer predicciones sobre nuevos datos."
   ]
  },
  {
   "cell_type": "code",
   "execution_count": 0,
   "metadata": {
    "application/vnd.databricks.v1+cell": {
     "cellMetadata": {
      "byteLimit": 2048000,
      "rowLimit": 10000
     },
     "inputWidgets": {},
     "nuid": "7f57bd90-b058-482d-9f24-e71544199431",
     "showTitle": false,
     "title": ""
    }
   },
   "outputs": [
    {
     "output_type": "stream",
     "name": "stdout",
     "output_type": "stream",
     "text": [
      "Coeficientes: [-0.07214915879122738,0.051924551009013525,1.1288896307584562,0.05126322660699349,-0.00030899343612469216,-0.11049797277716629,0.0,-0.0009546366755254025]\nIntercepto: 2.503490113205684\n"
     ]
    }
   ],
   "source": [
    "#Obtención de los coeficientes y del intercepto\n",
    "print(\"Coeficientes: \" + str(lr_model.coefficients))\n",
    "print(\"Intercepto: \" + str(lr_model.intercept))"
   ]
  },
  {
   "cell_type": "markdown",
   "metadata": {
    "application/vnd.databricks.v1+cell": {
     "cellMetadata": {},
     "inputWidgets": {},
     "nuid": "a3934ad5-236f-418e-b4d4-33fb70625690",
     "showTitle": false,
     "title": ""
    }
   },
   "source": [
    "### MÉTRICAS Y EVALUACIÓN"
   ]
  },
  {
   "cell_type": "code",
   "execution_count": 0,
   "metadata": {
    "application/vnd.databricks.v1+cell": {
     "cellMetadata": {
      "byteLimit": 2048000,
      "rowLimit": 10000
     },
     "inputWidgets": {},
     "nuid": "58a3fa43-a3ca-4457-88bc-110e32952347",
     "showTitle": false,
     "title": ""
    }
   },
   "outputs": [],
   "source": [
    "#Métricas de evaluación\n",
    "eval = RegressionEvaluator(labelCol=\"summary_index\", predictionCol=\"prediction\", metricName=\"rmse\")"
   ]
  },
  {
   "cell_type": "code",
   "execution_count": 0,
   "metadata": {
    "application/vnd.databricks.v1+cell": {
     "cellMetadata": {
      "byteLimit": 2048000,
      "rowLimit": 10000
     },
     "inputWidgets": {},
     "nuid": "a4c0cfb5-de59-4dd0-b5df-0ec5b1c9efb6",
     "showTitle": false,
     "title": ""
    }
   },
   "outputs": [
    {
     "output_type": "stream",
     "name": "stdout",
     "output_type": "stream",
     "text": [
      "RMSE: 1.487\nMSE: 2.210\nMAE: 1.016\nr2: 0.190\n"
     ]
    }
   ],
   "source": [
    "# Root Mean Square Error\n",
    "rmse = eval.evaluate(get_prediction)\n",
    "print(\"RMSE: %.3f\" % rmse)\n",
    "# Mean Square Error\n",
    "mse = eval.evaluate(get_prediction, {eval.metricName: \"mse\"})\n",
    "print(\"MSE: %.3f\" % mse)\n",
    "# Mean Absolute Error\n",
    "mae = eval.evaluate(get_prediction, {eval.metricName: \"mae\"})\n",
    "print(\"MAE: %.3f\" % mae)\n",
    "# r2 - coefficient of determination\n",
    "r2 = eval.evaluate(get_prediction, {eval.metricName: \"r2\"})\n",
    "print(\"r2: %.3f\" %r2)"
   ]
  },
  {
   "cell_type": "code",
   "execution_count": 0,
   "metadata": {
    "application/vnd.databricks.v1+cell": {
     "cellMetadata": {
      "byteLimit": 2048000,
      "rowLimit": 10000
     },
     "inputWidgets": {},
     "nuid": "7c7696a2-ef25-46d3-aa36-9fe381436a35",
     "showTitle": false,
     "title": ""
    }
   },
   "outputs": [
    {
     "output_type": "stream",
     "name": "stdout",
     "output_type": "stream",
     "text": [
      "Métricas extraídas del resumen del modelo:\nR2:  0.19511452471050805\nRoot Mean Squared Error:  1.4558514195662307\nMean Squared Error:  2.1195033558530088\nMean Absolute Error:  1.0026779371016865\nExplained Variance:  0.513794699473004\n"
     ]
    }
   ],
   "source": [
    "\n",
    "#Obtención de métricas directamente del 'model.summary'\n",
    "print(\"Métricas extraídas del resumen del modelo:\")\n",
    "print(\"R2: \", lr_model.summary.r2)\n",
    "print(\"Root Mean Squared Error: \", lr_model.summary.rootMeanSquaredError)\n",
    "print(\"Mean Squared Error: \", lr_model.summary.meanSquaredError)\n",
    "print(\"Mean Absolute Error: \", lr_model.summary.meanAbsoluteError)\n",
    "print(\"Explained Variance: \", lr_model.summary.explainedVariance) # Sólo es posible extraerla desde el 'model.summary'\n"
   ]
  }
 ],
 "metadata": {
  "application/vnd.databricks.v1+notebook": {
   "dashboards": [],
   "environmentMetadata": null,
   "language": "python",
   "notebookMetadata": {
    "pythonIndentUnit": 4
   },
   "notebookName": "MACHINE LEARNING - REGRESION MULTILINEAR",
   "widgets": {}
  }
 },
 "nbformat": 4,
 "nbformat_minor": 0
}
