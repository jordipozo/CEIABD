{
 "cells": [
  {
   "cell_type": "code",
   "execution_count": 0,
   "metadata": {
    "application/vnd.databricks.v1+cell": {
     "cellMetadata": {},
     "inputWidgets": {},
     "nuid": "898549fe-64a4-42f5-9d34-6feabd3bf6e2",
     "showTitle": true,
     "title": "Selección de un conjunto de datos"
    }
   },
   "outputs": [],
   "source": [
    "#En nuestro caso, vamos a trabajar con datos sobre la Liga Santander. Los datos son suministrados por StatsBomb y están disponibles como base de datos abierta en la página https://fbref.com. La propia página da la opción de descargar los datos que nos interesen en formato csv, que es lo que se ha hecho para este ejercicio. \n",
    "#En función de cada tipo de modelo, se utilizarán unos datos u otros. El procesado, preparación y descripción de los mismos va a depender del tipo de modelo, así que las explicaciones de estos apartados se incluyen en los correspondientes a cada uno de los modelos. "
   ]
  },
  {
   "cell_type": "code",
   "execution_count": 0,
   "metadata": {
    "application/vnd.databricks.v1+cell": {
     "cellMetadata": {},
     "inputWidgets": {},
     "nuid": "9d3c94fb-530a-4357-8cc6-3d902341f6c9",
     "showTitle": true,
     "title": "Implementación y análisis de algún modelo de clasificación"
    }
   },
   "outputs": [
    {
     "output_type": "display_data",
     "data": {
      "text/html": [
       "<style scoped>\n",
       "  .table-result-container {\n",
       "    max-height: 300px;\n",
       "    overflow: auto;\n",
       "  }\n",
       "  table, th, td {\n",
       "    border: 1px solid black;\n",
       "    border-collapse: collapse;\n",
       "  }\n",
       "  th, td {\n",
       "    padding: 5px;\n",
       "  }\n",
       "  th {\n",
       "    text-align: left;\n",
       "  }\n",
       "</style><div class='table-result-container'><table class='table-result'><thead style='background-color: white'><tr><th>Squad</th><th>Sh</th><th>SoT</th><th>FK</th><th>SoT%</th><th>Sh/90</th><th>SoT/90</th><th>G/Sh</th><th>G/SoT</th><th>npxG</th><th>npxG/Sh</th><th>G-xG</th><th>np:G-xG</th><th>TARGET_Eu</th></tr></thead><tbody><tr><td>Alavés</td><td>419</td><td>118</td><td>15</td><td>28.2</td><td>11.03</td><td>3.11</td><td>0.09</td><td>0.31</td><td>35.4</td><td>0.09</td><td>1.3</td><td>1.6</td><td>0</td></tr><tr><td>Athletic Bilbao</td><td>368</td><td>133</td><td>6</td><td>36.1</td><td>9.68</td><td>3.5</td><td>0.09</td><td>0.24</td><td>33.6</td><td>0.1</td><td>-2.1</td><td>-1.6</td><td>0</td></tr><tr><td>Atlético Madrid</td><td>439</td><td>160</td><td>21</td><td>36.4</td><td>11.55</td><td>4.21</td><td>0.11</td><td>0.31</td><td>41.3</td><td>0.1</td><td>7.6</td><td>7.7</td><td>1</td></tr><tr><td>Barcelona</td><td>552</td><td>243</td><td>50</td><td>44.0</td><td>14.53</td><td>6.39</td><td>0.14</td><td>0.33</td><td>67.3</td><td>0.13</td><td>13.9</td><td>12.7</td><td>1</td></tr><tr><td>Betis</td><td>440</td><td>154</td><td>31</td><td>35.0</td><td>11.58</td><td>4.05</td><td>0.09</td><td>0.25</td><td>42.4</td><td>0.1</td><td>-4.7</td><td>-4.4</td><td>0</td></tr><tr><td>Celta Vigo</td><td>438</td><td>157</td><td>21</td><td>35.8</td><td>11.53</td><td>4.13</td><td>0.1</td><td>0.29</td><td>39.0</td><td>0.09</td><td>7.9</td><td>6.0</td><td>0</td></tr><tr><td>Eibar</td><td>519</td><td>154</td><td>19</td><td>29.7</td><td>13.66</td><td>4.05</td><td>0.08</td><td>0.25</td><td>44.7</td><td>0.09</td><td>-4.6</td><td>-5.7</td><td>0</td></tr><tr><td>Espanyol</td><td>464</td><td>153</td><td>25</td><td>33.0</td><td>12.21</td><td>4.03</td><td>0.08</td><td>0.25</td><td>45.6</td><td>0.1</td><td>-5.6</td><td>-6.6</td><td>1</td></tr><tr><td>Getafe</td><td>385</td><td>123</td><td>12</td><td>31.9</td><td>10.13</td><td>3.24</td><td>0.11</td><td>0.33</td><td>39.8</td><td>0.11</td><td>2.7</td><td>1.2</td><td>1</td></tr><tr><td>Girona</td><td>394</td><td>140</td><td>18</td><td>35.5</td><td>10.37</td><td>3.68</td><td>0.08</td><td>0.22</td><td>35.2</td><td>0.09</td><td>-2.4</td><td>-4.2</td><td>0</td></tr><tr><td>Huesca</td><td>470</td><td>140</td><td>18</td><td>29.8</td><td>12.37</td><td>3.68</td><td>0.08</td><td>0.26</td><td>39.1</td><td>0.09</td><td>-1.4</td><td>-2.1</td><td>0</td></tr><tr><td>Leganés</td><td>407</td><td>128</td><td>13</td><td>31.4</td><td>10.71</td><td>3.37</td><td>0.08</td><td>0.25</td><td>32.9</td><td>0.08</td><td>-1.6</td><td>-0.9</td><td>0</td></tr><tr><td>Levante</td><td>425</td><td>151</td><td>29</td><td>35.5</td><td>11.18</td><td>3.97</td><td>0.12</td><td>0.34</td><td>44.1</td><td>0.11</td><td>6.5</td><td>6.9</td><td>0</td></tr><tr><td>Rayo Vallecano</td><td>446</td><td>144</td><td>21</td><td>32.3</td><td>11.74</td><td>3.79</td><td>0.08</td><td>0.24</td><td>36.5</td><td>0.08</td><td>-0.3</td><td>-1.5</td><td>0</td></tr><tr><td>Real Madrid</td><td>579</td><td>202</td><td>19</td><td>34.9</td><td>15.24</td><td>5.32</td><td>0.09</td><td>0.25</td><td>53.3</td><td>0.09</td><td>0.2</td><td>-2.3</td><td>1</td></tr><tr><td>Real Sociedad</td><td>413</td><td>131</td><td>15</td><td>31.7</td><td>10.87</td><td>3.45</td><td>0.09</td><td>0.27</td><td>38.6</td><td>0.1</td><td>-1.8</td><td>-2.6</td><td>0</td></tr><tr><td>Sevilla</td><td>516</td><td>170</td><td>12</td><td>32.9</td><td>13.58</td><td>4.47</td><td>0.11</td><td>0.32</td><td>57.0</td><td>0.11</td><td>-1.7</td><td>-2.0</td><td>1</td></tr><tr><td>Valencia</td><td>464</td><td>154</td><td>18</td><td>33.2</td><td>12.21</td><td>4.05</td><td>0.1</td><td>0.29</td><td>51.4</td><td>0.11</td><td>-6.7</td><td>-6.4</td><td>1</td></tr><tr><td>Valladolid</td><td>408</td><td>128</td><td>25</td><td>31.4</td><td>10.74</td><td>3.37</td><td>0.07</td><td>0.21</td><td>33.4</td><td>0.08</td><td>-7.8</td><td>-6.4</td><td>0</td></tr><tr><td>Villarreal</td><td>481</td><td>166</td><td>7</td><td>34.5</td><td>12.66</td><td>4.37</td><td>0.09</td><td>0.27</td><td>45.8</td><td>0.1</td><td>-2.9</td><td>-1.8</td><td>0</td></tr></tbody></table></div>"
      ]
     },
     "metadata": {
      "application/vnd.databricks.v1+output": {
       "addedWidgets": {},
       "aggData": [],
       "aggError": "",
       "aggOverflow": false,
       "aggSchema": [],
       "aggSeriesLimitReached": false,
       "aggType": "",
       "arguments": {},
       "columnCustomDisplayInfos": {},
       "data": [
        [
         "Alavés",
         419,
         118,
         15,
         28.2,
         11.03,
         3.11,
         0.09,
         0.31,
         35.4,
         0.09,
         1.3,
         1.6,
         0
        ],
        [
         "Athletic Bilbao",
         368,
         133,
         6,
         36.1,
         9.68,
         3.5,
         0.09,
         0.24,
         33.6,
         0.1,
         -2.1,
         -1.6,
         0
        ],
        [
         "Atlético Madrid",
         439,
         160,
         21,
         36.4,
         11.55,
         4.21,
         0.11,
         0.31,
         41.3,
         0.1,
         7.6,
         7.7,
         1
        ],
        [
         "Barcelona",
         552,
         243,
         50,
         44.0,
         14.53,
         6.39,
         0.14,
         0.33,
         67.3,
         0.13,
         13.9,
         12.7,
         1
        ],
        [
         "Betis",
         440,
         154,
         31,
         35.0,
         11.58,
         4.05,
         0.09,
         0.25,
         42.4,
         0.1,
         -4.7,
         -4.4,
         0
        ],
        [
         "Celta Vigo",
         438,
         157,
         21,
         35.8,
         11.53,
         4.13,
         0.1,
         0.29,
         39.0,
         0.09,
         7.9,
         6.0,
         0
        ],
        [
         "Eibar",
         519,
         154,
         19,
         29.7,
         13.66,
         4.05,
         0.08,
         0.25,
         44.7,
         0.09,
         -4.6,
         -5.7,
         0
        ],
        [
         "Espanyol",
         464,
         153,
         25,
         33.0,
         12.21,
         4.03,
         0.08,
         0.25,
         45.6,
         0.1,
         -5.6,
         -6.6,
         1
        ],
        [
         "Getafe",
         385,
         123,
         12,
         31.9,
         10.13,
         3.24,
         0.11,
         0.33,
         39.8,
         0.11,
         2.7,
         1.2,
         1
        ],
        [
         "Girona",
         394,
         140,
         18,
         35.5,
         10.37,
         3.68,
         0.08,
         0.22,
         35.2,
         0.09,
         -2.4,
         -4.2,
         0
        ],
        [
         "Huesca",
         470,
         140,
         18,
         29.8,
         12.37,
         3.68,
         0.08,
         0.26,
         39.1,
         0.09,
         -1.4,
         -2.1,
         0
        ],
        [
         "Leganés",
         407,
         128,
         13,
         31.4,
         10.71,
         3.37,
         0.08,
         0.25,
         32.9,
         0.08,
         -1.6,
         -0.9,
         0
        ],
        [
         "Levante",
         425,
         151,
         29,
         35.5,
         11.18,
         3.97,
         0.12,
         0.34,
         44.1,
         0.11,
         6.5,
         6.9,
         0
        ],
        [
         "Rayo Vallecano",
         446,
         144,
         21,
         32.3,
         11.74,
         3.79,
         0.08,
         0.24,
         36.5,
         0.08,
         -0.3,
         -1.5,
         0
        ],
        [
         "Real Madrid",
         579,
         202,
         19,
         34.9,
         15.24,
         5.32,
         0.09,
         0.25,
         53.3,
         0.09,
         0.2,
         -2.3,
         1
        ],
        [
         "Real Sociedad",
         413,
         131,
         15,
         31.7,
         10.87,
         3.45,
         0.09,
         0.27,
         38.6,
         0.1,
         -1.8,
         -2.6,
         0
        ],
        [
         "Sevilla",
         516,
         170,
         12,
         32.9,
         13.58,
         4.47,
         0.11,
         0.32,
         57.0,
         0.11,
         -1.7,
         -2.0,
         1
        ],
        [
         "Valencia",
         464,
         154,
         18,
         33.2,
         12.21,
         4.05,
         0.1,
         0.29,
         51.4,
         0.11,
         -6.7,
         -6.4,
         1
        ],
        [
         "Valladolid",
         408,
         128,
         25,
         31.4,
         10.74,
         3.37,
         0.07,
         0.21,
         33.4,
         0.08,
         -7.8,
         -6.4,
         0
        ],
        [
         "Villarreal",
         481,
         166,
         7,
         34.5,
         12.66,
         4.37,
         0.09,
         0.27,
         45.8,
         0.1,
         -2.9,
         -1.8,
         0
        ]
       ],
       "datasetInfos": [
        {
         "name": "df1",
         "schema": {
          "fields": [
           {
            "metadata": {},
            "name": "Rk",
            "nullable": true,
            "type": "integer"
           },
           {
            "metadata": {},
            "name": "Squad",
            "nullable": true,
            "type": "string"
           },
           {
            "metadata": {},
            "name": "MP",
            "nullable": true,
            "type": "integer"
           },
           {
            "metadata": {},
            "name": "W",
            "nullable": true,
            "type": "integer"
           },
           {
            "metadata": {},
            "name": "D",
            "nullable": true,
            "type": "integer"
           },
           {
            "metadata": {},
            "name": "L",
            "nullable": true,
            "type": "integer"
           },
           {
            "metadata": {},
            "name": "GF",
            "nullable": true,
            "type": "integer"
           },
           {
            "metadata": {},
            "name": "GA",
            "nullable": true,
            "type": "integer"
           },
           {
            "metadata": {},
            "name": "GDiff",
            "nullable": true,
            "type": "integer"
           },
           {
            "metadata": {},
            "name": "Pts",
            "nullable": true,
            "type": "integer"
           },
           {
            "metadata": {},
            "name": "xG",
            "nullable": true,
            "type": "double"
           },
           {
            "metadata": {},
            "name": "xGA",
            "nullable": true,
            "type": "double"
           },
           {
            "metadata": {},
            "name": "xGDiff",
            "nullable": true,
            "type": "double"
           },
           {
            "metadata": {},
            "name": "xGDiff/90",
            "nullable": true,
            "type": "double"
           },
           {
            "metadata": {},
            "name": "Attendance",
            "nullable": true,
            "type": "integer"
           },
           {
            "metadata": {},
            "name": "Top Team Scorer",
            "nullable": true,
            "type": "string"
           },
           {
            "metadata": {},
            "name": "Goalkeeper",
            "nullable": true,
            "type": "string"
           },
           {
            "metadata": {},
            "name": "Notes",
            "nullable": true,
            "type": "string"
           }
          ],
          "type": "struct"
         },
         "tableIdentifier": null,
         "typeStr": "pyspark.sql.dataframe.DataFrame"
        },
        {
         "name": "df2",
         "schema": {
          "fields": [
           {
            "metadata": {},
            "name": "Squad",
            "nullable": true,
            "type": "string"
           },
           {
            "metadata": {},
            "name": "# Pl",
            "nullable": true,
            "type": "integer"
           },
           {
            "metadata": {},
            "name": "Gls",
            "nullable": true,
            "type": "integer"
           },
           {
            "metadata": {},
            "name": "PK",
            "nullable": true,
            "type": "integer"
           },
           {
            "metadata": {},
            "name": "PKatt",
            "nullable": true,
            "type": "integer"
           },
           {
            "metadata": {},
            "name": "Sh",
            "nullable": true,
            "type": "integer"
           },
           {
            "metadata": {},
            "name": "SoT",
            "nullable": true,
            "type": "integer"
           },
           {
            "metadata": {},
            "name": "FK",
            "nullable": true,
            "type": "integer"
           },
           {
            "metadata": {},
            "name": "SoT%",
            "nullable": true,
            "type": "double"
           },
           {
            "metadata": {},
            "name": "Sh/90",
            "nullable": true,
            "type": "double"
           },
           {
            "metadata": {},
            "name": "SoT/90",
            "nullable": true,
            "type": "double"
           },
           {
            "metadata": {},
            "name": "G/Sh",
            "nullable": true,
            "type": "double"
           },
           {
            "metadata": {},
            "name": "G/SoT",
            "nullable": true,
            "type": "double"
           },
           {
            "metadata": {},
            "name": "xG",
            "nullable": true,
            "type": "double"
           },
           {
            "metadata": {},
            "name": "npxG",
            "nullable": true,
            "type": "double"
           },
           {
            "metadata": {},
            "name": "npxG/Sh",
            "nullable": true,
            "type": "double"
           },
           {
            "metadata": {},
            "name": "G-xG",
            "nullable": true,
            "type": "double"
           },
           {
            "metadata": {},
            "name": "np:G-xG",
            "nullable": true,
            "type": "double"
           }
          ],
          "type": "struct"
         },
         "tableIdentifier": null,
         "typeStr": "pyspark.sql.dataframe.DataFrame"
        },
        {
         "name": "df3",
         "schema": {
          "fields": [
           {
            "metadata": {},
            "name": "Squad",
            "nullable": true,
            "type": "string"
           },
           {
            "metadata": {},
            "name": "Sh",
            "nullable": true,
            "type": "integer"
           },
           {
            "metadata": {},
            "name": "SoT",
            "nullable": true,
            "type": "integer"
           },
           {
            "metadata": {},
            "name": "FK",
            "nullable": true,
            "type": "integer"
           },
           {
            "metadata": {},
            "name": "SoT%",
            "nullable": true,
            "type": "double"
           },
           {
            "metadata": {},
            "name": "Sh/90",
            "nullable": true,
            "type": "double"
           },
           {
            "metadata": {},
            "name": "SoT/90",
            "nullable": true,
            "type": "double"
           },
           {
            "metadata": {},
            "name": "G/Sh",
            "nullable": true,
            "type": "double"
           },
           {
            "metadata": {},
            "name": "G/SoT",
            "nullable": true,
            "type": "double"
           },
           {
            "metadata": {},
            "name": "npxG",
            "nullable": true,
            "type": "double"
           },
           {
            "metadata": {},
            "name": "npxG/Sh",
            "nullable": true,
            "type": "double"
           },
           {
            "metadata": {},
            "name": "G-xG",
            "nullable": true,
            "type": "double"
           },
           {
            "metadata": {},
            "name": "np:G-xG",
            "nullable": true,
            "type": "double"
           },
           {
            "metadata": {},
            "name": "TARGET_Eu",
            "nullable": false,
            "type": "integer"
           }
          ],
          "type": "struct"
         },
         "tableIdentifier": null,
         "typeStr": "pyspark.sql.dataframe.DataFrame"
        }
       ],
       "dbfsResultPath": null,
       "isJsonSchema": true,
       "metadata": {},
       "overflow": false,
       "plotOptions": {
        "customPlotOptions": {},
        "displayType": "table",
        "pivotAggregation": null,
        "pivotColumns": null,
        "xColumns": null,
        "yColumns": null
       },
       "removedWidgets": [],
       "schema": [
        {
         "metadata": "{}",
         "name": "Squad",
         "type": "\"string\""
        },
        {
         "metadata": "{}",
         "name": "Sh",
         "type": "\"integer\""
        },
        {
         "metadata": "{}",
         "name": "SoT",
         "type": "\"integer\""
        },
        {
         "metadata": "{}",
         "name": "FK",
         "type": "\"integer\""
        },
        {
         "metadata": "{}",
         "name": "SoT%",
         "type": "\"double\""
        },
        {
         "metadata": "{}",
         "name": "Sh/90",
         "type": "\"double\""
        },
        {
         "metadata": "{}",
         "name": "SoT/90",
         "type": "\"double\""
        },
        {
         "metadata": "{}",
         "name": "G/Sh",
         "type": "\"double\""
        },
        {
         "metadata": "{}",
         "name": "G/SoT",
         "type": "\"double\""
        },
        {
         "metadata": "{}",
         "name": "npxG",
         "type": "\"double\""
        },
        {
         "metadata": "{}",
         "name": "npxG/Sh",
         "type": "\"double\""
        },
        {
         "metadata": "{}",
         "name": "G-xG",
         "type": "\"double\""
        },
        {
         "metadata": "{}",
         "name": "np:G-xG",
         "type": "\"double\""
        },
        {
         "metadata": "{}",
         "name": "TARGET_Eu",
         "type": "\"integer\""
        }
       ],
       "type": "table"
      }
     },
     "output_type": "display_data"
    }
   ],
   "source": [
    "#El objetivo de este primer apartado es crear un modelo de clasificación binaria, que prediga la clasificación para puestos europeos en Primera División en función de métricas relacionadas con los tiros obtenidas en la temporada anterior. Es decir, desarrollaremos un modelo que prediga si se van a conseguir puestos europeos esta temporada con las estadísticas de disparos que se están obteniendo, basándose en resultados de la temporada anterior. \n",
    "\n",
    "from pyspark.sql import SparkSession\n",
    "from pyspark.sql.functions import col, when\n",
    "import warnings\n",
    "warnings.filterwarnings(\"ignore\")\n",
    "\n",
    "#Para comenzar, cargamos los datos que nos interesan. En este caso son dos tablas:\n",
    "#     -La tabla General1819 contiene información general sobre los equipos, como son los puntos, la posición, los goles, etc de la temporada pasada.              Esta tabla nos interesa solamente porque incluye la posición que ocupa cada equipo.\n",
    "#     -La tabla Tiros1819 es con la que vamos a trabajar principalmente, en cuanto incluye información sobre distintas métricas relacionadas con los tiros, #      como se verá a continuación, también referidos a la temporada pasada. \n",
    "df1 = spark.read.option(\"header\",\"true\").option(\"inferSchema\", \"true\").csv('/FileStore/tables/General1819.csv')\n",
    "df2 = spark.read.option(\"header\",\"true\").option(\"inferSchema\", \"true\").csv('/FileStore/tables/Tiros1819.csv')\n",
    "\n",
    "#Una vez que hemos cargado ambos conjuntos de datos, los unimos, para incluir la posición de los equipos en la información que tenemos. \n",
    "df3 = df1.join(df2,['Squad'],how='inner')\n",
    "\n",
    "#Añadimos una nueva columna, que nos servirá para nuestra clasificación binaria, y nos dice si el equipo está en puestos europeos (posiciones 1ª y 2ª) o no.\n",
    "\n",
    "df3 = df3.withColumn(\n",
    "    'TARGET_Eu',when((col('Rk') <= 7), 1)\\\n",
    "    .otherwise(0))\n",
    " #Limpiamos el dataframe para quedarnos únicamente con las columnas que nos interesan.\n",
    "df3 = df3.drop('MP','W','D','L','GF','xG','GA','GDiff','Pts','xGA','xGDiff','xGDiff/90','Last 5','Attendance','Top Team Scorer','Goalkeeper','Notes','# Pl','Gls','PK','PKatt','Rk')\n",
    "\n",
    "display(df3)\n",
    "#Ya tenemos listo el conjunto de datos para trabajar con él. Las categorías a las que se refiere cada columna son las siguientes:\n",
    "  #Sh: Disparos\n",
    "  #SoT: Disparos a puerta\n",
    "  #FK: Tiros libres.\n",
    "  #SoT%: Porcentaje de disparos a puerta sobre el total de disparos.\n",
    "  #Sh/90: Disparos por cada 90 minutos.\n",
    "  #SoT/90: Disparos a puerta por cada 90 minutos.\n",
    "  #G/Sh: Goles marcados por cada disparo.\n",
    "  #G/SoT: Goles marcados por cada disparo a puerta\n",
    "  #npxG: Goles esperados sin contar los penaltis.\n",
    "  #npxG: Goles esperados sin contar los penaltis por cada disparo (mide la calidad media de las ocasiones del equipo)\n",
    "  #G-xG: diferencia entre los goles marcados realmente y los goles esperados.\n",
    "  #np:G-xG: misma métrica que la anterior pero sin contar penaltis\n",
    "  #TARGET_Eu: clasificación binaria, donde 0 significa no estar en puestos europeos y 1 sí estarlo."
   ]
  },
  {
   "cell_type": "code",
   "execution_count": 0,
   "metadata": {
    "application/vnd.databricks.v1+cell": {
     "cellMetadata": {},
     "inputWidgets": {},
     "nuid": "1f8874bb-2faa-443f-8801-ea5f2e0db1fe",
     "showTitle": false,
     "title": ""
    }
   },
   "outputs": [
    {
     "output_type": "display_data",
     "data": {
      "text/html": [
       "<div>\n",
       "<style scoped>\n",
       "    .dataframe tbody tr th:only-of-type {\n",
       "        vertical-align: middle;\n",
       "    }\n",
       "\n",
       "    .dataframe tbody tr th {\n",
       "        vertical-align: top;\n",
       "    }\n",
       "\n",
       "    .dataframe thead th {\n",
       "        text-align: right;\n",
       "    }\n",
       "</style>\n",
       "<table border=\"1\" class=\"dataframe\">\n",
       "  <thead>\n",
       "    <tr style=\"text-align: right;\">\n",
       "      <th></th>\n",
       "      <th>0</th>\n",
       "      <th>1</th>\n",
       "      <th>2</th>\n",
       "      <th>3</th>\n",
       "      <th>4</th>\n",
       "    </tr>\n",
       "  </thead>\n",
       "  <tbody>\n",
       "    <tr>\n",
       "      <th>summary</th>\n",
       "      <td>count</td>\n",
       "      <td>mean</td>\n",
       "      <td>stddev</td>\n",
       "      <td>min</td>\n",
       "      <td>max</td>\n",
       "    </tr>\n",
       "    <tr>\n",
       "      <th>Squad</th>\n",
       "      <td>20</td>\n",
       "      <td>None</td>\n",
       "      <td>None</td>\n",
       "      <td>Alavés</td>\n",
       "      <td>Villarreal</td>\n",
       "    </tr>\n",
       "    <tr>\n",
       "      <th>Sh</th>\n",
       "      <td>20</td>\n",
       "      <td>451.35</td>\n",
       "      <td>55.68357501378471</td>\n",
       "      <td>368</td>\n",
       "      <td>579</td>\n",
       "    </tr>\n",
       "    <tr>\n",
       "      <th>SoT</th>\n",
       "      <td>20</td>\n",
       "      <td>152.45</td>\n",
       "      <td>28.748409566993075</td>\n",
       "      <td>118</td>\n",
       "      <td>243</td>\n",
       "    </tr>\n",
       "    <tr>\n",
       "      <th>FK</th>\n",
       "      <td>20</td>\n",
       "      <td>19.75</td>\n",
       "      <td>9.623846479066028</td>\n",
       "      <td>6</td>\n",
       "      <td>50</td>\n",
       "    </tr>\n",
       "    <tr>\n",
       "      <th>SoT%</th>\n",
       "      <td>20</td>\n",
       "      <td>33.66</td>\n",
       "      <td>3.374735857109881</td>\n",
       "      <td>28.2</td>\n",
       "      <td>44.0</td>\n",
       "    </tr>\n",
       "    <tr>\n",
       "      <th>Sh/90</th>\n",
       "      <td>20</td>\n",
       "      <td>11.878500000000004</td>\n",
       "      <td>1.466493400850083</td>\n",
       "      <td>9.68</td>\n",
       "      <td>15.24</td>\n",
       "    </tr>\n",
       "    <tr>\n",
       "      <th>SoT/90</th>\n",
       "      <td>20</td>\n",
       "      <td>4.0115</td>\n",
       "      <td>0.7555010536758126</td>\n",
       "      <td>3.11</td>\n",
       "      <td>6.39</td>\n",
       "    </tr>\n",
       "    <tr>\n",
       "      <th>G/Sh</th>\n",
       "      <td>20</td>\n",
       "      <td>0.09400000000000003</td>\n",
       "      <td>0.016982963599783726</td>\n",
       "      <td>0.07</td>\n",
       "      <td>0.14</td>\n",
       "    </tr>\n",
       "    <tr>\n",
       "      <th>G/SoT</th>\n",
       "      <td>20</td>\n",
       "      <td>0.274</td>\n",
       "      <td>0.038580060298444054</td>\n",
       "      <td>0.21</td>\n",
       "      <td>0.34</td>\n",
       "    </tr>\n",
       "    <tr>\n",
       "      <th>npxG</th>\n",
       "      <td>20</td>\n",
       "      <td>42.81999999999999</td>\n",
       "      <td>8.851500021554479</td>\n",
       "      <td>32.9</td>\n",
       "      <td>67.3</td>\n",
       "    </tr>\n",
       "    <tr>\n",
       "      <th>npxG/Sh</th>\n",
       "      <td>20</td>\n",
       "      <td>0.09750000000000003</td>\n",
       "      <td>0.0125131509768092</td>\n",
       "      <td>0.08</td>\n",
       "      <td>0.13</td>\n",
       "    </tr>\n",
       "    <tr>\n",
       "      <th>G-xG</th>\n",
       "      <td>20</td>\n",
       "      <td>-0.17500000000000007</td>\n",
       "      <td>5.4949618072519755</td>\n",
       "      <td>-7.8</td>\n",
       "      <td>13.9</td>\n",
       "    </tr>\n",
       "    <tr>\n",
       "      <th>np:G-xG</th>\n",
       "      <td>20</td>\n",
       "      <td>-0.6200000000000001</td>\n",
       "      <td>5.255533424776915</td>\n",
       "      <td>-6.6</td>\n",
       "      <td>12.7</td>\n",
       "    </tr>\n",
       "    <tr>\n",
       "      <th>TARGET_Eu</th>\n",
       "      <td>20</td>\n",
       "      <td>0.35</td>\n",
       "      <td>0.4893604849295929</td>\n",
       "      <td>0</td>\n",
       "      <td>1</td>\n",
       "    </tr>\n",
       "  </tbody>\n",
       "</table>\n",
       "</div>"
      ]
     },
     "metadata": {
      "application/vnd.databricks.v1+output": {
       "addedWidgets": {},
       "arguments": {},
       "data": "<div>\n<style scoped>\n    .dataframe tbody tr th:only-of-type {\n        vertical-align: middle;\n    }\n\n    .dataframe tbody tr th {\n        vertical-align: top;\n    }\n\n    .dataframe thead th {\n        text-align: right;\n    }\n</style>\n<table border=\"1\" class=\"dataframe\">\n  <thead>\n    <tr style=\"text-align: right;\">\n      <th></th>\n      <th>0</th>\n      <th>1</th>\n      <th>2</th>\n      <th>3</th>\n      <th>4</th>\n    </tr>\n  </thead>\n  <tbody>\n    <tr>\n      <th>summary</th>\n      <td>count</td>\n      <td>mean</td>\n      <td>stddev</td>\n      <td>min</td>\n      <td>max</td>\n    </tr>\n    <tr>\n      <th>Squad</th>\n      <td>20</td>\n      <td>None</td>\n      <td>None</td>\n      <td>Alavés</td>\n      <td>Villarreal</td>\n    </tr>\n    <tr>\n      <th>Sh</th>\n      <td>20</td>\n      <td>451.35</td>\n      <td>55.68357501378471</td>\n      <td>368</td>\n      <td>579</td>\n    </tr>\n    <tr>\n      <th>SoT</th>\n      <td>20</td>\n      <td>152.45</td>\n      <td>28.748409566993075</td>\n      <td>118</td>\n      <td>243</td>\n    </tr>\n    <tr>\n      <th>FK</th>\n      <td>20</td>\n      <td>19.75</td>\n      <td>9.623846479066028</td>\n      <td>6</td>\n      <td>50</td>\n    </tr>\n    <tr>\n      <th>SoT%</th>\n      <td>20</td>\n      <td>33.66</td>\n      <td>3.374735857109881</td>\n      <td>28.2</td>\n      <td>44.0</td>\n    </tr>\n    <tr>\n      <th>Sh/90</th>\n      <td>20</td>\n      <td>11.878500000000004</td>\n      <td>1.466493400850083</td>\n      <td>9.68</td>\n      <td>15.24</td>\n    </tr>\n    <tr>\n      <th>SoT/90</th>\n      <td>20</td>\n      <td>4.0115</td>\n      <td>0.7555010536758126</td>\n      <td>3.11</td>\n      <td>6.39</td>\n    </tr>\n    <tr>\n      <th>G/Sh</th>\n      <td>20</td>\n      <td>0.09400000000000003</td>\n      <td>0.016982963599783726</td>\n      <td>0.07</td>\n      <td>0.14</td>\n    </tr>\n    <tr>\n      <th>G/SoT</th>\n      <td>20</td>\n      <td>0.274</td>\n      <td>0.038580060298444054</td>\n      <td>0.21</td>\n      <td>0.34</td>\n    </tr>\n    <tr>\n      <th>npxG</th>\n      <td>20</td>\n      <td>42.81999999999999</td>\n      <td>8.851500021554479</td>\n      <td>32.9</td>\n      <td>67.3</td>\n    </tr>\n    <tr>\n      <th>npxG/Sh</th>\n      <td>20</td>\n      <td>0.09750000000000003</td>\n      <td>0.0125131509768092</td>\n      <td>0.08</td>\n      <td>0.13</td>\n    </tr>\n    <tr>\n      <th>G-xG</th>\n      <td>20</td>\n      <td>-0.17500000000000007</td>\n      <td>5.4949618072519755</td>\n      <td>-7.8</td>\n      <td>13.9</td>\n    </tr>\n    <tr>\n      <th>np:G-xG</th>\n      <td>20</td>\n      <td>-0.6200000000000001</td>\n      <td>5.255533424776915</td>\n      <td>-6.6</td>\n      <td>12.7</td>\n    </tr>\n    <tr>\n      <th>TARGET_Eu</th>\n      <td>20</td>\n      <td>0.35</td>\n      <td>0.4893604849295929</td>\n      <td>0</td>\n      <td>1</td>\n    </tr>\n  </tbody>\n</table>\n</div>",
       "datasetInfos": [],
       "metadata": {},
       "removedWidgets": [],
       "textData": "<div class=\"ansiout\">Out[170]: </div>",
       "type": "htmlSandbox"
      }
     },
     "output_type": "display_data"
    }
   ],
   "source": [
    "#Comprobamos que no hay ningún tipo de valor extraño obteniento la descripción estadística del dataframe\n",
    "dfdescribe = df3.describe().toPandas().transpose()\n",
    "dfdescribe"
   ]
  },
  {
   "cell_type": "code",
   "execution_count": 0,
   "metadata": {
    "application/vnd.databricks.v1+cell": {
     "cellMetadata": {},
     "inputWidgets": {},
     "nuid": "3d7fda8c-79ca-4743-bfd6-ca90a1471981",
     "showTitle": false,
     "title": ""
    }
   },
   "outputs": [
    {
     "output_type": "display_data",
     "data": {
      "text/html": [
       "<style scoped>\n",
       "  .ansiout {\n",
       "    display: block;\n",
       "    unicode-bidi: embed;\n",
       "    white-space: pre-wrap;\n",
       "    word-wrap: break-word;\n",
       "    word-break: break-all;\n",
       "    font-family: \"Menlo\", \"Monaco\", \"Consolas\", \"Ubuntu Mono\", \"Source Code Pro\", monospace;\n",
       "    font-size: 13px;\n",
       "    color: #555;\n",
       "    margin-left: 4px;\n",
       "    line-height: 19px;\n",
       "  }\n",
       "</style>\n",
       "<div class=\"ansiout\">Sh Su correlación con TARGET_Eu es: 0.46268622097275747\n",
       "SoT Su correlación con TARGET_Eu es: 0.515715813165015\n",
       "FK Su correlación con TARGET_Eu es: 0.2095415184891176\n",
       "SoT% Su correlación con TARGET_Eu es: 0.3403681921439709\n",
       "Sh/90 Su correlación con TARGET_Eu es: 0.4620749275387281\n",
       "SoT/90 Su correlación con TARGET_Eu es: 0.516689014022762\n",
       "G/Sh Su correlación con TARGET_Eu es: 0.519299464572717\n",
       "G/SoT Su correlación con TARGET_Eu es: 0.4516163055166298\n",
       "npxG Su correlación con TARGET_Eu es: 0.6799521201156105\n",
       "npxG/Sh Su correlación con TARGET_Eu es: 0.5801690933963233\n",
       "G-xG Su correlación con TARGET_Eu es: 0.22753372906183048\n",
       "np:G-xG Su correlación con TARGET_Eu es: 0.17681310106614398\n",
       "TARGET_Eu Su correlación con TARGET_Eu es: 1.0\n",
       "</div>"
      ]
     },
     "metadata": {
      "application/vnd.databricks.v1+output": {
       "addedWidgets": {},
       "arguments": {},
       "data": "<div class=\"ansiout\">Sh Su correlación con TARGET_Eu es: 0.46268622097275747\nSoT Su correlación con TARGET_Eu es: 0.515715813165015\nFK Su correlación con TARGET_Eu es: 0.2095415184891176\nSoT% Su correlación con TARGET_Eu es: 0.3403681921439709\nSh/90 Su correlación con TARGET_Eu es: 0.4620749275387281\nSoT/90 Su correlación con TARGET_Eu es: 0.516689014022762\nG/Sh Su correlación con TARGET_Eu es: 0.519299464572717\nG/SoT Su correlación con TARGET_Eu es: 0.4516163055166298\nnpxG Su correlación con TARGET_Eu es: 0.6799521201156105\nnpxG/Sh Su correlación con TARGET_Eu es: 0.5801690933963233\nG-xG Su correlación con TARGET_Eu es: 0.22753372906183048\nnp:G-xG Su correlación con TARGET_Eu es: 0.17681310106614398\nTARGET_Eu Su correlación con TARGET_Eu es: 1.0\n</div>",
       "datasetInfos": [],
       "metadata": {},
       "removedWidgets": [],
       "type": "html"
      }
     },
     "output_type": "display_data"
    }
   ],
   "source": [
    "#Pasamos ahora a obtener la correlación estadística de todas las variables que tenemos con nuestra variable objetivo. Para ello\n",
    "#utilizamos la función corr, que nos va a dar una medición cuantitativa de esta correlación. Cuanto más cerca esté de 1, mayor relación hay entre variables.\n",
    "import six\n",
    "for i in df3.columns:\n",
    "  if not( isinstance(df3.select(i).take(1)[0][0], six.string_types)):\n",
    "    print( i, \"Su correlación con TARGET_Eu es:\",    df3.stat.corr('TARGET_Eu', i))\n",
    "    \n",
    "#Podemos observar que la variable que más correlaciona con nuestra variable objetivo es npxG, es decir, los goles esperados sin contar penaltis."
   ]
  },
  {
   "cell_type": "code",
   "execution_count": 0,
   "metadata": {
    "application/vnd.databricks.v1+cell": {
     "cellMetadata": {},
     "inputWidgets": {},
     "nuid": "d0dfc54d-6cb0-4194-864b-bcedd0628afc",
     "showTitle": false,
     "title": ""
    }
   },
   "outputs": [
    {
     "output_type": "display_data",
     "data": {
      "image/png": "[encoded data removed]"
     },
     "metadata": {
      "application/vnd.databricks.v1+output": {
       "addedWidgets": {},
       "arguments": {},
       "data": "data:image/png;base64,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",
       "datasetInfos": [],
       "metadata": {},
       "removedWidgets": [],
       "type": "image"
      }
     },
     "output_type": "display_data"
    }
   ],
   "source": [
    "#De hecho, podemos echar un ojo a la representación gráfica en una matriz de correlación. \n",
    "import matplotlib.pyplot as plt\n",
    "import seaborn as sns\n",
    "plt.figure(figsize=(24,23))\n",
    "sns.heatmap(df3.select([c for c in df3]).toPandas().corr(),linewidths=0.2,vmax=1.0, square=True, linecolor=\"white\",annot=True)\n",
    "display(plt.show())\n",
    "plt.gcf().clear()\n",
    "plt.clear()\n",
    "#En este caso, cuanto más claro es el color de la celda, más correlación estadística hay entre variables."
   ]
  },
  {
   "cell_type": "code",
   "execution_count": 0,
   "metadata": {
    "application/vnd.databricks.v1+cell": {
     "cellMetadata": {},
     "inputWidgets": {},
     "nuid": "d0a965e9-ea77-4359-9d5c-311c7b88d4e4",
     "showTitle": false,
     "title": ""
    }
   },
   "outputs": [
    {
     "output_type": "display_data",
     "data": {
      "text/html": [
       "<style scoped>\n",
       "  .ansiout {\n",
       "    display: block;\n",
       "    unicode-bidi: embed;\n",
       "    white-space: pre-wrap;\n",
       "    word-wrap: break-word;\n",
       "    word-break: break-all;\n",
       "    font-family: \"Menlo\", \"Monaco\", \"Consolas\", \"Ubuntu Mono\", \"Source Code Pro\", monospace;\n",
       "    font-size: 13px;\n",
       "    color: #555;\n",
       "    margin-left: 4px;\n",
       "    line-height: 19px;\n",
       "  }\n",
       "</style>\n",
       "<div class=\"ansiout\"></div>"
      ]
     },
     "metadata": {
      "application/vnd.databricks.v1+output": {
       "addedWidgets": {},
       "arguments": {},
       "data": "<div class=\"ansiout\"></div>",
       "datasetInfos": [
        {
         "name": "dffinal",
         "schema": {
          "fields": [
           {
            "metadata": {},
            "name": "Squad",
            "nullable": true,
            "type": "string"
           },
           {
            "metadata": {},
            "name": "Sh",
            "nullable": true,
            "type": "integer"
           },
           {
            "metadata": {},
            "name": "SoT",
            "nullable": true,
            "type": "integer"
           },
           {
            "metadata": {},
            "name": "FK",
            "nullable": true,
            "type": "integer"
           },
           {
            "metadata": {},
            "name": "SoT%",
            "nullable": true,
            "type": "double"
           },
           {
            "metadata": {},
            "name": "Sh/90",
            "nullable": true,
            "type": "double"
           },
           {
            "metadata": {},
            "name": "SoT/90",
            "nullable": true,
            "type": "double"
           },
           {
            "metadata": {},
            "name": "G/Sh",
            "nullable": true,
            "type": "double"
           },
           {
            "metadata": {},
            "name": "G/SoT",
            "nullable": true,
            "type": "double"
           },
           {
            "metadata": {},
            "name": "npxG",
            "nullable": true,
            "type": "double"
           },
           {
            "metadata": {},
            "name": "npxG/Sh",
            "nullable": true,
            "type": "double"
           },
           {
            "metadata": {},
            "name": "G-xG",
            "nullable": true,
            "type": "double"
           },
           {
            "metadata": {},
            "name": "np:G-xG",
            "nullable": true,
            "type": "double"
           },
           {
            "metadata": {},
            "name": "TARGET_Eu",
            "nullable": false,
            "type": "integer"
           },
           {
            "metadata": {
             "ml_attr": {
              "name": "SquadIndex",
              "type": "nominal",
              "vals": [
               "Sevilla",
               "Espanyol",
               "Girona",
               "Atlético Madrid",
               "Real Sociedad",
               "Alavés",
               "Leganés",
               "Betis",
               "Valladolid",
               "Celta Vigo",
               "Valencia",
               "Real Madrid",
               "Villarreal",
               "Getafe",
               "Eibar",
               "Levante",
               "Huesca",
               "Barcelona",
               "Rayo Vallecano",
               "Athletic Bilbao"
              ]
             }
            },
            "name": "SquadIndex",
            "nullable": false,
            "type": "double"
           },
           {
            "metadata": {
             "ml_attr": {
              "attrs": {
               "binary": [
                {
                 "idx": 0,
                 "name": "Sevilla"
                },
                {
                 "idx": 1,
                 "name": "Espanyol"
                },
                {
                 "idx": 2,
                 "name": "Girona"
                },
                {
                 "idx": 3,
                 "name": "Atlético Madrid"
                },
                {
                 "idx": 4,
                 "name": "Real Sociedad"
                },
                {
                 "idx": 5,
                 "name": "Alavés"
                },
                {
                 "idx": 6,
                 "name": "Leganés"
                },
                {
                 "idx": 7,
                 "name": "Betis"
                },
                {
                 "idx": 8,
                 "name": "Valladolid"
                },
                {
                 "idx": 9,
                 "name": "Celta Vigo"
                },
                {
                 "idx": 10,
                 "name": "Valencia"
                },
                {
                 "idx": 11,
                 "name": "Real Madrid"
                },
                {
                 "idx": 12,
                 "name": "Villarreal"
                },
                {
                 "idx": 13,
                 "name": "Getafe"
                },
                {
                 "idx": 14,
                 "name": "Eibar"
                },
                {
                 "idx": 15,
                 "name": "Levante"
                },
                {
                 "idx": 16,
                 "name": "Huesca"
                },
                {
                 "idx": 17,
                 "name": "Barcelona"
                },
                {
                 "idx": 18,
                 "name": "Rayo Vallecano"
                }
               ]
              },
              "num_attrs": 19
             }
            },
            "name": "SquadclassVec",
            "nullable": true,
            "type": {
             "class": "org.apache.spark.ml.linalg.VectorUDT",
             "pyClass": "pyspark.ml.linalg.VectorUDT",
             "sqlType": {
              "fields": [
               {
                "metadata": {},
                "name": "type",
                "nullable": false,
                "type": "byte"
               },
               {
                "metadata": {},
                "name": "size",
                "nullable": true,
                "type": "integer"
               },
               {
                "metadata": {},
                "name": "indices",
                "nullable": true,
                "type": {
                 "containsNull": false,
                 "elementType": "integer",
                 "type": "array"
                }
               },
               {
                "metadata": {},
                "name": "values",
                "nullable": true,
                "type": {
                 "containsNull": false,
                 "elementType": "double",
                 "type": "array"
                }
               }
              ],
              "type": "struct"
             },
             "type": "udt"
            }
           },
           {
            "metadata": {
             "ml_attr": {
              "name": "label",
              "type": "nominal",
              "vals": [
               "0",
               "1"
              ]
             }
            },
            "name": "label",
            "nullable": false,
            "type": "double"
           },
           {
            "metadata": {
             "ml_attr": {
              "name": "Squad_Index",
              "type": "nominal",
              "vals": [
               "Sevilla",
               "Espanyol",
               "Girona",
               "Atlético Madrid",
               "Real Sociedad",
               "Alavés",
               "Leganés",
               "Betis",
               "Valladolid",
               "Celta Vigo",
               "Valencia",
               "Real Madrid",
               "Villarreal",
               "Getafe",
               "Eibar",
               "Levante",
               "Huesca",
               "Barcelona",
               "Rayo Vallecano",
               "Athletic Bilbao"
              ]
             }
            },
            "name": "Squad_Index",
            "nullable": false,
            "type": "double"
           },
           {
            "metadata": {
             "ml_attr": {
              "attrs": {
               "nominal": [
                {
                 "idx": 0,
                 "name": "Squad_Index",
                 "vals": [
                  "Sevilla",
                  "Espanyol",
                  "Girona",
                  "Atlético Madrid",
                  "Real Sociedad",
                  "Alavés",
                  "Leganés",
                  "Betis",
                  "Valladolid",
                  "Celta Vigo",
                  "Valencia",
                  "Real Madrid",
                  "Villarreal",
                  "Getafe",
                  "Eibar",
                  "Levante",
                  "Huesca",
                  "Barcelona",
                  "Rayo Vallecano",
                  "Athletic Bilbao"
                 ]
                }
               ],
               "numeric": [
                {
                 "idx": 1,
                 "name": "Sh"
                },
                {
                 "idx": 2,
                 "name": "SoT"
                },
                {
                 "idx": 3,
                 "name": "FK"
                },
                {
                 "idx": 4,
                 "name": "SoT%"
                },
                {
                 "idx": 5,
                 "name": "Sh/90"
                },
                {
                 "idx": 6,
                 "name": "SoT/90"
                },
                {
                 "idx": 7,
                 "name": "G/Sh"
                },
                {
                 "idx": 8,
                 "name": "G/SoT"
                },
                {
                 "idx": 9,
                 "name": "npxG"
                },
                {
                 "idx": 10,
                 "name": "npxG/Sh"
                },
                {
                 "idx": 11,
                 "name": "G-xG"
                },
                {
                 "idx": 12,
                 "name": "np:G-xG"
                },
                {
                 "idx": 13,
                 "name": "TARGET_Eu"
                }
               ]
              },
              "num_attrs": 14
             }
            },
            "name": "features",
            "nullable": true,
            "type": {
             "class": "org.apache.spark.ml.linalg.VectorUDT",
             "pyClass": "pyspark.ml.linalg.VectorUDT",
             "sqlType": {
              "fields": [
               {
                "metadata": {},
                "name": "type",
                "nullable": false,
                "type": "byte"
               },
               {
                "metadata": {},
                "name": "size",
                "nullable": true,
                "type": "integer"
               },
               {
                "metadata": {},
                "name": "indices",
                "nullable": true,
                "type": {
                 "containsNull": false,
                 "elementType": "integer",
                 "type": "array"
                }
               },
               {
                "metadata": {},
                "name": "values",
                "nullable": true,
                "type": {
                 "containsNull": false,
                 "elementType": "double",
                 "type": "array"
                }
               }
              ],
              "type": "struct"
             },
             "type": "udt"
            }
           }
          ],
          "type": "struct"
         },
         "tableIdentifier": null,
         "typeStr": "pyspark.sql.dataframe.DataFrame"
        }
       ],
       "metadata": {},
       "removedWidgets": [],
       "type": "html"
      }
     },
     "output_type": "display_data"
    }
   ],
   "source": [
    "#Una vez que ya tenemos el dataframe listo y que observamos que hay ciertas variables que pueden tener suficiente relevancia estadística, pasamos al entrenamiento de nuestro modelo. Para ello, vamos a utilizar el dataframe que ya tenemos. Una vez entrenado, aplicaremos nuestro modelo a los datos que tenemos de esta temporada para obtener nuestra predicción.\n",
    "\n",
    "#Para empezar, vamos a preparar los datos para integrarlos en el modelo y nuestra pipeline para ejecutar todas las etapas.\n",
    "\n",
    "from pyspark.ml.feature import OneHotEncoderEstimator, StringIndexer, VectorAssembler\n",
    "#Creamos el vector en el que se van a incluir los datos de nuestra pipeline\n",
    "stages =[]\n",
    "#Operamos sobre la columna referente al nombre de los equipos, que es una cadena de texto, para etiquetarla e indexarla.\n",
    "ColumnaTexto = ['Squad']\n",
    "for Col in ColumnaTexto:\n",
    "  stringIndexer = StringIndexer(inputCol=Col, outputCol=Col + \"Index\")\n",
    "  encoder = OneHotEncoderEstimator(inputCols=[stringIndexer.getOutputCol()], outputCols=[Col + \"classVec\"])\n",
    "  stages += [stringIndexer, encoder]\n",
    "  \n",
    "labelstring = StringIndexer(inputCol=\"TARGET_Eu\",outputCol=\"label\")\n",
    "squadstring = StringIndexer(inputCol='Squad',outputCol='Squad_Index')\n",
    "stages += [labelstring, squadstring]\n",
    "\n",
    "#Eliminamos la columna Squad, nos quedamos solo con las columnas con valores numéricos\n",
    "features = ['Squad_Index','Sh','SoT','FK','SoT%','Sh/90','SoT/90','G/Sh','G/SoT','npxG','npxG/Sh','G-xG','np:G-xG','TARGET_Eu']\n",
    "\n",
    "#Definimos una última etapa de la pipeline\n",
    "vectorAssembler = VectorAssembler (inputCols = features, outputCol = 'features')\n",
    "stages += [vectorAssembler]\n",
    "\n",
    "#Ejecutamos las etapas que hemos incluido en la pipeline. \n",
    "\n",
    "from pyspark.ml import Pipeline\n",
    "pipeline = Pipeline().setStages(stages)\n",
    "pipelineModel = pipeline.fit(df3)\n",
    "dffinal=pipelineModel.transform(df3)"
   ]
  },
  {
   "cell_type": "code",
   "execution_count": 0,
   "metadata": {
    "application/vnd.databricks.v1+cell": {
     "cellMetadata": {},
     "inputWidgets": {},
     "nuid": "d7b2b341-8b44-4630-8d38-eadac557558e",
     "showTitle": false,
     "title": ""
    }
   },
   "outputs": [
    {
     "output_type": "display_data",
     "data": {
      "text/html": [
       "<style scoped>\n",
       "  .ansiout {\n",
       "    display: block;\n",
       "    unicode-bidi: embed;\n",
       "    white-space: pre-wrap;\n",
       "    word-wrap: break-word;\n",
       "    word-break: break-all;\n",
       "    font-family: \"Menlo\", \"Monaco\", \"Consolas\", \"Ubuntu Mono\", \"Source Code Pro\", monospace;\n",
       "    font-size: 13px;\n",
       "    color: #555;\n",
       "    margin-left: 4px;\n",
       "    line-height: 19px;\n",
       "  }\n",
       "</style>\n",
       "<div class=\"ansiout\"></div>"
      ]
     },
     "metadata": {
      "application/vnd.databricks.v1+output": {
       "addedWidgets": {},
       "arguments": {},
       "data": "<div class=\"ansiout\"></div>",
       "datasetInfos": [
        {
         "name": "df4",
         "schema": {
          "fields": [
           {
            "metadata": {},
            "name": "Rk",
            "nullable": true,
            "type": "integer"
           },
           {
            "metadata": {},
            "name": "Squad",
            "nullable": true,
            "type": "string"
           },
           {
            "metadata": {},
            "name": "MP",
            "nullable": true,
            "type": "integer"
           },
           {
            "metadata": {},
            "name": "W",
            "nullable": true,
            "type": "integer"
           },
           {
            "metadata": {},
            "name": "D",
            "nullable": true,
            "type": "integer"
           },
           {
            "metadata": {},
            "name": "L",
            "nullable": true,
            "type": "integer"
           },
           {
            "metadata": {},
            "name": "GF",
            "nullable": true,
            "type": "integer"
           },
           {
            "metadata": {},
            "name": "GA",
            "nullable": true,
            "type": "integer"
           },
           {
            "metadata": {},
            "name": "GDiff",
            "nullable": true,
            "type": "integer"
           },
           {
            "metadata": {},
            "name": "Pts",
            "nullable": true,
            "type": "integer"
           },
           {
            "metadata": {},
            "name": "xG",
            "nullable": true,
            "type": "double"
           },
           {
            "metadata": {},
            "name": "xGA",
            "nullable": true,
            "type": "double"
           },
           {
            "metadata": {},
            "name": "xGDiff",
            "nullable": true,
            "type": "double"
           },
           {
            "metadata": {},
            "name": "xGDiff/90",
            "nullable": true,
            "type": "double"
           },
           {
            "metadata": {},
            "name": "Last 5",
            "nullable": true,
            "type": "string"
           },
           {
            "metadata": {},
            "name": "Attendance",
            "nullable": true,
            "type": "integer"
           },
           {
            "metadata": {},
            "name": "Top Team Scorer",
            "nullable": true,
            "type": "string"
           },
           {
            "metadata": {},
            "name": "Goalkeeper",
            "nullable": true,
            "type": "string"
           },
           {
            "metadata": {},
            "name": "Notes",
            "nullable": true,
            "type": "string"
           }
          ],
          "type": "struct"
         },
         "tableIdentifier": null,
         "typeStr": "pyspark.sql.dataframe.DataFrame"
        },
        {
         "name": "df5",
         "schema": {
          "fields": [
           {
            "metadata": {},
            "name": "Squad",
            "nullable": true,
            "type": "string"
           },
           {
            "metadata": {},
            "name": "# Pl",
            "nullable": true,
            "type": "integer"
           },
           {
            "metadata": {},
            "name": "Gls",
            "nullable": true,
            "type": "integer"
           },
           {
            "metadata": {},
            "name": "PK",
            "nullable": true,
            "type": "integer"
           },
           {
            "metadata": {},
            "name": "PKatt",
            "nullable": true,
            "type": "integer"
           },
           {
            "metadata": {},
            "name": "Sh",
            "nullable": true,
            "type": "integer"
           },
           {
            "metadata": {},
            "name": "SoT",
            "nullable": true,
            "type": "integer"
           },
           {
            "metadata": {},
            "name": "FK",
            "nullable": true,
            "type": "integer"
           },
           {
            "metadata": {},
            "name": "SoT%",
            "nullable": true,
            "type": "double"
           },
           {
            "metadata": {},
            "name": "Sh/90",
            "nullable": true,
            "type": "double"
           },
           {
            "metadata": {},
            "name": "SoT/90",
            "nullable": true,
            "type": "double"
           },
           {
            "metadata": {},
            "name": "G/Sh",
            "nullable": true,
            "type": "double"
           },
           {
            "metadata": {},
            "name": "G/SoT",
            "nullable": true,
            "type": "double"
           },
           {
            "metadata": {},
            "name": "xG",
            "nullable": true,
            "type": "double"
           },
           {
            "metadata": {},
            "name": "npxG",
            "nullable": true,
            "type": "double"
           },
           {
            "metadata": {},
            "name": "npxG/Sh",
            "nullable": true,
            "type": "double"
           },
           {
            "metadata": {},
            "name": "G-xG",
            "nullable": true,
            "type": "double"
           },
           {
            "metadata": {},
            "name": "np:G-xG",
            "nullable": true,
            "type": "double"
           }
          ],
          "type": "struct"
         },
         "tableIdentifier": null,
         "typeStr": "pyspark.sql.dataframe.DataFrame"
        },
        {
         "name": "df6",
         "schema": {
          "fields": [
           {
            "metadata": {},
            "name": "Squad",
            "nullable": true,
            "type": "string"
           },
           {
            "metadata": {},
            "name": "Sh",
            "nullable": true,
            "type": "integer"
           },
           {
            "metadata": {},
            "name": "SoT",
            "nullable": true,
            "type": "integer"
           },
           {
            "metadata": {},
            "name": "FK",
            "nullable": true,
            "type": "integer"
           },
           {
            "metadata": {},
            "name": "SoT%",
            "nullable": true,
            "type": "double"
           },
           {
            "metadata": {},
            "name": "Sh/90",
            "nullable": true,
            "type": "double"
           },
           {
            "metadata": {},
            "name": "SoT/90",
            "nullable": true,
            "type": "double"
           },
           {
            "metadata": {},
            "name": "G/Sh",
            "nullable": true,
            "type": "double"
           },
           {
            "metadata": {},
            "name": "G/SoT",
            "nullable": true,
            "type": "double"
           },
           {
            "metadata": {},
            "name": "npxG",
            "nullable": true,
            "type": "double"
           },
           {
            "metadata": {},
            "name": "npxG/Sh",
            "nullable": true,
            "type": "double"
           },
           {
            "metadata": {},
            "name": "G-xG",
            "nullable": true,
            "type": "double"
           },
           {
            "metadata": {},
            "name": "np:G-xG",
            "nullable": true,
            "type": "double"
           },
           {
            "metadata": {},
            "name": "TARGET_Eu",
            "nullable": false,
            "type": "integer"
           }
          ],
          "type": "struct"
         },
         "tableIdentifier": null,
         "typeStr": "pyspark.sql.dataframe.DataFrame"
        },
        {
         "name": "dffinal2",
         "schema": {
          "fields": [
           {
            "metadata": {},
            "name": "Squad",
            "nullable": true,
            "type": "string"
           },
           {
            "metadata": {},
            "name": "Sh",
            "nullable": true,
            "type": "integer"
           },
           {
            "metadata": {},
            "name": "SoT",
            "nullable": true,
            "type": "integer"
           },
           {
            "metadata": {},
            "name": "FK",
            "nullable": true,
            "type": "integer"
           },
           {
            "metadata": {},
            "name": "SoT%",
            "nullable": true,
            "type": "double"
           },
           {
            "metadata": {},
            "name": "Sh/90",
            "nullable": true,
            "type": "double"
           },
           {
            "metadata": {},
            "name": "SoT/90",
            "nullable": true,
            "type": "double"
           },
           {
            "metadata": {},
            "name": "G/Sh",
            "nullable": true,
            "type": "double"
           },
           {
            "metadata": {},
            "name": "G/SoT",
            "nullable": true,
            "type": "double"
           },
           {
            "metadata": {},
            "name": "npxG",
            "nullable": true,
            "type": "double"
           },
           {
            "metadata": {},
            "name": "npxG/Sh",
            "nullable": true,
            "type": "double"
           },
           {
            "metadata": {},
            "name": "G-xG",
            "nullable": true,
            "type": "double"
           },
           {
            "metadata": {},
            "name": "np:G-xG",
            "nullable": true,
            "type": "double"
           },
           {
            "metadata": {},
            "name": "TARGET_Eu",
            "nullable": false,
            "type": "integer"
           },
           {
            "metadata": {
             "ml_attr": {
              "name": "SquadIndex",
              "type": "nominal",
              "vals": [
               "Sevilla",
               "Espanyol",
               "Atlético Madrid",
               "Real Sociedad",
               "Alavés",
               "Leganés",
               "Mallorca",
               "Betis",
               "Valladolid",
               "Osasuna",
               "Celta Vigo",
               "Valencia",
               "Real Madrid",
               "Villarreal",
               "Getafe",
               "Eibar",
               "Levante",
               "Barcelona",
               "Athletic Bilbao",
               "Granada"
              ]
             }
            },
            "name": "SquadIndex",
            "nullable": false,
            "type": "double"
           },
           {
            "metadata": {
             "ml_attr": {
              "attrs": {
               "binary": [
                {
                 "idx": 0,
                 "name": "Sevilla"
                },
                {
                 "idx": 1,
                 "name": "Espanyol"
                },
                {
                 "idx": 2,
                 "name": "Atlético Madrid"
                },
                {
                 "idx": 3,
                 "name": "Real Sociedad"
                },
                {
                 "idx": 4,
                 "name": "Alavés"
                },
                {
                 "idx": 5,
                 "name": "Leganés"
                },
                {
                 "idx": 6,
                 "name": "Mallorca"
                },
                {
                 "idx": 7,
                 "name": "Betis"
                },
                {
                 "idx": 8,
                 "name": "Valladolid"
                },
                {
                 "idx": 9,
                 "name": "Osasuna"
                },
                {
                 "idx": 10,
                 "name": "Celta Vigo"
                },
                {
                 "idx": 11,
                 "name": "Valencia"
                },
                {
                 "idx": 12,
                 "name": "Real Madrid"
                },
                {
                 "idx": 13,
                 "name": "Villarreal"
                },
                {
                 "idx": 14,
                 "name": "Getafe"
                },
                {
                 "idx": 15,
                 "name": "Eibar"
                },
                {
                 "idx": 16,
                 "name": "Levante"
                },
                {
                 "idx": 17,
                 "name": "Barcelona"
                },
                {
                 "idx": 18,
                 "name": "Athletic Bilbao"
                }
               ]
              },
              "num_attrs": 19
             }
            },
            "name": "SquadclassVec",
            "nullable": true,
            "type": {
             "class": "org.apache.spark.ml.linalg.VectorUDT",
             "pyClass": "pyspark.ml.linalg.VectorUDT",
             "sqlType": {
              "fields": [
               {
                "metadata": {},
                "name": "type",
                "nullable": false,
                "type": "byte"
               },
               {
                "metadata": {},
                "name": "size",
                "nullable": true,
                "type": "integer"
               },
               {
                "metadata": {},
                "name": "indices",
                "nullable": true,
                "type": {
                 "containsNull": false,
                 "elementType": "integer",
                 "type": "array"
                }
               },
               {
                "metadata": {},
                "name": "values",
                "nullable": true,
                "type": {
                 "containsNull": false,
                 "elementType": "double",
                 "type": "array"
                }
               }
              ],
              "type": "struct"
             },
             "type": "udt"
            }
           },
           {
            "metadata": {
             "ml_attr": {
              "name": "label",
              "type": "nominal",
              "vals": [
               "0",
               "1"
              ]
             }
            },
            "name": "label",
            "nullable": false,
            "type": "double"
           },
           {
            "metadata": {
             "ml_attr": {
              "name": "Squad_Index",
              "type": "nominal",
              "vals": [
               "Sevilla",
               "Espanyol",
               "Atlético Madrid",
               "Real Sociedad",
               "Alavés",
               "Leganés",
               "Mallorca",
               "Betis",
               "Valladolid",
               "Osasuna",
               "Celta Vigo",
               "Valencia",
               "Real Madrid",
               "Villarreal",
               "Getafe",
               "Eibar",
               "Levante",
               "Barcelona",
               "Athletic Bilbao",
               "Granada"
              ]
             }
            },
            "name": "Squad_Index",
            "nullable": false,
            "type": "double"
           },
           {
            "metadata": {
             "ml_attr": {
              "attrs": {
               "nominal": [
                {
                 "idx": 0,
                 "name": "Squad_Index",
                 "vals": [
                  "Sevilla",
                  "Espanyol",
                  "Atlético Madrid",
                  "Real Sociedad",
                  "Alavés",
                  "Leganés",
                  "Mallorca",
                  "Betis",
                  "Valladolid",
                  "Osasuna",
                  "Celta Vigo",
                  "Valencia",
                  "Real Madrid",
                  "Villarreal",
                  "Getafe",
                  "Eibar",
                  "Levante",
                  "Barcelona",
                  "Athletic Bilbao",
                  "Granada"
                 ]
                }
               ],
               "numeric": [
                {
                 "idx": 1,
                 "name": "Sh"
                },
                {
                 "idx": 2,
                 "name": "SoT"
                },
                {
                 "idx": 3,
                 "name": "FK"
                },
                {
                 "idx": 4,
                 "name": "SoT%"
                },
                {
                 "idx": 5,
                 "name": "Sh/90"
                },
                {
                 "idx": 6,
                 "name": "SoT/90"
                },
                {
                 "idx": 7,
                 "name": "G/Sh"
                },
                {
                 "idx": 8,
                 "name": "G/SoT"
                },
                {
                 "idx": 9,
                 "name": "npxG"
                },
                {
                 "idx": 10,
                 "name": "npxG/Sh"
                },
                {
                 "idx": 11,
                 "name": "G-xG"
                },
                {
                 "idx": 12,
                 "name": "np:G-xG"
                },
                {
                 "idx": 13,
                 "name": "TARGET_Eu"
                }
               ]
              },
              "num_attrs": 14
             }
            },
            "name": "features",
            "nullable": true,
            "type": {
             "class": "org.apache.spark.ml.linalg.VectorUDT",
             "pyClass": "pyspark.ml.linalg.VectorUDT",
             "sqlType": {
              "fields": [
               {
                "metadata": {},
                "name": "type",
                "nullable": false,
                "type": "byte"
               },
               {
                "metadata": {},
                "name": "size",
                "nullable": true,
                "type": "integer"
               },
               {
                "metadata": {},
                "name": "indices",
                "nullable": true,
                "type": {
                 "containsNull": false,
                 "elementType": "integer",
                 "type": "array"
                }
               },
               {
                "metadata": {},
                "name": "values",
                "nullable": true,
                "type": {
                 "containsNull": false,
                 "elementType": "double",
                 "type": "array"
                }
               }
              ],
              "type": "struct"
             },
             "type": "udt"
            }
           }
          ],
          "type": "struct"
         },
         "tableIdentifier": null,
         "typeStr": "pyspark.sql.dataframe.DataFrame"
        }
       ],
       "metadata": {},
       "removedWidgets": [],
       "type": "html"
      }
     },
     "output_type": "display_data"
    }
   ],
   "source": [
    "#Vamos a dejar preparados los datos de esta temporada para poder aplicarle el modelo que vamos a entrenar. \n",
    "df4 = spark.read.option(\"header\",\"true\").option(\"inferSchema\", \"true\").csv('/FileStore/tables/General1920.csv')\n",
    "df5 = spark.read.option(\"header\",\"true\").option(\"inferSchema\", \"true\").csv('/FileStore/tables/Tiros1920.csv')\n",
    "\n",
    "df6 = df4.join(df5,['Squad'],how='inner')\n",
    "\n",
    "df6 = df6.withColumn(\n",
    "    'TARGET_Eu',\n",
    "    when((col(\"Rk\") <= 7), 1)\\\n",
    "    .otherwise(0)\n",
    ")\n",
    "\n",
    "df6 = df6.drop('MP','W','D','L','GF','xG','GA','GDiff','Pts','xGA','xGDiff','xGDiff/90','Last 5','Attendance','Top Team Scorer','Goalkeeper','Notes','# Pl','Gls','PK','PKatt','Rk')\n",
    "\n",
    "#Ejecutamos la pipeline para dejarlos preparados:\n",
    "pipelineModel = pipeline.fit(df6)\n",
    "dffinal2=pipelineModel.transform(df6)"
   ]
  },
  {
   "cell_type": "code",
   "execution_count": 0,
   "metadata": {
    "application/vnd.databricks.v1+cell": {
     "cellMetadata": {},
     "inputWidgets": {},
     "nuid": "e9f22274-55f1-4395-be0f-a23cf6f35cf5",
     "showTitle": false,
     "title": ""
    }
   },
   "outputs": [
    {
     "output_type": "display_data",
     "data": {
      "text/html": [
       "<style scoped>\n",
       "  .ansiout {\n",
       "    display: block;\n",
       "    unicode-bidi: embed;\n",
       "    white-space: pre-wrap;\n",
       "    word-wrap: break-word;\n",
       "    word-break: break-all;\n",
       "    font-family: \"Menlo\", \"Monaco\", \"Consolas\", \"Ubuntu Mono\", \"Source Code Pro\", monospace;\n",
       "    font-size: 13px;\n",
       "    color: #555;\n",
       "    margin-left: 4px;\n",
       "    line-height: 19px;\n",
       "  }\n",
       "</style>\n",
       "<div class=\"ansiout\"></div>"
      ]
     },
     "metadata": {
      "application/vnd.databricks.v1+output": {
       "addedWidgets": {},
       "arguments": {},
       "data": "<div class=\"ansiout\"></div>",
       "datasetInfos": [],
       "metadata": {},
       "removedWidgets": [],
       "type": "html"
      }
     },
     "output_type": "display_data"
    }
   ],
   "source": [
    "#Una vez preparados los datos para incluirlos en nuestro modelo, procedemos a entrenarlo. Vamos a utilizar en este caso un modelo de regresión logística.\n",
    "from pyspark.ml.classification import LogisticRegression\n",
    "lr = LogisticRegression(maxIter=15, regParam=0.3, elasticNetParam=0,family=\"binomial\")\n",
    "lrModel=(lr.fit(dffinal))"
   ]
  },
  {
   "cell_type": "code",
   "execution_count": 0,
   "metadata": {
    "application/vnd.databricks.v1+cell": {
     "cellMetadata": {},
     "inputWidgets": {},
     "nuid": "602adb08-4acb-4a42-bcd0-103c4563f2bb",
     "showTitle": false,
     "title": ""
    }
   },
   "outputs": [
    {
     "output_type": "display_data",
     "data": {
      "text/html": [
       "<style scoped>\n",
       "  .table-result-container {\n",
       "    max-height: 300px;\n",
       "    overflow: auto;\n",
       "  }\n",
       "  table, th, td {\n",
       "    border: 1px solid black;\n",
       "    border-collapse: collapse;\n",
       "  }\n",
       "  th, td {\n",
       "    padding: 5px;\n",
       "  }\n",
       "  th {\n",
       "    text-align: left;\n",
       "  }\n",
       "</style><div class='table-result-container'><table class='table-result'><thead style='background-color: white'><tr><th>Squad</th><th>npxG</th><th>label</th><th>prediction</th></tr></thead><tbody><tr><td>Real Madrid</td><td>38.0</td><td>1.0</td><td>1.0</td></tr><tr><td>Barcelona</td><td>36.5</td><td>1.0</td><td>1.0</td></tr><tr><td>Getafe</td><td>21.8</td><td>1.0</td><td>0.0</td></tr><tr><td>Atlético Madrid</td><td>28.5</td><td>1.0</td><td>1.0</td></tr><tr><td>Sevilla</td><td>27.1</td><td>1.0</td><td>1.0</td></tr><tr><td>Real Sociedad</td><td>28.7</td><td>1.0</td><td>1.0</td></tr><tr><td>Valencia</td><td>22.4</td><td>1.0</td><td>0.0</td></tr><tr><td>Villarreal</td><td>32.5</td><td>0.0</td><td>0.0</td></tr><tr><td>Athletic Bilbao</td><td>19.3</td><td>0.0</td><td>0.0</td></tr><tr><td>Granada</td><td>20.0</td><td>0.0</td><td>0.0</td></tr><tr><td>Levante</td><td>23.7</td><td>0.0</td><td>0.0</td></tr><tr><td>Osasuna</td><td>26.3</td><td>0.0</td><td>0.0</td></tr><tr><td>Betis</td><td>25.7</td><td>0.0</td><td>0.0</td></tr><tr><td>Alavés</td><td>21.4</td><td>0.0</td><td>0.0</td></tr><tr><td>Valladolid</td><td>17.9</td><td>0.0</td><td>0.0</td></tr><tr><td>Eibar</td><td>19.8</td><td>0.0</td><td>0.0</td></tr><tr><td>Celta Vigo</td><td>21.2</td><td>0.0</td><td>0.0</td></tr><tr><td>Mallorca</td><td>20.2</td><td>0.0</td><td>0.0</td></tr><tr><td>Leganés</td><td>20.7</td><td>0.0</td><td>0.0</td></tr><tr><td>Espanyol</td><td>19.8</td><td>0.0</td><td>0.0</td></tr></tbody></table></div>"
      ]
     },
     "metadata": {
      "application/vnd.databricks.v1+output": {
       "addedWidgets": {},
       "aggData": [],
       "aggError": "",
       "aggOverflow": false,
       "aggSchema": [],
       "aggSeriesLimitReached": false,
       "aggType": "",
       "arguments": {},
       "columnCustomDisplayInfos": {},
       "data": [
        [
         "Real Madrid",
         38.0,
         1.0,
         1.0
        ],
        [
         "Barcelona",
         36.5,
         1.0,
         1.0
        ],
        [
         "Getafe",
         21.8,
         1.0,
         0.0
        ],
        [
         "Atlético Madrid",
         28.5,
         1.0,
         1.0
        ],
        [
         "Sevilla",
         27.1,
         1.0,
         1.0
        ],
        [
         "Real Sociedad",
         28.7,
         1.0,
         1.0
        ],
        [
         "Valencia",
         22.4,
         1.0,
         0.0
        ],
        [
         "Villarreal",
         32.5,
         0.0,
         0.0
        ],
        [
         "Athletic Bilbao",
         19.3,
         0.0,
         0.0
        ],
        [
         "Granada",
         20.0,
         0.0,
         0.0
        ],
        [
         "Levante",
         23.7,
         0.0,
         0.0
        ],
        [
         "Osasuna",
         26.3,
         0.0,
         0.0
        ],
        [
         "Betis",
         25.7,
         0.0,
         0.0
        ],
        [
         "Alavés",
         21.4,
         0.0,
         0.0
        ],
        [
         "Valladolid",
         17.9,
         0.0,
         0.0
        ],
        [
         "Eibar",
         19.8,
         0.0,
         0.0
        ],
        [
         "Celta Vigo",
         21.2,
         0.0,
         0.0
        ],
        [
         "Mallorca",
         20.2,
         0.0,
         0.0
        ],
        [
         "Leganés",
         20.7,
         0.0,
         0.0
        ],
        [
         "Espanyol",
         19.8,
         0.0,
         0.0
        ]
       ],
       "datasetInfos": [
        {
         "name": "predict",
         "schema": {
          "fields": [
           {
            "metadata": {},
            "name": "Squad",
            "nullable": true,
            "type": "string"
           },
           {
            "metadata": {},
            "name": "Sh",
            "nullable": true,
            "type": "integer"
           },
           {
            "metadata": {},
            "name": "SoT",
            "nullable": true,
            "type": "integer"
           },
           {
            "metadata": {},
            "name": "FK",
            "nullable": true,
            "type": "integer"
           },
           {
            "metadata": {},
            "name": "SoT%",
            "nullable": true,
            "type": "double"
           },
           {
            "metadata": {},
            "name": "Sh/90",
            "nullable": true,
            "type": "double"
           },
           {
            "metadata": {},
            "name": "SoT/90",
            "nullable": true,
            "type": "double"
           },
           {
            "metadata": {},
            "name": "G/Sh",
            "nullable": true,
            "type": "double"
           },
           {
            "metadata": {},
            "name": "G/SoT",
            "nullable": true,
            "type": "double"
           },
           {
            "metadata": {},
            "name": "npxG",
            "nullable": true,
            "type": "double"
           },
           {
            "metadata": {},
            "name": "npxG/Sh",
            "nullable": true,
            "type": "double"
           },
           {
            "metadata": {},
            "name": "G-xG",
            "nullable": true,
            "type": "double"
           },
           {
            "metadata": {},
            "name": "np:G-xG",
            "nullable": true,
            "type": "double"
           },
           {
            "metadata": {},
            "name": "TARGET_Eu",
            "nullable": false,
            "type": "integer"
           },
           {
            "metadata": {
             "ml_attr": {
              "name": "SquadIndex",
              "type": "nominal",
              "vals": [
               "Sevilla",
               "Espanyol",
               "Atlético Madrid",
               "Real Sociedad",
               "Alavés",
               "Leganés",
               "Mallorca",
               "Betis",
               "Valladolid",
               "Osasuna",
               "Celta Vigo",
               "Valencia",
               "Real Madrid",
               "Villarreal",
               "Getafe",
               "Eibar",
               "Levante",
               "Barcelona",
               "Athletic Bilbao",
               "Granada"
              ]
             }
            },
            "name": "SquadIndex",
            "nullable": false,
            "type": "double"
           },
           {
            "metadata": {
             "ml_attr": {
              "attrs": {
               "binary": [
                {
                 "idx": 0,
                 "name": "Sevilla"
                },
                {
                 "idx": 1,
                 "name": "Espanyol"
                },
                {
                 "idx": 2,
                 "name": "Atlético Madrid"
                },
                {
                 "idx": 3,
                 "name": "Real Sociedad"
                },
                {
                 "idx": 4,
                 "name": "Alavés"
                },
                {
                 "idx": 5,
                 "name": "Leganés"
                },
                {
                 "idx": 6,
                 "name": "Mallorca"
                },
                {
                 "idx": 7,
                 "name": "Betis"
                },
                {
                 "idx": 8,
                 "name": "Valladolid"
                },
                {
                 "idx": 9,
                 "name": "Osasuna"
                },
                {
                 "idx": 10,
                 "name": "Celta Vigo"
                },
                {
                 "idx": 11,
                 "name": "Valencia"
                },
                {
                 "idx": 12,
                 "name": "Real Madrid"
                },
                {
                 "idx": 13,
                 "name": "Villarreal"
                },
                {
                 "idx": 14,
                 "name": "Getafe"
                },
                {
                 "idx": 15,
                 "name": "Eibar"
                },
                {
                 "idx": 16,
                 "name": "Levante"
                },
                {
                 "idx": 17,
                 "name": "Barcelona"
                },
                {
                 "idx": 18,
                 "name": "Athletic Bilbao"
                }
               ]
              },
              "num_attrs": 19
             }
            },
            "name": "SquadclassVec",
            "nullable": true,
            "type": {
             "class": "org.apache.spark.ml.linalg.VectorUDT",
             "pyClass": "pyspark.ml.linalg.VectorUDT",
             "sqlType": {
              "fields": [
               {
                "metadata": {},
                "name": "type",
                "nullable": false,
                "type": "byte"
               },
               {
                "metadata": {},
                "name": "size",
                "nullable": true,
                "type": "integer"
               },
               {
                "metadata": {},
                "name": "indices",
                "nullable": true,
                "type": {
                 "containsNull": false,
                 "elementType": "integer",
                 "type": "array"
                }
               },
               {
                "metadata": {},
                "name": "values",
                "nullable": true,
                "type": {
                 "containsNull": false,
                 "elementType": "double",
                 "type": "array"
                }
               }
              ],
              "type": "struct"
             },
             "type": "udt"
            }
           },
           {
            "metadata": {
             "ml_attr": {
              "name": "label",
              "type": "nominal",
              "vals": [
               "0",
               "1"
              ]
             }
            },
            "name": "label",
            "nullable": false,
            "type": "double"
           },
           {
            "metadata": {
             "ml_attr": {
              "name": "Squad_Index",
              "type": "nominal",
              "vals": [
               "Sevilla",
               "Espanyol",
               "Atlético Madrid",
               "Real Sociedad",
               "Alavés",
               "Leganés",
               "Mallorca",
               "Betis",
               "Valladolid",
               "Osasuna",
               "Celta Vigo",
               "Valencia",
               "Real Madrid",
               "Villarreal",
               "Getafe",
               "Eibar",
               "Levante",
               "Barcelona",
               "Athletic Bilbao",
               "Granada"
              ]
             }
            },
            "name": "Squad_Index",
            "nullable": false,
            "type": "double"
           },
           {
            "metadata": {
             "ml_attr": {
              "attrs": {
               "nominal": [
                {
                 "idx": 0,
                 "name": "Squad_Index",
                 "vals": [
                  "Sevilla",
                  "Espanyol",
                  "Atlético Madrid",
                  "Real Sociedad",
                  "Alavés",
                  "Leganés",
                  "Mallorca",
                  "Betis",
                  "Valladolid",
                  "Osasuna",
                  "Celta Vigo",
                  "Valencia",
                  "Real Madrid",
                  "Villarreal",
                  "Getafe",
                  "Eibar",
                  "Levante",
                  "Barcelona",
                  "Athletic Bilbao",
                  "Granada"
                 ]
                }
               ],
               "numeric": [
                {
                 "idx": 1,
                 "name": "Sh"
                },
                {
                 "idx": 2,
                 "name": "SoT"
                },
                {
                 "idx": 3,
                 "name": "FK"
                },
                {
                 "idx": 4,
                 "name": "SoT%"
                },
                {
                 "idx": 5,
                 "name": "Sh/90"
                },
                {
                 "idx": 6,
                 "name": "SoT/90"
                },
                {
                 "idx": 7,
                 "name": "G/Sh"
                },
                {
                 "idx": 8,
                 "name": "G/SoT"
                },
                {
                 "idx": 9,
                 "name": "npxG"
                },
                {
                 "idx": 10,
                 "name": "npxG/Sh"
                },
                {
                 "idx": 11,
                 "name": "G-xG"
                },
                {
                 "idx": 12,
                 "name": "np:G-xG"
                },
                {
                 "idx": 13,
                 "name": "TARGET_Eu"
                }
               ]
              },
              "num_attrs": 14
             }
            },
            "name": "features",
            "nullable": true,
            "type": {
             "class": "org.apache.spark.ml.linalg.VectorUDT",
             "pyClass": "pyspark.ml.linalg.VectorUDT",
             "sqlType": {
              "fields": [
               {
                "metadata": {},
                "name": "type",
                "nullable": false,
                "type": "byte"
               },
               {
                "metadata": {},
                "name": "size",
                "nullable": true,
                "type": "integer"
               },
               {
                "metadata": {},
                "name": "indices",
                "nullable": true,
                "type": {
                 "containsNull": false,
                 "elementType": "integer",
                 "type": "array"
                }
               },
               {
                "metadata": {},
                "name": "values",
                "nullable": true,
                "type": {
                 "containsNull": false,
                 "elementType": "double",
                 "type": "array"
                }
               }
              ],
              "type": "struct"
             },
             "type": "udt"
            }
           },
           {
            "metadata": {},
            "name": "rawPrediction",
            "nullable": true,
            "type": {
             "class": "org.apache.spark.ml.linalg.VectorUDT",
             "pyClass": "pyspark.ml.linalg.VectorUDT",
             "sqlType": {
              "fields": [
               {
                "metadata": {},
                "name": "type",
                "nullable": false,
                "type": "byte"
               },
               {
                "metadata": {},
                "name": "size",
                "nullable": true,
                "type": "integer"
               },
               {
                "metadata": {},
                "name": "indices",
                "nullable": true,
                "type": {
                 "containsNull": false,
                 "elementType": "integer",
                 "type": "array"
                }
               },
               {
                "metadata": {},
                "name": "values",
                "nullable": true,
                "type": {
                 "containsNull": false,
                 "elementType": "double",
                 "type": "array"
                }
               }
              ],
              "type": "struct"
             },
             "type": "udt"
            }
           },
           {
            "metadata": {},
            "name": "probability",
            "nullable": true,
            "type": {
             "class": "org.apache.spark.ml.linalg.VectorUDT",
             "pyClass": "pyspark.ml.linalg.VectorUDT",
             "sqlType": {
              "fields": [
               {
                "metadata": {},
                "name": "type",
                "nullable": false,
                "type": "byte"
               },
               {
                "metadata": {},
                "name": "size",
                "nullable": true,
                "type": "integer"
               },
               {
                "metadata": {},
                "name": "indices",
                "nullable": true,
                "type": {
                 "containsNull": false,
                 "elementType": "integer",
                 "type": "array"
                }
               },
               {
                "metadata": {},
                "name": "values",
                "nullable": true,
                "type": {
                 "containsNull": false,
                 "elementType": "double",
                 "type": "array"
                }
               }
              ],
              "type": "struct"
             },
             "type": "udt"
            }
           },
           {
            "metadata": {},
            "name": "prediction",
            "nullable": false,
            "type": "double"
           }
          ],
          "type": "struct"
         },
         "tableIdentifier": null,
         "typeStr": "pyspark.sql.dataframe.DataFrame"
        }
       ],
       "dbfsResultPath": null,
       "isJsonSchema": true,
       "metadata": {},
       "overflow": false,
       "plotOptions": {
        "customPlotOptions": {},
        "displayType": "table",
        "pivotAggregation": null,
        "pivotColumns": null,
        "xColumns": null,
        "yColumns": null
       },
       "removedWidgets": [],
       "schema": [
        {
         "metadata": "{}",
         "name": "Squad",
         "type": "\"string\""
        },
        {
         "metadata": "{}",
         "name": "npxG",
         "type": "\"double\""
        },
        {
         "metadata": "{\"ml_attr\":{\"vals\":[\"0\",\"1\"],\"type\":\"nominal\",\"name\":\"label\"}}",
         "name": "label",
         "type": "\"double\""
        },
        {
         "metadata": "{}",
         "name": "prediction",
         "type": "\"double\""
        }
       ],
       "type": "table"
      }
     },
     "output_type": "display_data"
    }
   ],
   "source": [
    "#Una vez entrenado, lo aplicamos sobre los datos de esta temporada utilizando la función transform y nos quedamos con las columnas que nos interesan. En este caso, como vimos que los goles esperados sin contar penaltis era la columna que más correlación estadística tenía, es la que hemos seleccionado. \n",
    "predict = lrModel.transform(dffinal2)\n",
    "display(predict.select(\"Squad\",\"npxG\",\"label\",\"prediction\"))\n",
    "\n",
    "#Como podemos observar, nuestro modelo falla porque no incluye la condición de que tiene que haber 7 equipos en puestos europeos. Lo que nuestro modelo nos está diciendo es simplemente que equipos están consiguiendo unos valores de las variables relacionados con los que la temporada anterior llevaron a esos equipos a puestos europeos. Los fallos del modelo, aparte del mencionado, lógicamente también vienen de que el rendimiento de un equipo no se puede valorar únicamente con las estadísticas referentes a los disparos. "
   ]
  },
  {
   "cell_type": "code",
   "execution_count": 0,
   "metadata": {
    "application/vnd.databricks.v1+cell": {
     "cellMetadata": {},
     "inputWidgets": {},
     "nuid": "74995f73-376d-43be-8464-0c2a7df99f72",
     "showTitle": false,
     "title": ""
    }
   },
   "outputs": [
    {
     "output_type": "display_data",
     "data": {
      "text/html": [
       "<style scoped>\n",
       "  .ansiout {\n",
       "    display: block;\n",
       "    unicode-bidi: embed;\n",
       "    white-space: pre-wrap;\n",
       "    word-wrap: break-word;\n",
       "    word-break: break-all;\n",
       "    font-family: \"Menlo\", \"Monaco\", \"Consolas\", \"Ubuntu Mono\", \"Source Code Pro\", monospace;\n",
       "    font-size: 13px;\n",
       "    color: #555;\n",
       "    margin-left: 4px;\n",
       "    line-height: 19px;\n",
       "  }\n",
       "</style>\n",
       "<div class=\"ansiout\">90.0\n",
       "</div>"
      ]
     },
     "metadata": {
      "application/vnd.databricks.v1+output": {
       "addedWidgets": {},
       "arguments": {},
       "data": "<div class=\"ansiout\">90.0\n</div>",
       "datasetInfos": [
        {
         "name": "score",
         "schema": {
          "fields": [
           {
            "metadata": {},
            "name": "prediction",
            "nullable": false,
            "type": "double"
           },
           {
            "metadata": {
             "ml_attr": {
              "name": "label",
              "type": "nominal",
              "vals": [
               "0",
               "1"
              ]
             }
            },
            "name": "label",
            "nullable": false,
            "type": "double"
           }
          ],
          "type": "struct"
         },
         "tableIdentifier": null,
         "typeStr": "pyspark.sql.dataframe.DataFrame"
        }
       ],
       "metadata": {},
       "removedWidgets": [],
       "type": "html"
      }
     },
     "output_type": "display_data"
    }
   ],
   "source": [
    "#Para evaluar nuestro modelo, vamos a utilizar la métrica accuracy, que nos va a medir el número de predicciones correctas sobre el número total de predicciones.\n",
    "from pyspark.ml.evaluation import MulticlassClassificationEvaluator\n",
    "score = predict.select(\"prediction\",\"label\")\n",
    "evaluator = MulticlassClassificationEvaluator(predictionCol=\"prediction\",metricName=\"accuracy\")\n",
    "rateLR = evaluator.evaluate(score)*100\n",
    "print(rateLR)\n",
    "\n",
    "#Como podemos ver, se obtiene un valor de accuracy bastante bueno."
   ]
  },
  {
   "cell_type": "code",
   "execution_count": 0,
   "metadata": {
    "application/vnd.databricks.v1+cell": {
     "cellMetadata": {},
     "inputWidgets": {},
     "nuid": "f0215ede-da95-420b-b9b5-30611aa5abdd",
     "showTitle": true,
     "title": "Optimización de parámetros mediante Train-Validation split"
    }
   },
   "outputs": [
    {
     "output_type": "display_data",
     "data": {
      "text/html": [
       "<style scoped>\n",
       "  .ansiout {\n",
       "    display: block;\n",
       "    unicode-bidi: embed;\n",
       "    white-space: pre-wrap;\n",
       "    word-wrap: break-word;\n",
       "    word-break: break-all;\n",
       "    font-family: \"Menlo\", \"Monaco\", \"Consolas\", \"Ubuntu Mono\", \"Source Code Pro\", monospace;\n",
       "    font-size: 13px;\n",
       "    color: #555;\n",
       "    margin-left: 4px;\n",
       "    line-height: 19px;\n",
       "  }\n",
       "</style>\n",
       "<div class=\"ansiout\">/databricks/spark/python/pyspark/ml/util.py:791: UserWarning: Can not find mlflow. To enable mlflow logging, install MLflow library from PyPi.\n",
       "  warnings.warn(_MLflowInstrumentation._NO_MLFLOW_WARNING)\n",
       "+---------------+--------------------+-----+----------+\n",
       "          Squad|            features|label|prediction|\n",
       "+---------------+--------------------+-----+----------+\n",
       "         Alavés|[4.0,189.0,65.0,6...|  0.0|       0.0|\n",
       "Athletic Bilbao|[18.0,243.0,79.0,...|  0.0|       0.0|\n",
       "Atlético Madrid|[2.0,271.0,82.0,6...|  1.0|       1.0|\n",
       "      Barcelona|[17.0,295.0,134.0...|  1.0|       1.0|\n",
       "          Betis|[7.0,274.0,90.0,1...|  0.0|       0.0|\n",
       "     Celta Vigo|[10.0,239.0,81.0,...|  0.0|       0.0|\n",
       "          Eibar|[15.0,245.0,73.0,...|  0.0|       0.0|\n",
       "       Espanyol|[1.0,262.0,75.0,3...|  0.0|       0.0|\n",
       "         Getafe|[14.0,233.0,75.0,...|  1.0|       1.0|\n",
       "        Granada|[19.0,227.0,59.0,...|  0.0|       0.0|\n",
       "        Leganés|[5.0,248.0,95.0,1...|  0.0|       0.0|\n",
       "        Levante|[16.0,260.0,85.0,...|  0.0|       0.0|\n",
       "       Mallorca|[6.0,235.0,62.0,1...|  0.0|       0.0|\n",
       "        Osasuna|[9.0,298.0,93.0,1...|  0.0|       0.0|\n",
       "    Real Madrid|[12.0,368.0,140.0...|  1.0|       1.0|\n",
       "  Real Sociedad|[3.0,255.0,87.0,6...|  1.0|       1.0|\n",
       "        Sevilla|[0.0,296.0,96.0,8...|  1.0|       1.0|\n",
       "       Valencia|[11.0,208.0,75.0,...|  1.0|       1.0|\n",
       "     Valladolid|[8.0,210.0,69.0,1...|  0.0|       0.0|\n",
       "     Villarreal|[13.0,317.0,100.0...|  0.0|       0.0|\n",
       "+---------------+--------------------+-----+----------+\n",
       "\n",
       "</div>"
      ]
     },
     "metadata": {
      "application/vnd.databricks.v1+output": {
       "addedWidgets": {},
       "arguments": {},
       "data": "<div class=\"ansiout\">/databricks/spark/python/pyspark/ml/util.py:791: UserWarning: Can not find mlflow. To enable mlflow logging, install MLflow library from PyPi.\n  warnings.warn(_MLflowInstrumentation._NO_MLFLOW_WARNING)\n+---------------+--------------------+-----+----------+\n|          Squad|            features|label|prediction|\n+---------------+--------------------+-----+----------+\n|         Alavés|[4.0,189.0,65.0,6...|  0.0|       0.0|\n|Athletic Bilbao|[18.0,243.0,79.0,...|  0.0|       0.0|\n|Atlético Madrid|[2.0,271.0,82.0,6...|  1.0|       1.0|\n|      Barcelona|[17.0,295.0,134.0...|  1.0|       1.0|\n|          Betis|[7.0,274.0,90.0,1...|  0.0|       0.0|\n|     Celta Vigo|[10.0,239.0,81.0,...|  0.0|       0.0|\n|          Eibar|[15.0,245.0,73.0,...|  0.0|       0.0|\n|       Espanyol|[1.0,262.0,75.0,3...|  0.0|       0.0|\n|         Getafe|[14.0,233.0,75.0,...|  1.0|       1.0|\n|        Granada|[19.0,227.0,59.0,...|  0.0|       0.0|\n|        Leganés|[5.0,248.0,95.0,1...|  0.0|       0.0|\n|        Levante|[16.0,260.0,85.0,...|  0.0|       0.0|\n|       Mallorca|[6.0,235.0,62.0,1...|  0.0|       0.0|\n|        Osasuna|[9.0,298.0,93.0,1...|  0.0|       0.0|\n|    Real Madrid|[12.0,368.0,140.0...|  1.0|       1.0|\n|  Real Sociedad|[3.0,255.0,87.0,6...|  1.0|       1.0|\n|        Sevilla|[0.0,296.0,96.0,8...|  1.0|       1.0|\n|       Valencia|[11.0,208.0,75.0,...|  1.0|       1.0|\n|     Valladolid|[8.0,210.0,69.0,1...|  0.0|       0.0|\n|     Villarreal|[13.0,317.0,100.0...|  0.0|       0.0|\n+---------------+--------------------+-----+----------+\n\n</div>",
       "datasetInfos": [],
       "metadata": {},
       "removedWidgets": [],
       "type": "html"
      }
     },
     "output_type": "display_data"
    }
   ],
   "source": [
    "#En este caso vamos a utilizar la herramienta de tuning que nos ofrece Spark llamada TrainValidationSplit. TrainValidationSplit evalúa cada combinación de parámetros una vez, por lo que exige menos memoria y tiempo, aunque los resultados sean menos exactos, especialmente trabajando con datasets tan pequeños como el de nuestro caso. \n",
    "\n",
    "from pyspark.ml.evaluation import RegressionEvaluator\n",
    "from pyspark.ml.regression import LinearRegression\n",
    "from pyspark.ml.tuning import ParamGridBuilder, TrainValidationSplit\n",
    "\n",
    "\n",
    "\n",
    "#Usamos ParamGridBuilder para definir la muestra de parámetros que queremos optimizar. \n",
    "#TrainValidationSplit probará todas las combinaciones de valores de estos parámetros y utilizará el evaluador para determinar el mejor modelo.\n",
    "\n",
    "paramGrid = ParamGridBuilder()\\\n",
    "    .addGrid(lr.regParam, [0.1, 0.01]) \\\n",
    "    .addGrid(lr.fitIntercept, [False, True])\\\n",
    "    .addGrid(lr.elasticNetParam, [0.0, 0.5, 1.0])\\\n",
    "    .build()\n",
    "\n",
    "#En este caso el estimador es simplemente la regresión logística que hemos realizado más arriba.\n",
    "\n",
    "tvs = TrainValidationSplit(estimator=lr,\n",
    "                           estimatorParamMaps=paramGrid,\n",
    "                           evaluator=RegressionEvaluator(),\n",
    "                           #El trainRatio nos dice que un 80% de los datos se usarán para entrenar y el 20% restante como test. \n",
    "                           trainRatio=0.8)\n",
    "\n",
    "\n",
    "#Aplicamos el modelo de TrainValidationSplit, y elegimos el mejor set de parámetros,que quedan guardados como model.\n",
    "model = tvs.fit(dffinal2)\n",
    "\n",
    "#Realizamos de nuevo las predicciones sobre los datos, aplicando la combinación de parámetros ya optimizada.\n",
    "model.transform(dffinal2)\\\n",
    "    .select(\"Squad\",\"features\", \"label\", \"prediction\")\\\n",
    "    .show(20)\n",
    "\n",
    "#Podemos ver ahora que hemos conseguido una accuracy del 100%, por lo que se ve la importancia que tiene encontrar los parámetros óptimos a la hora de aplicar cualquier algoritmo de Machine Learning. "
   ]
  },
  {
   "cell_type": "code",
   "execution_count": 0,
   "metadata": {
    "application/vnd.databricks.v1+cell": {
     "cellMetadata": {},
     "inputWidgets": {},
     "nuid": "68bb1bb4-4268-4713-9753-9349742d9c6e",
     "showTitle": true,
     "title": "Implementación y análisis de algún modelo de regresión"
    }
   },
   "outputs": [
    {
     "output_type": "display_data",
     "data": {
      "text/html": [
       "<style scoped>\n",
       "  .ansiout {\n",
       "    display: block;\n",
       "    unicode-bidi: embed;\n",
       "    white-space: pre-wrap;\n",
       "    word-wrap: break-word;\n",
       "    word-break: break-all;\n",
       "    font-family: \"Menlo\", \"Monaco\", \"Consolas\", \"Ubuntu Mono\", \"Source Code Pro\", monospace;\n",
       "    font-size: 13px;\n",
       "    color: #555;\n",
       "    margin-left: 4px;\n",
       "    line-height: 19px;\n",
       "  }\n",
       "</style>\n",
       "<div class=\"ansiout\"></div>"
      ]
     },
     "metadata": {
      "application/vnd.databricks.v1+output": {
       "addedWidgets": {},
       "arguments": {},
       "data": "<div class=\"ansiout\"></div>",
       "datasetInfos": [
        {
         "name": "df1",
         "schema": {
          "fields": [
           {
            "metadata": {},
            "name": "Round",
            "nullable": true,
            "type": "string"
           },
           {
            "metadata": {},
            "name": "Day",
            "nullable": true,
            "type": "string"
           },
           {
            "metadata": {},
            "name": "Date",
            "nullable": true,
            "type": "timestamp"
           },
           {
            "metadata": {},
            "name": "Time",
            "nullable": true,
            "type": "string"
           },
           {
            "metadata": {},
            "name": "Venue",
            "nullable": true,
            "type": "string"
           },
           {
            "metadata": {},
            "name": "Result",
            "nullable": true,
            "type": "string"
           },
           {
            "metadata": {},
            "name": "GF",
            "nullable": true,
            "type": "integer"
           },
           {
            "metadata": {},
            "name": "GA",
            "nullable": true,
            "type": "integer"
           },
           {
            "metadata": {},
            "name": "Opponent",
            "nullable": true,
            "type": "string"
           },
           {
            "metadata": {},
            "name": "xG",
            "nullable": true,
            "type": "double"
           },
           {
            "metadata": {},
            "name": "xGA",
            "nullable": true,
            "type": "double"
           },
           {
            "metadata": {},
            "name": "Attendance",
            "nullable": true,
            "type": "integer"
           },
           {
            "metadata": {},
            "name": "Captain",
            "nullable": true,
            "type": "string"
           },
           {
            "metadata": {},
            "name": "Formation",
            "nullable": true,
            "type": "string"
           },
           {
            "metadata": {},
            "name": "Referee",
            "nullable": true,
            "type": "string"
           },
           {
            "metadata": {},
            "name": "Match Report",
            "nullable": true,
            "type": "string"
           },
           {
            "metadata": {},
            "name": "Notes",
            "nullable": true,
            "type": "string"
           }
          ],
          "type": "struct"
         },
         "tableIdentifier": null,
         "typeStr": "pyspark.sql.dataframe.DataFrame"
        },
        {
         "name": "df",
         "schema": {
          "fields": [
           {
            "metadata": {},
            "name": "xGA",
            "nullable": true,
            "type": "double"
           },
           {
            "metadata": {},
            "name": "Jornada",
            "nullable": true,
            "type": "float"
           }
          ],
          "type": "struct"
         },
         "tableIdentifier": null,
         "typeStr": "pyspark.sql.dataframe.DataFrame"
        }
       ],
       "metadata": {},
       "removedWidgets": [],
       "type": "html"
      }
     },
     "output_type": "display_data"
    }
   ],
   "source": [
    "#El objetivo de este segundo apartado es crear un modelo de regresión lineal, que prediga la evolución de la métrica de xGA (goles esperados en contra) para los partidos que quedan de la temporada 19/20 del Athletic de Bilbao, teniendo en cuenta los resultados de esta variable en las 23 jornadas que se llevan disputadas. \n",
    "from pyspark.sql import *\n",
    "from pyspark.sql.functions import *\n",
    "import warnings\n",
    "warnings.filterwarnings(\"ignore\")\n",
    "\n",
    "#Para comenzar, cargamos los datos que nos interesan. En este caso va a ser solamente una tabla, llamada ATH.csv, que incluye información relevante sobre cada partido que ha disputado el equipo.\n",
    "\n",
    "df1 = spark.read.option(\"header\",\"true\").option(\"inferSchema\", \"true\").csv('/FileStore/tables/ATH.csv')\n",
    "\n",
    "#El formato en el que nos viene la jornada nos va a dar problemas, así que nos quedamos únicamente con el valor numérico de la misma.\n",
    "\n",
    "\n",
    "split_col = split(df1['Round'], ' ')\n",
    "df = df1.withColumn('Jornada', split_col.getItem(1))\n",
    "df = df.withColumn('Jornada', df.Jornada.cast('float'))\n",
    " #Limpiamos el dataframe para quedarnos únicamente con las columnas que nos interesan.\n",
    "df = df.drop('Round','Day','Date','Time','Venue','Result','GF','GA','Opponent','xG','Attendance','Captain','Formation','Referee','Match Report','Notes')\n",
    "\n",
    "#Ya tenemos listo el conjunto de datos para trabajar con él."
   ]
  },
  {
   "cell_type": "code",
   "execution_count": 0,
   "metadata": {
    "application/vnd.databricks.v1+cell": {
     "cellMetadata": {},
     "inputWidgets": {},
     "nuid": "4906e915-16ff-46f1-ac0b-25f79cad65cf",
     "showTitle": false,
     "title": ""
    }
   },
   "outputs": [
    {
     "output_type": "display_data",
     "data": {
      "text/html": [
       "<style scoped>\n",
       "  .ansiout {\n",
       "    display: block;\n",
       "    unicode-bidi: embed;\n",
       "    white-space: pre-wrap;\n",
       "    word-wrap: break-word;\n",
       "    word-break: break-all;\n",
       "    font-family: \"Menlo\", \"Monaco\", \"Consolas\", \"Ubuntu Mono\", \"Source Code Pro\", monospace;\n",
       "    font-size: 13px;\n",
       "    color: #555;\n",
       "    margin-left: 4px;\n",
       "    line-height: 19px;\n",
       "  }\n",
       "</style>\n",
       "<div class=\"ansiout\"></div>"
      ]
     },
     "metadata": {
      "application/vnd.databricks.v1+output": {
       "addedWidgets": {},
       "arguments": {},
       "data": "<div class=\"ansiout\"></div>",
       "datasetInfos": [
        {
         "name": "dfcompleto",
         "schema": {
          "fields": [
           {
            "metadata": {},
            "name": "xGA",
            "nullable": true,
            "type": "double"
           },
           {
            "metadata": {},
            "name": "Jornada",
            "nullable": true,
            "type": "float"
           },
           {
            "metadata": {
             "ml_attr": {
              "attrs": {
               "numeric": [
                {
                 "idx": 0,
                 "name": "Jornada"
                }
               ]
              },
              "num_attrs": 1
             }
            },
            "name": "features",
            "nullable": true,
            "type": {
             "class": "org.apache.spark.ml.linalg.VectorUDT",
             "pyClass": "pyspark.ml.linalg.VectorUDT",
             "sqlType": {
              "fields": [
               {
                "metadata": {},
                "name": "type",
                "nullable": false,
                "type": "byte"
               },
               {
                "metadata": {},
                "name": "size",
                "nullable": true,
                "type": "integer"
               },
               {
                "metadata": {},
                "name": "indices",
                "nullable": true,
                "type": {
                 "containsNull": false,
                 "elementType": "integer",
                 "type": "array"
                }
               },
               {
                "metadata": {},
                "name": "values",
                "nullable": true,
                "type": {
                 "containsNull": false,
                 "elementType": "double",
                 "type": "array"
                }
               }
              ],
              "type": "struct"
             },
             "type": "udt"
            }
           }
          ],
          "type": "struct"
         },
         "tableIdentifier": null,
         "typeStr": "pyspark.sql.dataframe.DataFrame"
        },
        {
         "name": "training",
         "schema": {
          "fields": [
           {
            "metadata": {},
            "name": "xGA",
            "nullable": true,
            "type": "double"
           },
           {
            "metadata": {},
            "name": "Jornada",
            "nullable": true,
            "type": "double"
           },
           {
            "metadata": {},
            "name": "features",
            "nullable": true,
            "type": {
             "class": "org.apache.spark.ml.linalg.VectorUDT",
             "pyClass": "pyspark.ml.linalg.VectorUDT",
             "sqlType": {
              "fields": [
               {
                "metadata": {},
                "name": "type",
                "nullable": false,
                "type": "byte"
               },
               {
                "metadata": {},
                "name": "size",
                "nullable": true,
                "type": "integer"
               },
               {
                "metadata": {},
                "name": "indices",
                "nullable": true,
                "type": {
                 "containsNull": false,
                 "elementType": "integer",
                 "type": "array"
                }
               },
               {
                "metadata": {},
                "name": "values",
                "nullable": true,
                "type": {
                 "containsNull": false,
                 "elementType": "double",
                 "type": "array"
                }
               }
              ],
              "type": "struct"
             },
             "type": "udt"
            }
           }
          ],
          "type": "struct"
         },
         "tableIdentifier": null,
         "typeStr": "pyspark.sql.dataframe.DataFrame"
        }
       ],
       "metadata": {},
       "removedWidgets": [],
       "type": "html"
      }
     },
     "output_type": "display_data"
    }
   ],
   "source": [
    "#Para crear el modelo, definimos como variable label los goles esperados en contra xGA, y como variable predictora la Jornada. \n",
    "#Mediante VectorAssembler preparamos el vector:\n",
    "\n",
    "from pyspark.ml.feature import VectorAssembler\n",
    "t = VectorAssembler(inputCols=['Jornada'], outputCol = 'features')\n",
    "dfcompleto=t.transform(df)\n",
    "\n",
    "#Vamos a preparar ahora el dataframe para utilizarlo para entrenar nuestro modelo. Como dataframe de entrenamiento vamos a utilizar las jornadas que se llevan disputadas (de la 1 a la 23), y como dataframe para el test utilizaremos las jornadas restantes.\n",
    "\n",
    "training=sqlContext.createDataFrame(dfcompleto.head(23), ['xGA','Jornada','features'])\n",
    "\n",
    "\n",
    "from pyspark.ml.regression import LinearRegression\n",
    "# Construimos el modelo\n",
    "lr = LinearRegression(featuresCol = 'features', labelCol='xGA', maxIter=10, regParam=0.3, elasticNetParam=0.8)\n",
    "# Lo entrenamos sobre el conjunto de datos de entrenamiento usando la función fit\n",
    "lr_model = lr.fit(training)"
   ]
  },
  {
   "cell_type": "code",
   "execution_count": 0,
   "metadata": {
    "application/vnd.databricks.v1+cell": {
     "cellMetadata": {},
     "inputWidgets": {},
     "nuid": "e202a692-b13d-4d8d-b462-4c5a2e6eee53",
     "showTitle": false,
     "title": ""
    }
   },
   "outputs": [
    {
     "output_type": "display_data",
     "data": {
      "text/html": [
       "<style scoped>\n",
       "  .ansiout {\n",
       "    display: block;\n",
       "    unicode-bidi: embed;\n",
       "    white-space: pre-wrap;\n",
       "    word-wrap: break-word;\n",
       "    word-break: break-all;\n",
       "    font-family: \"Menlo\", \"Monaco\", \"Consolas\", \"Ubuntu Mono\", \"Source Code Pro\", monospace;\n",
       "    font-size: 13px;\n",
       "    color: #555;\n",
       "    margin-left: 4px;\n",
       "    line-height: 19px;\n",
       "  }\n",
       "</style>\n",
       "<div class=\"ansiout\"></div>"
      ]
     },
     "metadata": {
      "application/vnd.databricks.v1+output": {
       "addedWidgets": {},
       "arguments": {},
       "data": "<div class=\"ansiout\"></div>",
       "datasetInfos": [
        {
         "name": "dfcompletoordenado",
         "schema": {
          "fields": [
           {
            "metadata": {},
            "name": "xGA",
            "nullable": true,
            "type": "double"
           },
           {
            "metadata": {},
            "name": "Jornada",
            "nullable": true,
            "type": "float"
           }
          ],
          "type": "struct"
         },
         "tableIdentifier": null,
         "typeStr": "pyspark.sql.dataframe.DataFrame"
        },
        {
         "name": "nuevodf",
         "schema": {
          "fields": [
           {
            "metadata": {},
            "name": "xGA",
            "nullable": true,
            "type": "double"
           },
           {
            "metadata": {},
            "name": "Jornada",
            "nullable": true,
            "type": "float"
           }
          ],
          "type": "struct"
         },
         "tableIdentifier": null,
         "typeStr": "pyspark.sql.dataframe.DataFrame"
        }
       ],
       "metadata": {},
       "removedWidgets": [],
       "type": "html"
      }
     },
     "output_type": "display_data"
    }
   ],
   "source": [
    "#Vamos a preparar a continuación el dataframe que utilizaremos para el test. Hacemos las transformaciones necesarias para quedarnos con las jornadas que no se han disputado (de la 24 a la 38).\n",
    "\n",
    "from pyspark.sql.types import StructType, StructField, StringType, DoubleType, FloatType, UserDefinedType\n",
    "schema = StructType([StructField(\"xGA\", DoubleType(), True),StructField('Jornada', FloatType(), True)])\n",
    "\n",
    "dfcompletoordenado=dfcompleto.orderBy('Jornada',ascending=False).drop('features')\n",
    "jornadassindisputar=dfcompletoordenado.head(15)\n",
    "nuevodf=sqlContext.createDataFrame(jornadassindisputar, schema=schema)"
   ]
  },
  {
   "cell_type": "code",
   "execution_count": 0,
   "metadata": {
    "application/vnd.databricks.v1+cell": {
     "cellMetadata": {},
     "inputWidgets": {},
     "nuid": "b1543278-81a6-48fa-881b-4c59c249a08c",
     "showTitle": false,
     "title": ""
    }
   },
   "outputs": [
    {
     "output_type": "display_data",
     "data": {
      "text/html": [
       "<style scoped>\n",
       "  .table-result-container {\n",
       "    max-height: 300px;\n",
       "    overflow: auto;\n",
       "  }\n",
       "  table, th, td {\n",
       "    border: 1px solid black;\n",
       "    border-collapse: collapse;\n",
       "  }\n",
       "  th, td {\n",
       "    padding: 5px;\n",
       "  }\n",
       "  th {\n",
       "    text-align: left;\n",
       "  }\n",
       "</style><div class='table-result-container'><table class='table-result'><thead style='background-color: white'><tr><th>Jornada</th><th>features</th><th>prediction</th></tr></thead><tbody><tr><td>24.0</td><td>List(1, 1, List(), List(24.0))</td><td>1.0521739130434782</td></tr><tr><td>25.0</td><td>List(1, 1, List(), List(25.0))</td><td>1.0521739130434782</td></tr><tr><td>26.0</td><td>List(1, 1, List(), List(26.0))</td><td>1.0521739130434782</td></tr><tr><td>27.0</td><td>List(1, 1, List(), List(27.0))</td><td>1.0521739130434782</td></tr><tr><td>28.0</td><td>List(1, 1, List(), List(28.0))</td><td>1.0521739130434782</td></tr><tr><td>29.0</td><td>List(1, 1, List(), List(29.0))</td><td>1.0521739130434782</td></tr><tr><td>30.0</td><td>List(1, 1, List(), List(30.0))</td><td>1.0521739130434782</td></tr><tr><td>31.0</td><td>List(1, 1, List(), List(31.0))</td><td>1.0521739130434782</td></tr><tr><td>32.0</td><td>List(1, 1, List(), List(32.0))</td><td>1.0521739130434782</td></tr><tr><td>33.0</td><td>List(1, 1, List(), List(33.0))</td><td>1.0521739130434782</td></tr><tr><td>34.0</td><td>List(1, 1, List(), List(34.0))</td><td>1.0521739130434782</td></tr><tr><td>35.0</td><td>List(1, 1, List(), List(35.0))</td><td>1.0521739130434782</td></tr><tr><td>36.0</td><td>List(1, 1, List(), List(36.0))</td><td>1.0521739130434782</td></tr><tr><td>37.0</td><td>List(1, 1, List(), List(37.0))</td><td>1.0521739130434782</td></tr><tr><td>38.0</td><td>List(1, 1, List(), List(38.0))</td><td>1.0521739130434782</td></tr></tbody></table></div>"
      ]
     },
     "metadata": {
      "application/vnd.databricks.v1+output": {
       "addedWidgets": {},
       "aggData": [],
       "aggError": "",
       "aggOverflow": false,
       "aggSchema": [],
       "aggSeriesLimitReached": false,
       "aggType": "",
       "arguments": {},
       "columnCustomDisplayInfos": {},
       "data": [
        [
         24.0,
         [
          1,
          1,
          [],
          [
           24.0
          ]
         ],
         1.0521739130434782
        ],
        [
         25.0,
         [
          1,
          1,
          [],
          [
           25.0
          ]
         ],
         1.0521739130434782
        ],
        [
         26.0,
         [
          1,
          1,
          [],
          [
           26.0
          ]
         ],
         1.0521739130434782
        ],
        [
         27.0,
         [
          1,
          1,
          [],
          [
           27.0
          ]
         ],
         1.0521739130434782
        ],
        [
         28.0,
         [
          1,
          1,
          [],
          [
           28.0
          ]
         ],
         1.0521739130434782
        ],
        [
         29.0,
         [
          1,
          1,
          [],
          [
           29.0
          ]
         ],
         1.0521739130434782
        ],
        [
         30.0,
         [
          1,
          1,
          [],
          [
           30.0
          ]
         ],
         1.0521739130434782
        ],
        [
         31.0,
         [
          1,
          1,
          [],
          [
           31.0
          ]
         ],
         1.0521739130434782
        ],
        [
         32.0,
         [
          1,
          1,
          [],
          [
           32.0
          ]
         ],
         1.0521739130434782
        ],
        [
         33.0,
         [
          1,
          1,
          [],
          [
           33.0
          ]
         ],
         1.0521739130434782
        ],
        [
         34.0,
         [
          1,
          1,
          [],
          [
           34.0
          ]
         ],
         1.0521739130434782
        ],
        [
         35.0,
         [
          1,
          1,
          [],
          [
           35.0
          ]
         ],
         1.0521739130434782
        ],
        [
         36.0,
         [
          1,
          1,
          [],
          [
           36.0
          ]
         ],
         1.0521739130434782
        ],
        [
         37.0,
         [
          1,
          1,
          [],
          [
           37.0
          ]
         ],
         1.0521739130434782
        ],
        [
         38.0,
         [
          1,
          1,
          [],
          [
           38.0
          ]
         ],
         1.0521739130434782
        ]
       ],
       "datasetInfos": [
        {
         "name": "dfcompletotest",
         "schema": {
          "fields": [
           {
            "metadata": {},
            "name": "xGA",
            "nullable": true,
            "type": "double"
           },
           {
            "metadata": {},
            "name": "Jornada",
            "nullable": true,
            "type": "float"
           },
           {
            "metadata": {
             "ml_attr": {
              "attrs": {
               "numeric": [
                {
                 "idx": 0,
                 "name": "Jornada"
                }
               ]
              },
              "num_attrs": 1
             }
            },
            "name": "features",
            "nullable": true,
            "type": {
             "class": "org.apache.spark.ml.linalg.VectorUDT",
             "pyClass": "pyspark.ml.linalg.VectorUDT",
             "sqlType": {
              "fields": [
               {
                "metadata": {},
                "name": "type",
                "nullable": false,
                "type": "byte"
               },
               {
                "metadata": {},
                "name": "size",
                "nullable": true,
                "type": "integer"
               },
               {
                "metadata": {},
                "name": "indices",
                "nullable": true,
                "type": {
                 "containsNull": false,
                 "elementType": "integer",
                 "type": "array"
                }
               },
               {
                "metadata": {},
                "name": "values",
                "nullable": true,
                "type": {
                 "containsNull": false,
                 "elementType": "double",
                 "type": "array"
                }
               }
              ],
              "type": "struct"
             },
             "type": "udt"
            }
           }
          ],
          "type": "struct"
         },
         "tableIdentifier": null,
         "typeStr": "pyspark.sql.dataframe.DataFrame"
        },
        {
         "name": "predictions",
         "schema": {
          "fields": [
           {
            "metadata": {},
            "name": "Jornada",
            "nullable": true,
            "type": "float"
           },
           {
            "metadata": {
             "ml_attr": {
              "attrs": {
               "numeric": [
                {
                 "idx": 0,
                 "name": "Jornada"
                }
               ]
              },
              "num_attrs": 1
             }
            },
            "name": "features",
            "nullable": true,
            "type": {
             "class": "org.apache.spark.ml.linalg.VectorUDT",
             "pyClass": "pyspark.ml.linalg.VectorUDT",
             "sqlType": {
              "fields": [
               {
                "metadata": {},
                "name": "type",
                "nullable": false,
                "type": "byte"
               },
               {
                "metadata": {},
                "name": "size",
                "nullable": true,
                "type": "integer"
               },
               {
                "metadata": {},
                "name": "indices",
                "nullable": true,
                "type": {
                 "containsNull": false,
                 "elementType": "integer",
                 "type": "array"
                }
               },
               {
                "metadata": {},
                "name": "values",
                "nullable": true,
                "type": {
                 "containsNull": false,
                 "elementType": "double",
                 "type": "array"
                }
               }
              ],
              "type": "struct"
             },
             "type": "udt"
            }
           },
           {
            "metadata": {},
            "name": "prediction",
            "nullable": false,
            "type": "double"
           }
          ],
          "type": "struct"
         },
         "tableIdentifier": null,
         "typeStr": "pyspark.sql.dataframe.DataFrame"
        }
       ],
       "dbfsResultPath": null,
       "isJsonSchema": true,
       "metadata": {},
       "overflow": false,
       "plotOptions": {
        "customPlotOptions": {},
        "displayType": "table",
        "pivotAggregation": null,
        "pivotColumns": null,
        "xColumns": null,
        "yColumns": null
       },
       "removedWidgets": [],
       "schema": [
        {
         "metadata": "{}",
         "name": "Jornada",
         "type": "\"float\""
        },
        {
         "metadata": "{\"ml_attr\":{\"attrs\":{\"numeric\":[{\"idx\":0,\"name\":\"Jornada\"}]},\"num_attrs\":1}}",
         "name": "features",
         "type": "{\"type\":\"udt\",\"class\":\"org.apache.spark.ml.linalg.VectorUDT\",\"pyClass\":\"pyspark.ml.linalg.VectorUDT\",\"sqlType\":{\"type\":\"struct\",\"fields\":[{\"name\":\"type\",\"type\":\"byte\",\"nullable\":false,\"metadata\":{}},{\"name\":\"size\",\"type\":\"integer\",\"nullable\":true,\"metadata\":{}},{\"name\":\"indices\",\"type\":{\"type\":\"array\",\"elementType\":\"integer\",\"containsNull\":false},\"nullable\":true,\"metadata\":{}},{\"name\":\"values\",\"type\":{\"type\":\"array\",\"elementType\":\"double\",\"containsNull\":false},\"nullable\":true,\"metadata\":{}}]}}"
        },
        {
         "metadata": "{}",
         "name": "prediction",
         "type": "\"double\""
        }
       ],
       "type": "table"
      }
     },
     "output_type": "display_data"
    }
   ],
   "source": [
    "#Igual que con los datos de entrenamiento, preparamos los de test para poder utilizar el modelo sobre ellos\n",
    "\n",
    "from pyspark.ml.feature import VectorAssembler\n",
    "t = VectorAssembler(inputCols=['Jornada'], outputCol = 'features')\n",
    "dfcompletotest=t.transform(nuevodf).orderBy('Jornada')\n",
    "\n",
    "#Aplicamos nuestro modelo a los datos de test y observamos los resultados\n",
    "predictions = lr_model.transform(dfcompletotest).drop('xGA')\n",
    "display(predictions)\n",
    "\n",
    "#Como se puede observar, son bastante decepcionantes, puesto que hemos obtenido una recta horizontal con un valor de xGA de aproximadamente 1.05. Es decir, que el modelo predice un mismo valor sin variación para las jornadas restantes. No sé si se debe a que no hay ningún tipo de relación lineal entre las jornadas y los xGA o a otro tipo de error a la hora de construir el modelo, aunque me inclino por la segunda opción. "
   ]
  },
  {
   "cell_type": "code",
   "execution_count": 0,
   "metadata": {
    "application/vnd.databricks.v1+cell": {
     "cellMetadata": {},
     "inputWidgets": {},
     "nuid": "00e9f4a0-6b5b-4d58-b9a7-c4b642c31d59",
     "showTitle": true,
     "title": "Implementación y análisis de algún modelo de agrupación"
    }
   },
   "outputs": [
    {
     "output_type": "display_data",
     "data": {
      "text/html": [
       "<style scoped>\n",
       "  .table-result-container {\n",
       "    max-height: 300px;\n",
       "    overflow: auto;\n",
       "  }\n",
       "  table, th, td {\n",
       "    border: 1px solid black;\n",
       "    border-collapse: collapse;\n",
       "  }\n",
       "  th, td {\n",
       "    padding: 5px;\n",
       "  }\n",
       "  th {\n",
       "    text-align: left;\n",
       "  }\n",
       "</style><div class='table-result-container'><table class='table-result'><thead style='background-color: white'><tr><th>Squad</th><th>xG</th></tr></thead><tbody><tr><td>Real Madrid</td><td>41.0</td></tr><tr><td>Barcelona</td><td>39.4</td></tr><tr><td>Getafe</td><td>25.5</td></tr><tr><td>Atlético Madrid</td><td>30.8</td></tr><tr><td>Sevilla</td><td>29.3</td></tr><tr><td>Real Sociedad</td><td>31.7</td></tr><tr><td>Valencia</td><td>27.7</td></tr><tr><td>Villarreal</td><td>38.6</td></tr><tr><td>Athletic Bilbao</td><td>23.7</td></tr><tr><td>Granada</td><td>23.0</td></tr><tr><td>Levante</td><td>26.7</td></tr><tr><td>Osasuna</td><td>30.1</td></tr><tr><td>Betis</td><td>28.7</td></tr><tr><td>Alavés</td><td>24.5</td></tr><tr><td>Valladolid</td><td>20.0</td></tr><tr><td>Eibar</td><td>22.0</td></tr><tr><td>Celta Vigo</td><td>24.2</td></tr><tr><td>Mallorca</td><td>25.5</td></tr><tr><td>Leganés</td><td>21.5</td></tr><tr><td>Espanyol</td><td>22.0</td></tr></tbody></table></div>"
      ]
     },
     "metadata": {
      "application/vnd.databricks.v1+output": {
       "addedWidgets": {},
       "aggData": [],
       "aggError": "",
       "aggOverflow": false,
       "aggSchema": [],
       "aggSeriesLimitReached": false,
       "aggType": "",
       "arguments": {},
       "columnCustomDisplayInfos": {},
       "data": [
        [
         "Real Madrid",
         41.0
        ],
        [
         "Barcelona",
         39.4
        ],
        [
         "Getafe",
         25.5
        ],
        [
         "Atlético Madrid",
         30.8
        ],
        [
         "Sevilla",
         29.3
        ],
        [
         "Real Sociedad",
         31.7
        ],
        [
         "Valencia",
         27.7
        ],
        [
         "Villarreal",
         38.6
        ],
        [
         "Athletic Bilbao",
         23.7
        ],
        [
         "Granada",
         23.0
        ],
        [
         "Levante",
         26.7
        ],
        [
         "Osasuna",
         30.1
        ],
        [
         "Betis",
         28.7
        ],
        [
         "Alavés",
         24.5
        ],
        [
         "Valladolid",
         20.0
        ],
        [
         "Eibar",
         22.0
        ],
        [
         "Celta Vigo",
         24.2
        ],
        [
         "Mallorca",
         25.5
        ],
        [
         "Leganés",
         21.5
        ],
        [
         "Espanyol",
         22.0
        ]
       ],
       "datasetInfos": [
        {
         "name": "df",
         "schema": {
          "fields": [
           {
            "metadata": {},
            "name": "Squad",
            "nullable": true,
            "type": "string"
           },
           {
            "metadata": {},
            "name": "xG",
            "nullable": true,
            "type": "double"
           }
          ],
          "type": "struct"
         },
         "tableIdentifier": null,
         "typeStr": "pyspark.sql.dataframe.DataFrame"
        }
       ],
       "dbfsResultPath": null,
       "isJsonSchema": true,
       "metadata": {},
       "overflow": false,
       "plotOptions": {
        "customPlotOptions": {},
        "displayType": "table",
        "pivotAggregation": null,
        "pivotColumns": null,
        "xColumns": null,
        "yColumns": null
       },
       "removedWidgets": [],
       "schema": [
        {
         "metadata": "{}",
         "name": "Squad",
         "type": "\"string\""
        },
        {
         "metadata": "{}",
         "name": "xG",
         "type": "\"double\""
        }
       ],
       "type": "table"
      }
     },
     "output_type": "display_data"
    }
   ],
   "source": [
    "#En este caso, vamos a tomar como conjunto de datos la clasificación actual de Primera División. El objetivo es agrupar a cada equipo en función de su estilo de juego, de una forma aproximada y general. Para ello, las tres categorías en las que se agruparán los equipos serán: ofensivo, defensivo y equilibrado. Más adelante veremos las variables que nos interesan para agrupar a los equipos.\n",
    "#Comenzamos como siempre cargando los datos, obtenidos de la misma fuente y en el mismo formato que en los anteriores apartados.\n",
    "df = spark.read.option(\"header\",\"true\").option(\"inferSchema\", \"true\").csv('/FileStore/tables/LigaSantander.csv')\n",
    "df = df.drop('Rk','MP','W','L','xGA','D','GDiff','Pts','GF','GA','xGDiff','xGDiff/90','Last 5','Attendance','Top Team Scorer','Goalkeeper','Notes')\n",
    "\n",
    "#Como se puede observar, nos vamos a quedar con las métricas correspondientes a goles esperados a favor.\n",
    "display(df)"
   ]
  },
  {
   "cell_type": "code",
   "execution_count": 0,
   "metadata": {
    "application/vnd.databricks.v1+cell": {
     "cellMetadata": {},
     "inputWidgets": {},
     "nuid": "54d6c1cd-6632-4185-9394-1e08b32951be",
     "showTitle": false,
     "title": ""
    }
   },
   "outputs": [
    {
     "output_type": "display_data",
     "data": {
      "text/html": [
       "<style scoped>\n",
       "  .table-result-container {\n",
       "    max-height: 300px;\n",
       "    overflow: auto;\n",
       "  }\n",
       "  table, th, td {\n",
       "    border: 1px solid black;\n",
       "    border-collapse: collapse;\n",
       "  }\n",
       "  th, td {\n",
       "    padding: 5px;\n",
       "  }\n",
       "  th {\n",
       "    text-align: left;\n",
       "  }\n",
       "</style><div class='table-result-container'><table class='table-result'><thead style='background-color: white'><tr><th>Squad</th><th>features</th></tr></thead><tbody><tr><td>Real Madrid</td><td>List(1, 1, List(), List(41.0))</td></tr><tr><td>Barcelona</td><td>List(1, 1, List(), List(39.4))</td></tr><tr><td>Getafe</td><td>List(1, 1, List(), List(25.5))</td></tr><tr><td>Atlético Madrid</td><td>List(1, 1, List(), List(30.8))</td></tr><tr><td>Sevilla</td><td>List(1, 1, List(), List(29.3))</td></tr><tr><td>Real Sociedad</td><td>List(1, 1, List(), List(31.7))</td></tr><tr><td>Valencia</td><td>List(1, 1, List(), List(27.7))</td></tr><tr><td>Villarreal</td><td>List(1, 1, List(), List(38.6))</td></tr><tr><td>Athletic Bilbao</td><td>List(1, 1, List(), List(23.7))</td></tr><tr><td>Granada</td><td>List(1, 1, List(), List(23.0))</td></tr><tr><td>Levante</td><td>List(1, 1, List(), List(26.7))</td></tr><tr><td>Osasuna</td><td>List(1, 1, List(), List(30.1))</td></tr><tr><td>Betis</td><td>List(1, 1, List(), List(28.7))</td></tr><tr><td>Alavés</td><td>List(1, 1, List(), List(24.5))</td></tr><tr><td>Valladolid</td><td>List(1, 1, List(), List(20.0))</td></tr><tr><td>Eibar</td><td>List(1, 1, List(), List(22.0))</td></tr><tr><td>Celta Vigo</td><td>List(1, 1, List(), List(24.2))</td></tr><tr><td>Mallorca</td><td>List(1, 1, List(), List(25.5))</td></tr><tr><td>Leganés</td><td>List(1, 1, List(), List(21.5))</td></tr><tr><td>Espanyol</td><td>List(1, 1, List(), List(22.0))</td></tr></tbody></table></div>"
      ]
     },
     "metadata": {
      "application/vnd.databricks.v1+output": {
       "addedWidgets": {},
       "aggData": [],
       "aggError": "",
       "aggOverflow": false,
       "aggSchema": [],
       "aggSeriesLimitReached": false,
       "aggType": "",
       "arguments": {},
       "columnCustomDisplayInfos": {},
       "data": [
        [
         "Real Madrid",
         [
          1,
          1,
          [],
          [
           41.0
          ]
         ]
        ],
        [
         "Barcelona",
         [
          1,
          1,
          [],
          [
           39.4
          ]
         ]
        ],
        [
         "Getafe",
         [
          1,
          1,
          [],
          [
           25.5
          ]
         ]
        ],
        [
         "Atlético Madrid",
         [
          1,
          1,
          [],
          [
           30.8
          ]
         ]
        ],
        [
         "Sevilla",
         [
          1,
          1,
          [],
          [
           29.3
          ]
         ]
        ],
        [
         "Real Sociedad",
         [
          1,
          1,
          [],
          [
           31.7
          ]
         ]
        ],
        [
         "Valencia",
         [
          1,
          1,
          [],
          [
           27.7
          ]
         ]
        ],
        [
         "Villarreal",
         [
          1,
          1,
          [],
          [
           38.6
          ]
         ]
        ],
        [
         "Athletic Bilbao",
         [
          1,
          1,
          [],
          [
           23.7
          ]
         ]
        ],
        [
         "Granada",
         [
          1,
          1,
          [],
          [
           23.0
          ]
         ]
        ],
        [
         "Levante",
         [
          1,
          1,
          [],
          [
           26.7
          ]
         ]
        ],
        [
         "Osasuna",
         [
          1,
          1,
          [],
          [
           30.1
          ]
         ]
        ],
        [
         "Betis",
         [
          1,
          1,
          [],
          [
           28.7
          ]
         ]
        ],
        [
         "Alavés",
         [
          1,
          1,
          [],
          [
           24.5
          ]
         ]
        ],
        [
         "Valladolid",
         [
          1,
          1,
          [],
          [
           20.0
          ]
         ]
        ],
        [
         "Eibar",
         [
          1,
          1,
          [],
          [
           22.0
          ]
         ]
        ],
        [
         "Celta Vigo",
         [
          1,
          1,
          [],
          [
           24.2
          ]
         ]
        ],
        [
         "Mallorca",
         [
          1,
          1,
          [],
          [
           25.5
          ]
         ]
        ],
        [
         "Leganés",
         [
          1,
          1,
          [],
          [
           21.5
          ]
         ]
        ],
        [
         "Espanyol",
         [
          1,
          1,
          [],
          [
           22.0
          ]
         ]
        ]
       ],
       "datasetInfos": [
        {
         "name": "df_kmeans",
         "schema": {
          "fields": [
           {
            "metadata": {},
            "name": "Squad",
            "nullable": true,
            "type": "string"
           },
           {
            "metadata": {
             "ml_attr": {
              "attrs": {
               "numeric": [
                {
                 "idx": 0,
                 "name": "xG"
                }
               ]
              },
              "num_attrs": 1
             }
            },
            "name": "features",
            "nullable": true,
            "type": {
             "class": "org.apache.spark.ml.linalg.VectorUDT",
             "pyClass": "pyspark.ml.linalg.VectorUDT",
             "sqlType": {
              "fields": [
               {
                "metadata": {},
                "name": "type",
                "nullable": false,
                "type": "byte"
               },
               {
                "metadata": {},
                "name": "size",
                "nullable": true,
                "type": "integer"
               },
               {
                "metadata": {},
                "name": "indices",
                "nullable": true,
                "type": {
                 "containsNull": false,
                 "elementType": "integer",
                 "type": "array"
                }
               },
               {
                "metadata": {},
                "name": "values",
                "nullable": true,
                "type": {
                 "containsNull": false,
                 "elementType": "double",
                 "type": "array"
                }
               }
              ],
              "type": "struct"
             },
             "type": "udt"
            }
           }
          ],
          "type": "struct"
         },
         "tableIdentifier": null,
         "typeStr": "pyspark.sql.dataframe.DataFrame"
        }
       ],
       "dbfsResultPath": null,
       "isJsonSchema": true,
       "metadata": {},
       "overflow": false,
       "plotOptions": {
        "customPlotOptions": {},
        "displayType": "table",
        "pivotAggregation": null,
        "pivotColumns": null,
        "xColumns": null,
        "yColumns": null
       },
       "removedWidgets": [],
       "schema": [
        {
         "metadata": "{}",
         "name": "Squad",
         "type": "\"string\""
        },
        {
         "metadata": "{\"ml_attr\":{\"attrs\":{\"numeric\":[{\"idx\":0,\"name\":\"xG\"}]},\"num_attrs\":1}}",
         "name": "features",
         "type": "{\"type\":\"udt\",\"class\":\"org.apache.spark.ml.linalg.VectorUDT\",\"pyClass\":\"pyspark.ml.linalg.VectorUDT\",\"sqlType\":{\"type\":\"struct\",\"fields\":[{\"name\":\"type\",\"type\":\"byte\",\"nullable\":false,\"metadata\":{}},{\"name\":\"size\",\"type\":\"integer\",\"nullable\":true,\"metadata\":{}},{\"name\":\"indices\",\"type\":{\"type\":\"array\",\"elementType\":\"integer\",\"containsNull\":false},\"nullable\":true,\"metadata\":{}},{\"name\":\"values\",\"type\":{\"type\":\"array\",\"elementType\":\"double\",\"containsNull\":false},\"nullable\":true,\"metadata\":{}}]}}"
        }
       ],
       "type": "table"
      }
     },
     "output_type": "display_data"
    }
   ],
   "source": [
    "from pyspark import SparkContext\n",
    "from pyspark.ml.clustering import KMeans\n",
    "from pyspark.ml.feature import VectorAssembler\n",
    "\n",
    "#Para empezar, vamos a preparar los datos para podérselos pasar a los distintos modelos:\n",
    "#Pasamos en un vector los datos numéricos que finalmente le vamos a pasar al modelo\n",
    "\n",
    "vecAssembler = VectorAssembler(inputCols=['xG'], outputCol=\"features\")\n",
    "\n",
    "#Mediante la función transform obtenemos el Dataframe que pueda ser entendido \n",
    "#por el modelo que vamos a usar, que en este ejemplo va a ser KMeans.\n",
    "#\n",
    "df_kmeans = vecAssembler.transform(df).select('Squad', 'features')\n",
    "display(df_kmeans)"
   ]
  },
  {
   "cell_type": "code",
   "execution_count": 0,
   "metadata": {
    "application/vnd.databricks.v1+cell": {
     "cellMetadata": {},
     "inputWidgets": {},
     "nuid": "b701a9e8-0da8-4594-a298-b6ba00fb8426",
     "showTitle": false,
     "title": ""
    }
   },
   "outputs": [
    {
     "output_type": "display_data",
     "data": {
      "text/html": [
       "<style scoped>\n",
       "  .ansiout {\n",
       "    display: block;\n",
       "    unicode-bidi: embed;\n",
       "    white-space: pre-wrap;\n",
       "    word-wrap: break-word;\n",
       "    word-break: break-all;\n",
       "    font-family: \"Menlo\", \"Monaco\", \"Consolas\", \"Ubuntu Mono\", \"Source Code Pro\", monospace;\n",
       "    font-size: 13px;\n",
       "    color: #555;\n",
       "    margin-left: 4px;\n",
       "    line-height: 19px;\n",
       "  }\n",
       "</style>\n",
       "<div class=\"ansiout\">Cluster Centroides: \n",
       "[23.19]\n",
       "[39.66666667]\n",
       "[29.28571429]\n",
       "</div>"
      ]
     },
     "metadata": {
      "application/vnd.databricks.v1+output": {
       "addedWidgets": {},
       "arguments": {},
       "data": "<div class=\"ansiout\">Cluster Centroides: \n[23.19]\n[39.66666667]\n[29.28571429]\n</div>",
       "datasetInfos": [],
       "metadata": {},
       "removedWidgets": [],
       "type": "html"
      }
     },
     "output_type": "display_data"
    }
   ],
   "source": [
    "#En nuestro caso, no hemos necesitado utilizar ningún método (como Elbow) para definir el número de clusters, ya que hemos elegido que serán 3 el número de categorías en las que se agruparán los equipos (ofensivos, defensivos, equilibrados). \n",
    "#A continuación entrenamos el modelo con un valor k=3, y podemos obtener los centroides de cada grupo.\n",
    "\n",
    "k = 3\n",
    "kmeans = KMeans().setK(k).setSeed(1).setFeaturesCol(\"features\")\n",
    "model = kmeans.fit(df_kmeans)\n",
    "centroides = model.clusterCenters()\n",
    "\n",
    "print(\"Cluster Centroides: \")\n",
    "for center in centroides:\n",
    "    print(center)"
   ]
  },
  {
   "cell_type": "code",
   "execution_count": 0,
   "metadata": {
    "application/vnd.databricks.v1+cell": {
     "cellMetadata": {},
     "inputWidgets": {},
     "nuid": "b8d867b1-3a5a-4938-ab5b-38383ec2973d",
     "showTitle": false,
     "title": ""
    }
   },
   "outputs": [
    {
     "output_type": "display_data",
     "data": {
      "text/html": [
       "<style scoped>\n",
       "  .table-result-container {\n",
       "    max-height: 300px;\n",
       "    overflow: auto;\n",
       "  }\n",
       "  table, th, td {\n",
       "    border: 1px solid black;\n",
       "    border-collapse: collapse;\n",
       "  }\n",
       "  th, td {\n",
       "    padding: 5px;\n",
       "  }\n",
       "  th {\n",
       "    text-align: left;\n",
       "  }\n",
       "</style><div class='table-result-container'><table class='table-result'><thead style='background-color: white'><tr><th>Squad</th><th>prediction</th></tr></thead><tbody><tr><td>Real Madrid</td><td>1</td></tr><tr><td>Barcelona</td><td>1</td></tr><tr><td>Getafe</td><td>0</td></tr><tr><td>Atlético Madrid</td><td>2</td></tr><tr><td>Sevilla</td><td>2</td></tr><tr><td>Real Sociedad</td><td>2</td></tr><tr><td>Valencia</td><td>2</td></tr><tr><td>Villarreal</td><td>1</td></tr><tr><td>Athletic Bilbao</td><td>0</td></tr><tr><td>Granada</td><td>0</td></tr><tr><td>Levante</td><td>2</td></tr><tr><td>Osasuna</td><td>2</td></tr><tr><td>Betis</td><td>2</td></tr><tr><td>Alavés</td><td>0</td></tr><tr><td>Valladolid</td><td>0</td></tr><tr><td>Eibar</td><td>0</td></tr><tr><td>Celta Vigo</td><td>0</td></tr><tr><td>Mallorca</td><td>0</td></tr><tr><td>Leganés</td><td>0</td></tr><tr><td>Espanyol</td><td>0</td></tr></tbody></table></div>"
      ]
     },
     "metadata": {
      "application/vnd.databricks.v1+output": {
       "addedWidgets": {},
       "aggData": [],
       "aggError": "",
       "aggOverflow": false,
       "aggSchema": [],
       "aggSeriesLimitReached": false,
       "aggType": "",
       "arguments": {},
       "columnCustomDisplayInfos": {},
       "data": [
        [
         "Real Madrid",
         1
        ],
        [
         "Barcelona",
         1
        ],
        [
         "Getafe",
         0
        ],
        [
         "Atlético Madrid",
         2
        ],
        [
         "Sevilla",
         2
        ],
        [
         "Real Sociedad",
         2
        ],
        [
         "Valencia",
         2
        ],
        [
         "Villarreal",
         1
        ],
        [
         "Athletic Bilbao",
         0
        ],
        [
         "Granada",
         0
        ],
        [
         "Levante",
         2
        ],
        [
         "Osasuna",
         2
        ],
        [
         "Betis",
         2
        ],
        [
         "Alavés",
         0
        ],
        [
         "Valladolid",
         0
        ],
        [
         "Eibar",
         0
        ],
        [
         "Celta Vigo",
         0
        ],
        [
         "Mallorca",
         0
        ],
        [
         "Leganés",
         0
        ],
        [
         "Espanyol",
         0
        ]
       ],
       "datasetInfos": [
        {
         "name": "transformed",
         "schema": {
          "fields": [
           {
            "metadata": {},
            "name": "Squad",
            "nullable": true,
            "type": "string"
           },
           {
            "metadata": {},
            "name": "prediction",
            "nullable": false,
            "type": "integer"
           }
          ],
          "type": "struct"
         },
         "tableIdentifier": null,
         "typeStr": "pyspark.sql.dataframe.DataFrame"
        }
       ],
       "dbfsResultPath": null,
       "isJsonSchema": true,
       "metadata": {},
       "overflow": false,
       "plotOptions": {
        "customPlotOptions": {},
        "displayType": "table",
        "pivotAggregation": null,
        "pivotColumns": null,
        "xColumns": null,
        "yColumns": null
       },
       "removedWidgets": [],
       "schema": [
        {
         "metadata": "{}",
         "name": "Squad",
         "type": "\"string\""
        },
        {
         "metadata": "{}",
         "name": "prediction",
         "type": "\"integer\""
        }
       ],
       "type": "table"
      }
     },
     "output_type": "display_data"
    }
   ],
   "source": [
    "#Una vez obtenidos los centroides de cada clúster, asociamos cada equipo al clúster que le corresponde. Para ello ejecutamos la función transform.\n",
    "transformed = model.transform(df_kmeans).select('Squad', 'prediction')\n",
    "display(transformed)\n",
    "\n",
    "#Podemos observar que ya tenemos agrupados a los equipos. En este caso, el primer clúster (0), es el de los equipos con un valor de xG más cercano al primer centroide (xG=23.19), los cuales generan relativamente pocas ocasiones y/o de baja calidad. En este grupo están el Getafe, Athletic de Bilbao, Granada, Alavés, Valladolid, Eibar, Celta, Mallorca, Leganés y Espanyol. En un segundo clúster (1) encontramos a los equipos cuyo valor de xG se acerca al segundo centroide (xG=39.67). Vemos aquí a los equipos con un muy buen desempeño ofensivo: Real Madrid, Barcelona y Villarreal. Finalmente, en el clúster 2 se encuentran los equipos intermedios, que se acercan al centroide xG=29.28; Atlético, Sevilla, Real Sociedad, Valencia, Levante, Osasuna y Betis."
   ]
  }
 ],
 "metadata": {
  "application/vnd.databricks.v1+notebook": {
   "dashboards": [],
   "environmentMetadata": null,
   "language": "python",
   "notebookMetadata": {
    "pythonIndentUnit": 2
   },
   "notebookName": "ML-EJEMPLO FUTBOL",
   "widgets": {}
  }
 },
 "nbformat": 4,
 "nbformat_minor": 0
}
