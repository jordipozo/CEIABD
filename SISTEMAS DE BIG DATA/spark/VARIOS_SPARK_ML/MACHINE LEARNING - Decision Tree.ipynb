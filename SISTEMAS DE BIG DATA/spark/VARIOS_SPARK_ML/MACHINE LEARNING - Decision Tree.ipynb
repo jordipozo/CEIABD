{
 "cells": [
  {
   "cell_type": "markdown",
   "metadata": {
    "application/vnd.databricks.v1+cell": {
     "cellMetadata": {},
     "inputWidgets": {},
     "nuid": "5f3d273a-610c-4ae2-80d0-ef48edcafd10",
     "showTitle": false,
     "title": ""
    }
   },
   "source": [
    "## DECISION TREE + DBUTILS.FS"
   ]
  },
  {
   "cell_type": "code",
   "execution_count": 0,
   "metadata": {
    "application/vnd.databricks.v1+cell": {
     "cellMetadata": {
      "byteLimit": 2048000,
      "rowLimit": 10000
     },
     "inputWidgets": {},
     "nuid": "60b5ed04-07b3-4f9f-bf0a-3d5cfddeb619",
     "showTitle": false,
     "title": ""
    }
   },
   "outputs": [],
   "source": [
    "# Definición de contexto\n",
    "from pyspark.sql import SparkSession\n",
    "spark = SparkSession.builder.getOrCreate()\n",
    "sc = spark.sparkContext"
   ]
  },
  {
   "cell_type": "code",
   "execution_count": 0,
   "metadata": {
    "application/vnd.databricks.v1+cell": {
     "cellMetadata": {
      "byteLimit": 2048000,
      "rowLimit": 10000
     },
     "inputWidgets": {},
     "nuid": "cb50601c-aff1-45a2-aad2-e44429c55ba9",
     "showTitle": false,
     "title": ""
    }
   },
   "outputs": [],
   "source": [
    "# Importamos librerías necesarias\n",
    "from pyspark.mllib.regression import LabeledPoint\n",
    "from pyspark.mllib.tree import DecisionTree, DecisionTreeModel\n",
    "from pyspark.mllib.util import MLUtils"
   ]
  },
  {
   "cell_type": "code",
   "execution_count": 0,
   "metadata": {
    "application/vnd.databricks.v1+cell": {
     "cellMetadata": {
      "byteLimit": 2048000,
      "rowLimit": 10000
     },
     "inputWidgets": {},
     "nuid": "cb33e3ab-0b42-4590-8616-a554955e08fe",
     "showTitle": false,
     "title": ""
    }
   },
   "outputs": [],
   "source": [
    "# Definimos función para \"etiquetar\" la clase con un valor numérico.\n",
    "def getLabelNum(label):\n",
    "    if label == \"Iris-setosa\":\n",
    "        return 0\n",
    "    elif label == \"Iris-versicolor\":\n",
    "        return 1\n",
    "    else:\n",
    "        return 2"
   ]
  },
  {
   "cell_type": "markdown",
   "metadata": {
    "application/vnd.databricks.v1+cell": {
     "cellMetadata": {},
     "inputWidgets": {},
     "nuid": "c48af24d-abbe-45f9-87b4-6f10687ccee3",
     "showTitle": false,
     "title": ""
    }
   },
   "source": [
    "NOTA:\n",
    "En el contexto de *Apache Spark* y su biblioteca de aprendizaje automático *MLlib*, **LabeledPoint** es una estructura de datos utilizada específicamente para algoritmos de aprendizaje supervisado. Es esencialmente un contenedor que agrupa una etiqueta y un vector de características. Está diseñada para ser usada en problemas de clasificación y regresión donde cada instancia de datos tiene una etiqueta (o valor objetivo) y un conjunto de características numéricas.\n",
    "**LabeledPoint** espera un valor numérico para la etiqueta y un vector numérico para las características. Si p[0], p[1], p[2], p[3] son strings (lo cual es muy probable si vienen directamente de un archivo CSV), será necesario convertirlos a float:"
   ]
  },
  {
   "cell_type": "code",
   "execution_count": 0,
   "metadata": {
    "application/vnd.databricks.v1+cell": {
     "cellMetadata": {
      "byteLimit": 2048000,
      "rowLimit": 10000
     },
     "inputWidgets": {},
     "nuid": "fb9a1650-b789-4511-931d-3ad5bcf14352",
     "showTitle": false,
     "title": ""
    }
   },
   "outputs": [],
   "source": [
    "# Cargamos el dataset\n",
    "data = (sc\n",
    "        .textFile(\"/FileStore/tables/iris.csv\")\n",
    "        .map(lambda l: l.split(\",\"))\n",
    "        .filter(lambda p: len(p) == 5)  # Garantiza que solo se procesen líneas con 5 elementos\n",
    "        .map(lambda p: LabeledPoint(getLabelNum(p[4]),[float(p[0]), float(p[1]), float(p[2]), float(p[3])]))\n",
    ")"
   ]
  },
  {
   "cell_type": "code",
   "execution_count": 0,
   "metadata": {
    "application/vnd.databricks.v1+cell": {
     "cellMetadata": {
      "byteLimit": 2048000,
      "rowLimit": 10000
     },
     "inputWidgets": {},
     "nuid": "97678db6-55c6-4d48-b96e-c59b6e643f34",
     "showTitle": false,
     "title": ""
    }
   },
   "outputs": [],
   "source": [
    "# Division en conjuntos de train y test\n",
    "(train, test) = data.randomSplit([0.7, 0.3])"
   ]
  },
  {
   "cell_type": "code",
   "execution_count": 0,
   "metadata": {
    "application/vnd.databricks.v1+cell": {
     "cellMetadata": {
      "byteLimit": 2048000,
      "rowLimit": 10000
     },
     "inputWidgets": {},
     "nuid": "f7aece3e-6193-466a-a57a-ef3bef43ecbf",
     "showTitle": false,
     "title": ""
    }
   },
   "outputs": [],
   "source": [
    "# Entrenamiento del modelo basado en árbol de decisión\n",
    "model = DecisionTree.trainClassifier(train, \n",
    "                                     numClasses= 3, \n",
    "                                     categoricalFeaturesInfo={}, \n",
    "                                     impurity=\"gini\", \n",
    "                                     maxDepth= 5, \n",
    "                                     maxBins= 32) "
   ]
  },
  {
   "cell_type": "code",
   "execution_count": 0,
   "metadata": {
    "application/vnd.databricks.v1+cell": {
     "cellMetadata": {
      "byteLimit": 2048000,
      "rowLimit": 10000
     },
     "inputWidgets": {},
     "nuid": "d2336637-7de7-41e9-a77f-620a30e39232",
     "showTitle": false,
     "title": ""
    }
   },
   "outputs": [
    {
     "output_type": "stream",
     "name": "stdout",
     "output_type": "stream",
     "text": [
      "Error en conjunto TEST = 0.07317073170731707\n"
     ]
    }
   ],
   "source": [
    "# Evaluación del modelo\n",
    "predictions = model.predict(test.map(lambda x: x.features))\n",
    "labelsAndPredictions = test.map(lambda lp: lp.label).zip(predictions)\n",
    "testErr = labelsAndPredictions.filter(lambda vp: vp[0] != vp[1]).count() / float(test.count())\n",
    "print ('Error en conjunto TEST = ' + str(testErr))"
   ]
  },
  {
   "cell_type": "code",
   "execution_count": 0,
   "metadata": {
    "application/vnd.databricks.v1+cell": {
     "cellMetadata": {
      "byteLimit": 2048000,
      "rowLimit": 10000
     },
     "inputWidgets": {},
     "nuid": "6d8254a8-c06c-46b6-b105-bad5a588d687",
     "showTitle": false,
     "title": ""
    }
   },
   "outputs": [
    {
     "output_type": "stream",
     "name": "stdout",
     "output_type": "stream",
     "text": [
      "DecisionTreeModel classifier of depth 3 with 7 nodes\n  If (feature 2 <= 2.45)\n   Predict: 0.0\n  Else (feature 2 > 2.45)\n   If (feature 2 <= 4.95)\n    If (feature 3 <= 1.65)\n     Predict: 1.0\n    Else (feature 3 > 1.65)\n     Predict: 2.0\n   Else (feature 2 > 4.95)\n    Predict: 2.0\n\n"
     ]
    }
   ],
   "source": [
    "print (model.toDebugString())"
   ]
  },
  {
   "cell_type": "markdown",
   "metadata": {
    "application/vnd.databricks.v1+cell": {
     "cellMetadata": {},
     "inputWidgets": {},
     "nuid": "3cd46612-8cf7-4d33-b934-9f9009f2053a",
     "showTitle": false,
     "title": ""
    }
   },
   "source": [
    "Es posible utilizar el directorio /dbfs/ para acceder al DBFS. Los caminos relativos como target/tmp/... deben ser convertidos en caminos absolutos"
   ]
  },
  {
   "cell_type": "code",
   "execution_count": 0,
   "metadata": {
    "application/vnd.databricks.v1+cell": {
     "cellMetadata": {
      "byteLimit": 2048000,
      "rowLimit": 10000
     },
     "inputWidgets": {},
     "nuid": "f3e63e7e-7f66-47e5-b813-9bda72d0c082",
     "showTitle": false,
     "title": ""
    }
   },
   "outputs": [],
   "source": [
    "# Guardado y carga del modelo\n",
    "model_path = \"/FileStore/DecisionTreeClassificationModel\"\n",
    "model.save(sc, model_path)\n",
    "sameModel = DecisionTreeModel.load(sc, model_path)"
   ]
  },
  {
   "cell_type": "markdown",
   "metadata": {
    "application/vnd.databricks.v1+cell": {
     "cellMetadata": {},
     "inputWidgets": {},
     "nuid": "85541593-6377-457e-a22d-ca1cba86022a",
     "showTitle": false,
     "title": ""
    }
   },
   "source": [
    "## Gestión de archivos subidos al WorkSpace del usuario\n",
    "\n",
    "1. Listado de ficheros en el directorio raíz (/FileStore/tables)"
   ]
  },
  {
   "cell_type": "code",
   "execution_count": 0,
   "metadata": {
    "application/vnd.databricks.v1+cell": {
     "cellMetadata": {
      "byteLimit": 2048000,
      "rowLimit": 10000
     },
     "inputWidgets": {},
     "nuid": "9851db0b-62df-4472-8df2-9ef3b808392a",
     "showTitle": false,
     "title": ""
    }
   },
   "outputs": [
    {
     "output_type": "display_data",
     "data": {
      "text/html": [
       "<style scoped>\n",
       "  .table-result-container {\n",
       "    max-height: 300px;\n",
       "    overflow: auto;\n",
       "  }\n",
       "  table, th, td {\n",
       "    border: 1px solid black;\n",
       "    border-collapse: collapse;\n",
       "  }\n",
       "  th, td {\n",
       "    padding: 5px;\n",
       "  }\n",
       "  th {\n",
       "    text-align: left;\n",
       "  }\n",
       "</style><div class='table-result-container'><table class='table-result'><thead style='background-color: white'><tr><th>path</th><th>name</th><th>size</th><th>modificationTime</th></tr></thead><tbody><tr><td>dbfs:/FileStore/tables/cancer_data.csv</td><td>cancer_data.csv</td><td>125204</td><td>1714381712000</td></tr><tr><td>dbfs:/FileStore/tables/data.csv</td><td>data.csv</td><td>4551</td><td>1714328543000</td></tr><tr><td>dbfs:/FileStore/tables/empleados.txt</td><td>empleados.txt</td><td>226</td><td>1713106514000</td></tr><tr><td>dbfs:/FileStore/tables/empleados2.txt</td><td>empleados2.txt</td><td>227</td><td>1713285254000</td></tr><tr><td>dbfs:/FileStore/tables/heart.csv</td><td>heart.csv</td><td>11323</td><td>1712559935000</td></tr><tr><td>dbfs:/FileStore/tables/iris.csv</td><td>iris.csv</td><td>4551</td><td>1714330197000</td></tr><tr><td>dbfs:/FileStore/tables/lung_cancer.csv</td><td>lung_cancer.csv</td><td>1704</td><td>1714388630000</td></tr><tr><td>dbfs:/FileStore/tables/pdi_sales.csv</td><td>pdi_sales.csv</td><td>38841198</td><td>1713111030000</td></tr><tr><td>dbfs:/FileStore/tables/purchases-1.csv</td><td>purchases-1.csv</td><td>25529445</td><td>1711916992000</td></tr><tr><td>dbfs:/FileStore/tables/purchases-2.csv</td><td>purchases-2.csv</td><td>25529445</td><td>1711952919000</td></tr><tr><td>dbfs:/FileStore/tables/purchases-3.csv</td><td>purchases-3.csv</td><td>25529445</td><td>1712559445000</td></tr><tr><td>dbfs:/FileStore/tables/purchases.csv</td><td>purchases.csv</td><td>25529445</td><td>1711916641000</td></tr><tr><td>dbfs:/FileStore/tables/weatherHistory.csv</td><td>weatherHistory.csv</td><td>16294377</td><td>1714383490000</td></tr></tbody></table></div>"
      ]
     },
     "metadata": {
      "application/vnd.databricks.v1+output": {
       "addedWidgets": {},
       "aggData": [],
       "aggError": "",
       "aggOverflow": false,
       "aggSchema": [],
       "aggSeriesLimitReached": false,
       "aggType": "",
       "arguments": {},
       "columnCustomDisplayInfos": {},
       "data": [
        [
         "dbfs:/FileStore/tables/cancer_data.csv",
         "cancer_data.csv",
         125204,
         1714381712000
        ],
        [
         "dbfs:/FileStore/tables/data.csv",
         "data.csv",
         4551,
         1714328543000
        ],
        [
         "dbfs:/FileStore/tables/empleados.txt",
         "empleados.txt",
         226,
         1713106514000
        ],
        [
         "dbfs:/FileStore/tables/empleados2.txt",
         "empleados2.txt",
         227,
         1713285254000
        ],
        [
         "dbfs:/FileStore/tables/heart.csv",
         "heart.csv",
         11323,
         1712559935000
        ],
        [
         "dbfs:/FileStore/tables/iris.csv",
         "iris.csv",
         4551,
         1714330197000
        ],
        [
         "dbfs:/FileStore/tables/lung_cancer.csv",
         "lung_cancer.csv",
         1704,
         1714388630000
        ],
        [
         "dbfs:/FileStore/tables/pdi_sales.csv",
         "pdi_sales.csv",
         38841198,
         1713111030000
        ],
        [
         "dbfs:/FileStore/tables/purchases-1.csv",
         "purchases-1.csv",
         25529445,
         1711916992000
        ],
        [
         "dbfs:/FileStore/tables/purchases-2.csv",
         "purchases-2.csv",
         25529445,
         1711952919000
        ],
        [
         "dbfs:/FileStore/tables/purchases-3.csv",
         "purchases-3.csv",
         25529445,
         1712559445000
        ],
        [
         "dbfs:/FileStore/tables/purchases.csv",
         "purchases.csv",
         25529445,
         1711916641000
        ],
        [
         "dbfs:/FileStore/tables/weatherHistory.csv",
         "weatherHistory.csv",
         16294377,
         1714383490000
        ]
       ],
       "datasetInfos": [],
       "dbfsResultPath": null,
       "isJsonSchema": true,
       "metadata": {
        "isDbfsCommandResult": false
       },
       "overflow": false,
       "plotOptions": {
        "customPlotOptions": {},
        "displayType": "table",
        "pivotAggregation": null,
        "pivotColumns": null,
        "xColumns": null,
        "yColumns": null
       },
       "removedWidgets": [],
       "schema": [
        {
         "metadata": "{}",
         "name": "path",
         "type": "\"string\""
        },
        {
         "metadata": "{}",
         "name": "name",
         "type": "\"string\""
        },
        {
         "metadata": "{}",
         "name": "size",
         "type": "\"long\""
        },
        {
         "metadata": "{}",
         "name": "modificationTime",
         "type": "\"long\""
        }
       ],
       "type": "table"
      }
     },
     "output_type": "display_data"
    }
   ],
   "source": [
    "%fs ls /FileStore/tables/"
   ]
  },
  {
   "cell_type": "code",
   "execution_count": 0,
   "metadata": {
    "application/vnd.databricks.v1+cell": {
     "cellMetadata": {
      "byteLimit": 2048000,
      "rowLimit": 10000
     },
     "inputWidgets": {},
     "nuid": "e3f85837-6cd8-48c0-90fd-204e30248339",
     "showTitle": false,
     "title": ""
    }
   },
   "outputs": [
    {
     "output_type": "display_data",
     "data": {
      "text/html": [
       "<style scoped>\n",
       "  .table-result-container {\n",
       "    max-height: 300px;\n",
       "    overflow: auto;\n",
       "  }\n",
       "  table, th, td {\n",
       "    border: 1px solid black;\n",
       "    border-collapse: collapse;\n",
       "  }\n",
       "  th, td {\n",
       "    padding: 5px;\n",
       "  }\n",
       "  th {\n",
       "    text-align: left;\n",
       "  }\n",
       "</style><div class='table-result-container'><table class='table-result'><thead style='background-color: white'><tr><th>path</th><th>name</th><th>size</th><th>modificationTime</th></tr></thead><tbody><tr><td>dbfs:/FileStore/DecisionTreeClassificationModel/data/_SUCCESS</td><td>_SUCCESS</td><td>0</td><td>1716748783000</td></tr><tr><td>dbfs:/FileStore/DecisionTreeClassificationModel/data/_committed_5965025647390906940</td><td>_committed_5965025647390906940</td><td>816</td><td>1716748783000</td></tr><tr><td>dbfs:/FileStore/DecisionTreeClassificationModel/data/_started_5965025647390906940</td><td>_started_5965025647390906940</td><td>0</td><td>1716748777000</td></tr><tr><td>dbfs:/FileStore/DecisionTreeClassificationModel/data/part-00000-tid-5965025647390906940-b7103748-d5f6-4856-90d6-4708e8c2a8b5-72-1-c000.snappy.parquet</td><td>part-00000-tid-5965025647390906940-b7103748-d5f6-4856-90d6-4708e8c2a8b5-72-1-c000.snappy.parquet</td><td>1733</td><td>1716748782000</td></tr><tr><td>dbfs:/FileStore/DecisionTreeClassificationModel/data/part-00001-tid-5965025647390906940-b7103748-d5f6-4856-90d6-4708e8c2a8b5-73-1-c000.snappy.parquet</td><td>part-00001-tid-5965025647390906940-b7103748-d5f6-4856-90d6-4708e8c2a8b5-73-1-c000.snappy.parquet</td><td>3813</td><td>1716748782000</td></tr><tr><td>dbfs:/FileStore/DecisionTreeClassificationModel/data/part-00002-tid-5965025647390906940-b7103748-d5f6-4856-90d6-4708e8c2a8b5-74-1-c000.snappy.parquet</td><td>part-00002-tid-5965025647390906940-b7103748-d5f6-4856-90d6-4708e8c2a8b5-74-1-c000.snappy.parquet</td><td>3543</td><td>1716748782000</td></tr><tr><td>dbfs:/FileStore/DecisionTreeClassificationModel/data/part-00003-tid-5965025647390906940-b7103748-d5f6-4856-90d6-4708e8c2a8b5-75-1-c000.snappy.parquet</td><td>part-00003-tid-5965025647390906940-b7103748-d5f6-4856-90d6-4708e8c2a8b5-75-1-c000.snappy.parquet</td><td>3813</td><td>1716748782000</td></tr><tr><td>dbfs:/FileStore/DecisionTreeClassificationModel/data/part-00004-tid-5965025647390906940-b7103748-d5f6-4856-90d6-4708e8c2a8b5-76-1-c000.snappy.parquet</td><td>part-00004-tid-5965025647390906940-b7103748-d5f6-4856-90d6-4708e8c2a8b5-76-1-c000.snappy.parquet</td><td>3814</td><td>1716748782000</td></tr><tr><td>dbfs:/FileStore/DecisionTreeClassificationModel/data/part-00005-tid-5965025647390906940-b7103748-d5f6-4856-90d6-4708e8c2a8b5-77-1-c000.snappy.parquet</td><td>part-00005-tid-5965025647390906940-b7103748-d5f6-4856-90d6-4708e8c2a8b5-77-1-c000.snappy.parquet</td><td>3543</td><td>1716748782000</td></tr><tr><td>dbfs:/FileStore/DecisionTreeClassificationModel/data/part-00006-tid-5965025647390906940-b7103748-d5f6-4856-90d6-4708e8c2a8b5-78-1-c000.snappy.parquet</td><td>part-00006-tid-5965025647390906940-b7103748-d5f6-4856-90d6-4708e8c2a8b5-78-1-c000.snappy.parquet</td><td>3543</td><td>1716748782000</td></tr><tr><td>dbfs:/FileStore/DecisionTreeClassificationModel/data/part-00007-tid-5965025647390906940-b7103748-d5f6-4856-90d6-4708e8c2a8b5-79-1-c000.snappy.parquet</td><td>part-00007-tid-5965025647390906940-b7103748-d5f6-4856-90d6-4708e8c2a8b5-79-1-c000.snappy.parquet</td><td>3543</td><td>1716748782000</td></tr></tbody></table></div>"
      ]
     },
     "metadata": {
      "application/vnd.databricks.v1+output": {
       "addedWidgets": {},
       "aggData": [],
       "aggError": "",
       "aggOverflow": false,
       "aggSchema": [],
       "aggSeriesLimitReached": false,
       "aggType": "",
       "arguments": {},
       "columnCustomDisplayInfos": {},
       "data": [
        [
         "dbfs:/FileStore/DecisionTreeClassificationModel/data/_SUCCESS",
         "_SUCCESS",
         0,
         1716748783000
        ],
        [
         "dbfs:/FileStore/DecisionTreeClassificationModel/data/_committed_5965025647390906940",
         "_committed_5965025647390906940",
         816,
         1716748783000
        ],
        [
         "dbfs:/FileStore/DecisionTreeClassificationModel/data/_started_5965025647390906940",
         "_started_5965025647390906940",
         0,
         1716748777000
        ],
        [
         "dbfs:/FileStore/DecisionTreeClassificationModel/data/part-00000-tid-5965025647390906940-b7103748-d5f6-4856-90d6-4708e8c2a8b5-72-1-c000.snappy.parquet",
         "part-00000-tid-5965025647390906940-b7103748-d5f6-4856-90d6-4708e8c2a8b5-72-1-c000.snappy.parquet",
         1733,
         1716748782000
        ],
        [
         "dbfs:/FileStore/DecisionTreeClassificationModel/data/part-00001-tid-5965025647390906940-b7103748-d5f6-4856-90d6-4708e8c2a8b5-73-1-c000.snappy.parquet",
         "part-00001-tid-5965025647390906940-b7103748-d5f6-4856-90d6-4708e8c2a8b5-73-1-c000.snappy.parquet",
         3813,
         1716748782000
        ],
        [
         "dbfs:/FileStore/DecisionTreeClassificationModel/data/part-00002-tid-5965025647390906940-b7103748-d5f6-4856-90d6-4708e8c2a8b5-74-1-c000.snappy.parquet",
         "part-00002-tid-5965025647390906940-b7103748-d5f6-4856-90d6-4708e8c2a8b5-74-1-c000.snappy.parquet",
         3543,
         1716748782000
        ],
        [
         "dbfs:/FileStore/DecisionTreeClassificationModel/data/part-00003-tid-5965025647390906940-b7103748-d5f6-4856-90d6-4708e8c2a8b5-75-1-c000.snappy.parquet",
         "part-00003-tid-5965025647390906940-b7103748-d5f6-4856-90d6-4708e8c2a8b5-75-1-c000.snappy.parquet",
         3813,
         1716748782000
        ],
        [
         "dbfs:/FileStore/DecisionTreeClassificationModel/data/part-00004-tid-5965025647390906940-b7103748-d5f6-4856-90d6-4708e8c2a8b5-76-1-c000.snappy.parquet",
         "part-00004-tid-5965025647390906940-b7103748-d5f6-4856-90d6-4708e8c2a8b5-76-1-c000.snappy.parquet",
         3814,
         1716748782000
        ],
        [
         "dbfs:/FileStore/DecisionTreeClassificationModel/data/part-00005-tid-5965025647390906940-b7103748-d5f6-4856-90d6-4708e8c2a8b5-77-1-c000.snappy.parquet",
         "part-00005-tid-5965025647390906940-b7103748-d5f6-4856-90d6-4708e8c2a8b5-77-1-c000.snappy.parquet",
         3543,
         1716748782000
        ],
        [
         "dbfs:/FileStore/DecisionTreeClassificationModel/data/part-00006-tid-5965025647390906940-b7103748-d5f6-4856-90d6-4708e8c2a8b5-78-1-c000.snappy.parquet",
         "part-00006-tid-5965025647390906940-b7103748-d5f6-4856-90d6-4708e8c2a8b5-78-1-c000.snappy.parquet",
         3543,
         1716748782000
        ],
        [
         "dbfs:/FileStore/DecisionTreeClassificationModel/data/part-00007-tid-5965025647390906940-b7103748-d5f6-4856-90d6-4708e8c2a8b5-79-1-c000.snappy.parquet",
         "part-00007-tid-5965025647390906940-b7103748-d5f6-4856-90d6-4708e8c2a8b5-79-1-c000.snappy.parquet",
         3543,
         1716748782000
        ]
       ],
       "datasetInfos": [],
       "dbfsResultPath": null,
       "isJsonSchema": true,
       "metadata": {},
       "overflow": false,
       "plotOptions": {
        "customPlotOptions": {},
        "displayType": "table",
        "pivotAggregation": null,
        "pivotColumns": null,
        "xColumns": null,
        "yColumns": null
       },
       "removedWidgets": [],
       "schema": [
        {
         "metadata": "{}",
         "name": "path",
         "type": "\"string\""
        },
        {
         "metadata": "{}",
         "name": "name",
         "type": "\"string\""
        },
        {
         "metadata": "{}",
         "name": "size",
         "type": "\"long\""
        },
        {
         "metadata": "{}",
         "name": "modificationTime",
         "type": "\"long\""
        }
       ],
       "type": "table"
      }
     },
     "output_type": "display_data"
    }
   ],
   "source": [
    "# Listar archivos en un directorio específico - con función display y usando la API 'dbutils.fs'\n",
    "display(dbutils.fs.ls(\"/FileStore/DecisionTreeClassificationModel/data/\"))"
   ]
  },
  {
   "cell_type": "markdown",
   "metadata": {
    "application/vnd.databricks.v1+cell": {
     "cellMetadata": {},
     "inputWidgets": {},
     "nuid": "d69712bb-df52-4fc1-a1ad-adf7961242aa",
     "showTitle": false,
     "title": ""
    }
   },
   "source": [
    "### Borrado de ficheros del WorkSpace de usuario\n",
    "\n",
    "1. Usando comandos mágicos"
   ]
  },
  {
   "cell_type": "code",
   "execution_count": 0,
   "metadata": {
    "application/vnd.databricks.v1+cell": {
     "cellMetadata": {},
     "inputWidgets": {},
     "nuid": "b89ddb47-e660-458c-8cd2-d675d21beb54",
     "showTitle": false,
     "title": ""
    }
   },
   "outputs": [],
   "source": [
    "%fs rm -r /FileStore/tables/data.csv"
   ]
  },
  {
   "cell_type": "markdown",
   "metadata": {
    "application/vnd.databricks.v1+cell": {
     "cellMetadata": {},
     "inputWidgets": {},
     "nuid": "c3c0ff12-3ac3-4597-bcf3-a04f7ea603f8",
     "showTitle": false,
     "title": ""
    }
   },
   "source": [
    "2. Usando la API **dbutils.fs** de la forma siguiente:"
   ]
  },
  {
   "cell_type": "code",
   "execution_count": 0,
   "metadata": {
    "application/vnd.databricks.v1+cell": {
     "cellMetadata": {},
     "inputWidgets": {},
     "nuid": "57e38369-b997-4b1d-8d49-8c648d46edba",
     "showTitle": false,
     "title": ""
    }
   },
   "outputs": [],
   "source": [
    "dbutils.fs.rm(\"/FileStore/tables/data.csv\", recurse=True)"
   ]
  },
  {
   "cell_type": "markdown",
   "metadata": {
    "application/vnd.databricks.v1+cell": {
     "cellMetadata": {},
     "inputWidgets": {},
     "nuid": "c62b852b-a0d6-4f97-8a8b-a06f91d7290b",
     "showTitle": false,
     "title": ""
    }
   },
   "source": [
    "Aquí, *recurse=True* permite eliminar directorios y su contenido. Similar al comando *%fs rm*, usa esta opción con cuidado para evitar la eliminación accidental de datos importantes."
   ]
  },
  {
   "cell_type": "markdown",
   "metadata": {
    "application/vnd.databricks.v1+cell": {
     "cellMetadata": {},
     "inputWidgets": {},
     "nuid": "29ef6f02-8829-40d9-a6d5-f97a1f3040d0",
     "showTitle": false,
     "title": ""
    }
   },
   "source": [
    "### Cambiar nombre a ficheros del WorkSpace de usuario\n",
    "\n",
    "Hay que usar el comando **mv** (move). No existe el comando rename!!\n",
    "\n",
    "1. Usando comandos mágicos"
   ]
  },
  {
   "cell_type": "code",
   "execution_count": 0,
   "metadata": {
    "application/vnd.databricks.v1+cell": {
     "cellMetadata": {},
     "inputWidgets": {},
     "nuid": "cd1bb515-870e-4c24-83c2-44ab19978b15",
     "showTitle": false,
     "title": ""
    }
   },
   "outputs": [],
   "source": [
    "%fs mv dbfs:/FileStore/tables/nombre_actual.csv dbfs:/FileStore/tables/nuevo_nombre.csv"
   ]
  },
  {
   "cell_type": "markdown",
   "metadata": {
    "application/vnd.databricks.v1+cell": {
     "cellMetadata": {},
     "inputWidgets": {},
     "nuid": "7cff4c69-0b46-40e6-9877-227e5ebbe891",
     "showTitle": false,
     "title": ""
    }
   },
   "source": [
    "2. Usando la API **dbutils.fs**"
   ]
  },
  {
   "cell_type": "code",
   "execution_count": 0,
   "metadata": {
    "application/vnd.databricks.v1+cell": {
     "cellMetadata": {},
     "inputWidgets": {},
     "nuid": "1db961fe-6d09-4ebb-9c26-735d585b2ba2",
     "showTitle": false,
     "title": ""
    }
   },
   "outputs": [],
   "source": [
    "dbutils.fs.mv(\"dbfs:/FileStore/tables/nombre_actual.csv\", \"dbfs:/FileStore/tables/nuevo_nombre.csv\")"
   ]
  },
  {
   "cell_type": "markdown",
   "metadata": {
    "application/vnd.databricks.v1+cell": {
     "cellMetadata": {},
     "inputWidgets": {},
     "nuid": "5e67dfba-9b9d-4850-bef8-dfcd27f352d0",
     "showTitle": false,
     "title": ""
    }
   },
   "source": [
    "Más información sobre la API dbutils.fs en la siguiente URL:\n",
    "https://docs.databricks.com/en/dev-tools/databricks-utils.html\n"
   ]
  },
  {
   "cell_type": "code",
   "execution_count": 0,
   "metadata": {
    "application/vnd.databricks.v1+cell": {
     "cellMetadata": {},
     "inputWidgets": {},
     "nuid": "699efa10-83ff-4996-9994-011aba21eb22",
     "showTitle": false,
     "title": ""
    }
   },
   "outputs": [],
   "source": []
  }
 ],
 "metadata": {
  "application/vnd.databricks.v1+notebook": {
   "dashboards": [],
   "environmentMetadata": null,
   "language": "python",
   "notebookMetadata": {
    "mostRecentlyExecutedCommandWithImplicitDF": {
     "commandId": 54215555929148,
     "dataframes": [
      "_sqldf"
     ]
    },
    "pythonIndentUnit": 4
   },
   "notebookName": "MACHINE LEARNING - Decision Tree",
   "widgets": {}
  }
 },
 "nbformat": 4,
 "nbformat_minor": 0
}
